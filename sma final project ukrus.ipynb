{
 "cells": [
  {
   "cell_type": "code",
   "execution_count": 1,
   "id": "b38dc6c7",
   "metadata": {},
   "outputs": [],
   "source": [
    "import tweepy\n",
    "import pandas as pd\n",
    "import numpy as np\n",
    "import matplotlib.pyplot as plt"
   ]
  },
  {
   "cell_type": "markdown",
   "id": "9084d5e7",
   "metadata": {},
   "source": [
    "# Building Model to identify users as bots / humans"
   ]
  },
  {
   "cell_type": "code",
   "execution_count": 4,
   "id": "a50ad213",
   "metadata": {},
   "outputs": [
    {
     "data": {
      "text/plain": [
       "2000"
      ]
     },
     "execution_count": 4,
     "metadata": {},
     "output_type": "execute_result"
    }
   ],
   "source": [
    "human_bot = pd.read_csv('twitter_human_bots_dataset.csv')\n",
    "bot_or_human = human_bot.id.values.tolist()\n",
    "new_bot = bot_or_human[0:2000]\n",
    "len(new_bot)"
   ]
  },
  {
   "cell_type": "code",
   "execution_count": 115,
   "id": "26647797",
   "metadata": {},
   "outputs": [
    {
     "name": "stderr",
     "output_type": "stream",
     "text": [
      "WARNING:tweepy.api:Unexpected parameter: id\n",
      "WARNING:tweepy.api:Unexpected parameter: id\n",
      "WARNING:tweepy.api:Unexpected parameter: id\n",
      "WARNING:tweepy.api:Unexpected parameter: id\n",
      "WARNING:tweepy.api:Unexpected parameter: id\n",
      "WARNING:tweepy.api:Unexpected parameter: id\n",
      "WARNING:tweepy.api:Unexpected parameter: id\n"
     ]
    },
    {
     "name": "stdout",
     "output_type": "stream",
     "text": [
      "Status Failed On, 401 Unauthorized\n",
      "Not authorized.\n"
     ]
    },
    {
     "name": "stderr",
     "output_type": "stream",
     "text": [
      "WARNING:tweepy.api:Unexpected parameter: id\n",
      "WARNING:tweepy.api:Unexpected parameter: id\n",
      "WARNING:tweepy.api:Unexpected parameter: id\n",
      "WARNING:tweepy.api:Unexpected parameter: id\n",
      "WARNING:tweepy.api:Unexpected parameter: id\n",
      "WARNING:tweepy.api:Unexpected parameter: id\n",
      "WARNING:tweepy.api:Unexpected parameter: id\n",
      "WARNING:tweepy.api:Unexpected parameter: id\n",
      "WARNING:tweepy.api:Unexpected parameter: id\n",
      "WARNING:tweepy.api:Unexpected parameter: id\n",
      "WARNING:tweepy.api:Unexpected parameter: id\n",
      "WARNING:tweepy.api:Unexpected parameter: id\n",
      "WARNING:tweepy.api:Unexpected parameter: id\n",
      "WARNING:tweepy.api:Unexpected parameter: id\n"
     ]
    },
    {
     "name": "stdout",
     "output_type": "stream",
     "text": [
      "Status Failed On, 401 Unauthorized\n",
      "Not authorized.\n"
     ]
    },
    {
     "name": "stderr",
     "output_type": "stream",
     "text": [
      "WARNING:tweepy.api:Unexpected parameter: id\n",
      "WARNING:tweepy.api:Unexpected parameter: id\n",
      "WARNING:tweepy.api:Unexpected parameter: id\n",
      "WARNING:tweepy.api:Unexpected parameter: id\n",
      "WARNING:tweepy.api:Unexpected parameter: id\n",
      "WARNING:tweepy.api:Unexpected parameter: id\n",
      "WARNING:tweepy.api:Unexpected parameter: id\n",
      "WARNING:tweepy.api:Unexpected parameter: id\n",
      "WARNING:tweepy.api:Unexpected parameter: id\n",
      "WARNING:tweepy.api:Unexpected parameter: id\n",
      "WARNING:tweepy.api:Unexpected parameter: id\n",
      "WARNING:tweepy.api:Unexpected parameter: id\n",
      "WARNING:tweepy.api:Unexpected parameter: id\n",
      "WARNING:tweepy.api:Unexpected parameter: id\n",
      "WARNING:tweepy.api:Unexpected parameter: id\n",
      "WARNING:tweepy.api:Unexpected parameter: id\n",
      "WARNING:tweepy.api:Unexpected parameter: id\n"
     ]
    },
    {
     "name": "stdout",
     "output_type": "stream",
     "text": [
      "Status Failed On, 401 Unauthorized\n",
      "Not authorized.\n"
     ]
    },
    {
     "name": "stderr",
     "output_type": "stream",
     "text": [
      "WARNING:tweepy.api:Unexpected parameter: id\n",
      "WARNING:tweepy.api:Unexpected parameter: id\n",
      "WARNING:tweepy.api:Unexpected parameter: id\n",
      "WARNING:tweepy.api:Unexpected parameter: id\n",
      "WARNING:tweepy.api:Unexpected parameter: id\n",
      "WARNING:tweepy.api:Unexpected parameter: id\n",
      "WARNING:tweepy.api:Unexpected parameter: id\n",
      "WARNING:tweepy.api:Unexpected parameter: id\n",
      "WARNING:tweepy.api:Unexpected parameter: id\n",
      "WARNING:tweepy.api:Unexpected parameter: id\n",
      "WARNING:tweepy.api:Unexpected parameter: id\n",
      "WARNING:tweepy.api:Unexpected parameter: id\n",
      "WARNING:tweepy.api:Unexpected parameter: id\n",
      "WARNING:tweepy.api:Unexpected parameter: id\n"
     ]
    },
    {
     "name": "stdout",
     "output_type": "stream",
     "text": [
      "Status Failed On, 404 Not Found\n",
      "34 - Sorry, that page does not exist.\n"
     ]
    },
    {
     "name": "stderr",
     "output_type": "stream",
     "text": [
      "WARNING:tweepy.api:Unexpected parameter: id\n",
      "WARNING:tweepy.api:Unexpected parameter: id\n",
      "WARNING:tweepy.api:Unexpected parameter: id\n",
      "WARNING:tweepy.api:Unexpected parameter: id\n",
      "WARNING:tweepy.api:Unexpected parameter: id\n",
      "WARNING:tweepy.api:Unexpected parameter: id\n",
      "WARNING:tweepy.api:Unexpected parameter: id\n",
      "WARNING:tweepy.api:Unexpected parameter: id\n",
      "WARNING:tweepy.api:Unexpected parameter: id\n",
      "WARNING:tweepy.api:Unexpected parameter: id\n",
      "WARNING:tweepy.api:Unexpected parameter: id\n",
      "WARNING:tweepy.api:Unexpected parameter: id\n",
      "WARNING:tweepy.api:Unexpected parameter: id\n",
      "WARNING:tweepy.api:Unexpected parameter: id\n",
      "WARNING:tweepy.api:Unexpected parameter: id\n",
      "WARNING:tweepy.api:Unexpected parameter: id\n",
      "WARNING:tweepy.api:Unexpected parameter: id\n",
      "WARNING:tweepy.api:Unexpected parameter: id\n",
      "WARNING:tweepy.api:Unexpected parameter: id\n",
      "WARNING:tweepy.api:Unexpected parameter: id\n",
      "WARNING:tweepy.api:Unexpected parameter: id\n",
      "WARNING:tweepy.api:Unexpected parameter: id\n",
      "WARNING:tweepy.api:Unexpected parameter: id\n"
     ]
    },
    {
     "name": "stdout",
     "output_type": "stream",
     "text": [
      "Status Failed On, 401 Unauthorized\n",
      "Not authorized.\n"
     ]
    },
    {
     "name": "stderr",
     "output_type": "stream",
     "text": [
      "WARNING:tweepy.api:Unexpected parameter: id\n",
      "WARNING:tweepy.api:Unexpected parameter: id\n",
      "WARNING:tweepy.api:Unexpected parameter: id\n",
      "WARNING:tweepy.api:Unexpected parameter: id\n",
      "WARNING:tweepy.api:Unexpected parameter: id\n",
      "WARNING:tweepy.api:Unexpected parameter: id\n",
      "WARNING:tweepy.api:Unexpected parameter: id\n",
      "WARNING:tweepy.api:Unexpected parameter: id\n",
      "WARNING:tweepy.api:Unexpected parameter: id\n",
      "WARNING:tweepy.api:Unexpected parameter: id\n",
      "WARNING:tweepy.api:Unexpected parameter: id\n",
      "WARNING:tweepy.api:Unexpected parameter: id\n",
      "WARNING:tweepy.api:Unexpected parameter: id\n",
      "WARNING:tweepy.api:Unexpected parameter: id\n",
      "WARNING:tweepy.api:Unexpected parameter: id\n",
      "WARNING:tweepy.api:Unexpected parameter: id\n",
      "WARNING:tweepy.api:Unexpected parameter: id\n",
      "WARNING:tweepy.api:Unexpected parameter: id\n",
      "WARNING:tweepy.api:Unexpected parameter: id\n",
      "WARNING:tweepy.api:Unexpected parameter: id\n",
      "WARNING:tweepy.api:Unexpected parameter: id\n",
      "WARNING:tweepy.api:Unexpected parameter: id\n"
     ]
    },
    {
     "name": "stdout",
     "output_type": "stream",
     "text": [
      "Status Failed On, 401 Unauthorized\n",
      "Not authorized.\n"
     ]
    },
    {
     "name": "stderr",
     "output_type": "stream",
     "text": [
      "WARNING:tweepy.api:Unexpected parameter: id\n",
      "WARNING:tweepy.api:Unexpected parameter: id\n",
      "WARNING:tweepy.api:Unexpected parameter: id\n"
     ]
    },
    {
     "name": "stdout",
     "output_type": "stream",
     "text": [
      "Status Failed On, 401 Unauthorized\n",
      "Not authorized.\n"
     ]
    },
    {
     "name": "stderr",
     "output_type": "stream",
     "text": [
      "WARNING:tweepy.api:Unexpected parameter: id\n",
      "WARNING:tweepy.api:Unexpected parameter: id\n",
      "WARNING:tweepy.api:Unexpected parameter: id\n",
      "WARNING:tweepy.api:Unexpected parameter: id\n",
      "WARNING:tweepy.api:Unexpected parameter: id\n",
      "WARNING:tweepy.api:Unexpected parameter: id\n",
      "WARNING:tweepy.api:Unexpected parameter: id\n",
      "WARNING:tweepy.api:Unexpected parameter: id\n",
      "WARNING:tweepy.api:Unexpected parameter: id\n",
      "WARNING:tweepy.api:Unexpected parameter: id\n",
      "WARNING:tweepy.api:Unexpected parameter: id\n",
      "WARNING:tweepy.api:Unexpected parameter: id\n",
      "WARNING:tweepy.api:Unexpected parameter: id\n",
      "WARNING:tweepy.api:Unexpected parameter: id\n",
      "WARNING:tweepy.api:Unexpected parameter: id\n",
      "WARNING:tweepy.api:Unexpected parameter: id\n",
      "WARNING:tweepy.api:Unexpected parameter: id\n",
      "WARNING:tweepy.api:Unexpected parameter: id\n",
      "WARNING:tweepy.api:Unexpected parameter: id\n",
      "WARNING:tweepy.api:Unexpected parameter: id\n",
      "WARNING:tweepy.api:Unexpected parameter: id\n",
      "WARNING:tweepy.api:Unexpected parameter: id\n",
      "WARNING:tweepy.api:Unexpected parameter: id\n",
      "WARNING:tweepy.api:Unexpected parameter: id\n",
      "WARNING:tweepy.api:Unexpected parameter: id\n",
      "WARNING:tweepy.api:Unexpected parameter: id\n",
      "WARNING:tweepy.api:Unexpected parameter: id\n",
      "WARNING:tweepy.api:Unexpected parameter: id\n",
      "WARNING:tweepy.api:Unexpected parameter: id\n",
      "WARNING:tweepy.api:Unexpected parameter: id\n",
      "WARNING:tweepy.api:Unexpected parameter: id\n"
     ]
    },
    {
     "name": "stdout",
     "output_type": "stream",
     "text": [
      "Status Failed On, 401 Unauthorized\n",
      "Not authorized.\n"
     ]
    },
    {
     "name": "stderr",
     "output_type": "stream",
     "text": [
      "WARNING:tweepy.api:Unexpected parameter: id\n"
     ]
    },
    {
     "name": "stdout",
     "output_type": "stream",
     "text": [
      "Status Failed On, 404 Not Found\n",
      "34 - Sorry, that page does not exist.\n"
     ]
    },
    {
     "name": "stderr",
     "output_type": "stream",
     "text": [
      "WARNING:tweepy.api:Unexpected parameter: id\n"
     ]
    },
    {
     "name": "stdout",
     "output_type": "stream",
     "text": [
      "Status Failed On, 404 Not Found\n",
      "34 - Sorry, that page does not exist.\n"
     ]
    },
    {
     "name": "stderr",
     "output_type": "stream",
     "text": [
      "WARNING:tweepy.api:Unexpected parameter: id\n",
      "WARNING:tweepy.api:Unexpected parameter: id\n",
      "WARNING:tweepy.api:Unexpected parameter: id\n"
     ]
    },
    {
     "name": "stdout",
     "output_type": "stream",
     "text": [
      "Status Failed On, 401 Unauthorized\n",
      "Not authorized.\n"
     ]
    },
    {
     "name": "stderr",
     "output_type": "stream",
     "text": [
      "WARNING:tweepy.api:Unexpected parameter: id\n",
      "WARNING:tweepy.api:Unexpected parameter: id\n",
      "WARNING:tweepy.api:Unexpected parameter: id\n",
      "WARNING:tweepy.api:Unexpected parameter: id\n",
      "WARNING:tweepy.api:Unexpected parameter: id\n",
      "WARNING:tweepy.api:Unexpected parameter: id\n",
      "WARNING:tweepy.api:Unexpected parameter: id\n",
      "WARNING:tweepy.api:Unexpected parameter: id\n"
     ]
    },
    {
     "name": "stdout",
     "output_type": "stream",
     "text": [
      "Status Failed On, 404 Not Found\n",
      "34 - Sorry, that page does not exist.\n"
     ]
    },
    {
     "name": "stderr",
     "output_type": "stream",
     "text": [
      "WARNING:tweepy.api:Unexpected parameter: id\n",
      "WARNING:tweepy.api:Unexpected parameter: id\n",
      "WARNING:tweepy.api:Unexpected parameter: id\n",
      "WARNING:tweepy.api:Unexpected parameter: id\n",
      "WARNING:tweepy.api:Unexpected parameter: id\n"
     ]
    },
    {
     "name": "stdout",
     "output_type": "stream",
     "text": [
      "Status Failed On, 401 Unauthorized\n",
      "Not authorized.\n"
     ]
    },
    {
     "name": "stderr",
     "output_type": "stream",
     "text": [
      "WARNING:tweepy.api:Unexpected parameter: id\n",
      "WARNING:tweepy.api:Unexpected parameter: id\n",
      "WARNING:tweepy.api:Unexpected parameter: id\n",
      "WARNING:tweepy.api:Unexpected parameter: id\n",
      "WARNING:tweepy.api:Unexpected parameter: id\n",
      "WARNING:tweepy.api:Unexpected parameter: id\n",
      "WARNING:tweepy.api:Unexpected parameter: id\n",
      "WARNING:tweepy.api:Unexpected parameter: id\n",
      "WARNING:tweepy.api:Unexpected parameter: id\n",
      "WARNING:tweepy.api:Unexpected parameter: id\n",
      "WARNING:tweepy.api:Unexpected parameter: id\n",
      "WARNING:tweepy.api:Unexpected parameter: id\n",
      "WARNING:tweepy.api:Unexpected parameter: id\n",
      "WARNING:tweepy.api:Unexpected parameter: id\n",
      "WARNING:tweepy.api:Unexpected parameter: id\n",
      "WARNING:tweepy.api:Unexpected parameter: id\n",
      "WARNING:tweepy.api:Unexpected parameter: id\n",
      "WARNING:tweepy.api:Unexpected parameter: id\n",
      "WARNING:tweepy.api:Unexpected parameter: id\n",
      "WARNING:tweepy.api:Unexpected parameter: id\n",
      "WARNING:tweepy.api:Unexpected parameter: id\n"
     ]
    },
    {
     "name": "stdout",
     "output_type": "stream",
     "text": [
      "Status Failed On, 401 Unauthorized\n",
      "Not authorized.\n"
     ]
    },
    {
     "name": "stderr",
     "output_type": "stream",
     "text": [
      "WARNING:tweepy.api:Unexpected parameter: id\n",
      "WARNING:tweepy.api:Unexpected parameter: id\n",
      "WARNING:tweepy.api:Unexpected parameter: id\n",
      "WARNING:tweepy.api:Unexpected parameter: id\n",
      "WARNING:tweepy.api:Unexpected parameter: id\n",
      "WARNING:tweepy.api:Unexpected parameter: id\n",
      "WARNING:tweepy.api:Unexpected parameter: id\n",
      "WARNING:tweepy.api:Unexpected parameter: id\n",
      "WARNING:tweepy.api:Unexpected parameter: id\n"
     ]
    },
    {
     "name": "stdout",
     "output_type": "stream",
     "text": [
      "Status Failed On, 401 Unauthorized\n",
      "Not authorized.\n"
     ]
    },
    {
     "name": "stderr",
     "output_type": "stream",
     "text": [
      "WARNING:tweepy.api:Unexpected parameter: id\n",
      "WARNING:tweepy.api:Unexpected parameter: id\n",
      "WARNING:tweepy.api:Unexpected parameter: id\n",
      "WARNING:tweepy.api:Unexpected parameter: id\n",
      "WARNING:tweepy.api:Unexpected parameter: id\n",
      "WARNING:tweepy.api:Unexpected parameter: id\n",
      "WARNING:tweepy.api:Unexpected parameter: id\n",
      "WARNING:tweepy.api:Unexpected parameter: id\n",
      "WARNING:tweepy.api:Unexpected parameter: id\n",
      "WARNING:tweepy.api:Unexpected parameter: id\n",
      "WARNING:tweepy.api:Unexpected parameter: id\n"
     ]
    },
    {
     "name": "stdout",
     "output_type": "stream",
     "text": [
      "Status Failed On, 401 Unauthorized\n",
      "Not authorized.\n"
     ]
    },
    {
     "name": "stderr",
     "output_type": "stream",
     "text": [
      "WARNING:tweepy.api:Unexpected parameter: id\n",
      "WARNING:tweepy.api:Unexpected parameter: id\n",
      "WARNING:tweepy.api:Unexpected parameter: id\n",
      "WARNING:tweepy.api:Unexpected parameter: id\n",
      "WARNING:tweepy.api:Unexpected parameter: id\n"
     ]
    },
    {
     "name": "stdout",
     "output_type": "stream",
     "text": [
      "Status Failed On, 401 Unauthorized\n",
      "Not authorized.\n"
     ]
    },
    {
     "name": "stderr",
     "output_type": "stream",
     "text": [
      "WARNING:tweepy.api:Unexpected parameter: id\n",
      "WARNING:tweepy.api:Unexpected parameter: id\n",
      "WARNING:tweepy.api:Unexpected parameter: id\n",
      "WARNING:tweepy.api:Unexpected parameter: id\n",
      "WARNING:tweepy.api:Unexpected parameter: id\n",
      "WARNING:tweepy.api:Unexpected parameter: id\n",
      "WARNING:tweepy.api:Unexpected parameter: id\n",
      "WARNING:tweepy.api:Unexpected parameter: id\n"
     ]
    },
    {
     "name": "stdout",
     "output_type": "stream",
     "text": [
      "Status Failed On, 401 Unauthorized\n",
      "Not authorized.\n"
     ]
    },
    {
     "name": "stderr",
     "output_type": "stream",
     "text": [
      "WARNING:tweepy.api:Unexpected parameter: id\n",
      "WARNING:tweepy.api:Unexpected parameter: id\n",
      "WARNING:tweepy.api:Unexpected parameter: id\n",
      "WARNING:tweepy.api:Unexpected parameter: id\n",
      "WARNING:tweepy.api:Unexpected parameter: id\n",
      "WARNING:tweepy.api:Unexpected parameter: id\n",
      "WARNING:tweepy.api:Unexpected parameter: id\n",
      "WARNING:tweepy.api:Unexpected parameter: id\n",
      "WARNING:tweepy.api:Unexpected parameter: id\n"
     ]
    },
    {
     "name": "stdout",
     "output_type": "stream",
     "text": [
      "Status Failed On, 404 Not Found\n",
      "34 - Sorry, that page does not exist.\n"
     ]
    },
    {
     "name": "stderr",
     "output_type": "stream",
     "text": [
      "WARNING:tweepy.api:Unexpected parameter: id\n",
      "WARNING:tweepy.api:Unexpected parameter: id\n",
      "WARNING:tweepy.api:Unexpected parameter: id\n",
      "WARNING:tweepy.api:Unexpected parameter: id\n",
      "WARNING:tweepy.api:Unexpected parameter: id\n",
      "WARNING:tweepy.api:Unexpected parameter: id\n"
     ]
    },
    {
     "name": "stdout",
     "output_type": "stream",
     "text": [
      "Status Failed On, 401 Unauthorized\n",
      "Not authorized.\n"
     ]
    },
    {
     "name": "stderr",
     "output_type": "stream",
     "text": [
      "WARNING:tweepy.api:Unexpected parameter: id\n",
      "WARNING:tweepy.api:Unexpected parameter: id\n",
      "WARNING:tweepy.api:Unexpected parameter: id\n",
      "WARNING:tweepy.api:Unexpected parameter: id\n",
      "WARNING:tweepy.api:Unexpected parameter: id\n",
      "WARNING:tweepy.api:Unexpected parameter: id\n",
      "WARNING:tweepy.api:Unexpected parameter: id\n"
     ]
    },
    {
     "name": "stdout",
     "output_type": "stream",
     "text": [
      "Status Failed On, 401 Unauthorized\n",
      "Not authorized.\n"
     ]
    },
    {
     "name": "stderr",
     "output_type": "stream",
     "text": [
      "WARNING:tweepy.api:Unexpected parameter: id\n",
      "WARNING:tweepy.api:Unexpected parameter: id\n",
      "WARNING:tweepy.api:Unexpected parameter: id\n",
      "WARNING:tweepy.api:Unexpected parameter: id\n"
     ]
    },
    {
     "name": "stdout",
     "output_type": "stream",
     "text": [
      "Status Failed On, 401 Unauthorized\n",
      "Not authorized.\n"
     ]
    },
    {
     "name": "stderr",
     "output_type": "stream",
     "text": [
      "WARNING:tweepy.api:Unexpected parameter: id\n",
      "WARNING:tweepy.api:Unexpected parameter: id\n",
      "WARNING:tweepy.api:Unexpected parameter: id\n",
      "WARNING:tweepy.api:Unexpected parameter: id\n",
      "WARNING:tweepy.api:Unexpected parameter: id\n",
      "WARNING:tweepy.api:Unexpected parameter: id\n"
     ]
    },
    {
     "name": "stdout",
     "output_type": "stream",
     "text": [
      "Status Failed On, 404 Not Found\n",
      "34 - Sorry, that page does not exist.\n"
     ]
    },
    {
     "name": "stderr",
     "output_type": "stream",
     "text": [
      "WARNING:tweepy.api:Unexpected parameter: id\n",
      "WARNING:tweepy.api:Unexpected parameter: id\n"
     ]
    },
    {
     "name": "stdout",
     "output_type": "stream",
     "text": [
      "Status Failed On, 401 Unauthorized\n",
      "Not authorized.\n"
     ]
    },
    {
     "name": "stderr",
     "output_type": "stream",
     "text": [
      "WARNING:tweepy.api:Unexpected parameter: id\n",
      "WARNING:tweepy.api:Unexpected parameter: id\n",
      "WARNING:tweepy.api:Unexpected parameter: id\n",
      "WARNING:tweepy.api:Unexpected parameter: id\n",
      "WARNING:tweepy.api:Unexpected parameter: id\n"
     ]
    },
    {
     "name": "stdout",
     "output_type": "stream",
     "text": [
      "Status Failed On, 404 Not Found\n",
      "34 - Sorry, that page does not exist.\n"
     ]
    },
    {
     "name": "stderr",
     "output_type": "stream",
     "text": [
      "WARNING:tweepy.api:Unexpected parameter: id\n",
      "WARNING:tweepy.api:Unexpected parameter: id\n",
      "WARNING:tweepy.api:Unexpected parameter: id\n"
     ]
    },
    {
     "name": "stdout",
     "output_type": "stream",
     "text": [
      "Status Failed On, 401 Unauthorized\n",
      "Not authorized.\n"
     ]
    },
    {
     "name": "stderr",
     "output_type": "stream",
     "text": [
      "WARNING:tweepy.api:Unexpected parameter: id\n",
      "WARNING:tweepy.api:Unexpected parameter: id\n",
      "WARNING:tweepy.api:Unexpected parameter: id\n",
      "WARNING:tweepy.api:Unexpected parameter: id\n",
      "WARNING:tweepy.api:Unexpected parameter: id\n",
      "WARNING:tweepy.api:Unexpected parameter: id\n",
      "WARNING:tweepy.api:Unexpected parameter: id\n",
      "WARNING:tweepy.api:Unexpected parameter: id\n",
      "WARNING:tweepy.api:Unexpected parameter: id\n",
      "WARNING:tweepy.api:Unexpected parameter: id\n",
      "WARNING:tweepy.api:Unexpected parameter: id\n",
      "WARNING:tweepy.api:Unexpected parameter: id\n",
      "WARNING:tweepy.api:Unexpected parameter: id\n",
      "WARNING:tweepy.api:Unexpected parameter: id\n",
      "WARNING:tweepy.api:Unexpected parameter: id\n",
      "WARNING:tweepy.api:Unexpected parameter: id\n",
      "WARNING:tweepy.api:Unexpected parameter: id\n",
      "WARNING:tweepy.api:Unexpected parameter: id\n"
     ]
    },
    {
     "name": "stdout",
     "output_type": "stream",
     "text": [
      "Status Failed On, 401 Unauthorized\n",
      "Not authorized.\n"
     ]
    },
    {
     "name": "stderr",
     "output_type": "stream",
     "text": [
      "WARNING:tweepy.api:Unexpected parameter: id\n",
      "WARNING:tweepy.api:Unexpected parameter: id\n",
      "WARNING:tweepy.api:Unexpected parameter: id\n"
     ]
    },
    {
     "name": "stdout",
     "output_type": "stream",
     "text": [
      "Status Failed On, 404 Not Found\n",
      "34 - Sorry, that page does not exist.\n"
     ]
    },
    {
     "name": "stderr",
     "output_type": "stream",
     "text": [
      "WARNING:tweepy.api:Unexpected parameter: id\n",
      "WARNING:tweepy.api:Unexpected parameter: id\n"
     ]
    },
    {
     "name": "stdout",
     "output_type": "stream",
     "text": [
      "Status Failed On, 401 Unauthorized\n",
      "Not authorized.\n"
     ]
    },
    {
     "name": "stderr",
     "output_type": "stream",
     "text": [
      "WARNING:tweepy.api:Unexpected parameter: id\n",
      "WARNING:tweepy.api:Unexpected parameter: id\n",
      "WARNING:tweepy.api:Unexpected parameter: id\n",
      "WARNING:tweepy.api:Unexpected parameter: id\n",
      "WARNING:tweepy.api:Unexpected parameter: id\n",
      "WARNING:tweepy.api:Unexpected parameter: id\n",
      "WARNING:tweepy.api:Unexpected parameter: id\n",
      "WARNING:tweepy.api:Unexpected parameter: id\n",
      "WARNING:tweepy.api:Unexpected parameter: id\n"
     ]
    },
    {
     "name": "stdout",
     "output_type": "stream",
     "text": [
      "Status Failed On, 401 Unauthorized\n",
      "Not authorized.\n"
     ]
    },
    {
     "name": "stderr",
     "output_type": "stream",
     "text": [
      "WARNING:tweepy.api:Unexpected parameter: id\n",
      "WARNING:tweepy.api:Unexpected parameter: id\n",
      "WARNING:tweepy.api:Unexpected parameter: id\n",
      "WARNING:tweepy.api:Unexpected parameter: id\n",
      "WARNING:tweepy.api:Unexpected parameter: id\n",
      "WARNING:tweepy.api:Unexpected parameter: id\n",
      "WARNING:tweepy.api:Unexpected parameter: id\n",
      "WARNING:tweepy.api:Unexpected parameter: id\n",
      "WARNING:tweepy.api:Unexpected parameter: id\n",
      "WARNING:tweepy.api:Unexpected parameter: id\n",
      "WARNING:tweepy.api:Unexpected parameter: id\n",
      "WARNING:tweepy.api:Unexpected parameter: id\n",
      "WARNING:tweepy.api:Unexpected parameter: id\n",
      "WARNING:tweepy.api:Unexpected parameter: id\n",
      "WARNING:tweepy.api:Unexpected parameter: id\n",
      "WARNING:tweepy.api:Unexpected parameter: id\n",
      "WARNING:tweepy.api:Unexpected parameter: id\n",
      "WARNING:tweepy.api:Unexpected parameter: id\n"
     ]
    },
    {
     "name": "stdout",
     "output_type": "stream",
     "text": [
      "Status Failed On, 401 Unauthorized\n",
      "Not authorized.\n"
     ]
    },
    {
     "name": "stderr",
     "output_type": "stream",
     "text": [
      "WARNING:tweepy.api:Unexpected parameter: id\n",
      "WARNING:tweepy.api:Unexpected parameter: id\n",
      "WARNING:tweepy.api:Unexpected parameter: id\n",
      "WARNING:tweepy.api:Unexpected parameter: id\n",
      "WARNING:tweepy.api:Unexpected parameter: id\n",
      "WARNING:tweepy.api:Unexpected parameter: id\n",
      "WARNING:tweepy.api:Unexpected parameter: id\n",
      "WARNING:tweepy.api:Unexpected parameter: id\n",
      "WARNING:tweepy.api:Unexpected parameter: id\n",
      "WARNING:tweepy.api:Unexpected parameter: id\n",
      "WARNING:tweepy.api:Unexpected parameter: id\n",
      "WARNING:tweepy.api:Unexpected parameter: id\n",
      "WARNING:tweepy.api:Unexpected parameter: id\n",
      "WARNING:tweepy.api:Unexpected parameter: id\n",
      "WARNING:tweepy.api:Unexpected parameter: id\n",
      "WARNING:tweepy.api:Unexpected parameter: id\n",
      "WARNING:tweepy.api:Unexpected parameter: id\n",
      "WARNING:tweepy.api:Unexpected parameter: id\n"
     ]
    },
    {
     "name": "stdout",
     "output_type": "stream",
     "text": [
      "Status Failed On, 404 Not Found\n",
      "34 - Sorry, that page does not exist.\n"
     ]
    },
    {
     "name": "stderr",
     "output_type": "stream",
     "text": [
      "WARNING:tweepy.api:Unexpected parameter: id\n",
      "WARNING:tweepy.api:Unexpected parameter: id\n",
      "WARNING:tweepy.api:Unexpected parameter: id\n",
      "WARNING:tweepy.api:Unexpected parameter: id\n",
      "WARNING:tweepy.api:Unexpected parameter: id\n",
      "WARNING:tweepy.api:Unexpected parameter: id\n",
      "WARNING:tweepy.api:Unexpected parameter: id\n",
      "WARNING:tweepy.api:Unexpected parameter: id\n",
      "WARNING:tweepy.api:Unexpected parameter: id\n",
      "WARNING:tweepy.api:Unexpected parameter: id\n",
      "WARNING:tweepy.api:Unexpected parameter: id\n",
      "WARNING:tweepy.api:Unexpected parameter: id\n",
      "WARNING:tweepy.api:Unexpected parameter: id\n",
      "WARNING:tweepy.api:Unexpected parameter: id\n",
      "WARNING:tweepy.api:Unexpected parameter: id\n"
     ]
    },
    {
     "name": "stdout",
     "output_type": "stream",
     "text": [
      "Status Failed On, 401 Unauthorized\n",
      "Not authorized.\n"
     ]
    },
    {
     "name": "stderr",
     "output_type": "stream",
     "text": [
      "WARNING:tweepy.api:Unexpected parameter: id\n",
      "WARNING:tweepy.api:Unexpected parameter: id\n",
      "WARNING:tweepy.api:Unexpected parameter: id\n",
      "WARNING:tweepy.api:Unexpected parameter: id\n",
      "WARNING:tweepy.api:Unexpected parameter: id\n",
      "WARNING:tweepy.api:Unexpected parameter: id\n",
      "WARNING:tweepy.api:Unexpected parameter: id\n",
      "WARNING:tweepy.api:Unexpected parameter: id\n",
      "WARNING:tweepy.api:Unexpected parameter: id\n",
      "WARNING:tweepy.api:Unexpected parameter: id\n",
      "WARNING:tweepy.api:Unexpected parameter: id\n",
      "WARNING:tweepy.api:Unexpected parameter: id\n"
     ]
    },
    {
     "name": "stdout",
     "output_type": "stream",
     "text": [
      "Status Failed On, 401 Unauthorized\n",
      "Not authorized.\n"
     ]
    },
    {
     "name": "stderr",
     "output_type": "stream",
     "text": [
      "WARNING:tweepy.api:Unexpected parameter: id\n",
      "WARNING:tweepy.api:Unexpected parameter: id\n"
     ]
    },
    {
     "name": "stdout",
     "output_type": "stream",
     "text": [
      "Status Failed On, 401 Unauthorized\n",
      "Not authorized.\n"
     ]
    },
    {
     "name": "stderr",
     "output_type": "stream",
     "text": [
      "WARNING:tweepy.api:Unexpected parameter: id\n",
      "WARNING:tweepy.api:Unexpected parameter: id\n"
     ]
    },
    {
     "name": "stdout",
     "output_type": "stream",
     "text": [
      "Status Failed On, 401 Unauthorized\n",
      "Not authorized.\n"
     ]
    },
    {
     "name": "stderr",
     "output_type": "stream",
     "text": [
      "WARNING:tweepy.api:Unexpected parameter: id\n",
      "WARNING:tweepy.api:Unexpected parameter: id\n",
      "WARNING:tweepy.api:Unexpected parameter: id\n",
      "WARNING:tweepy.api:Unexpected parameter: id\n",
      "WARNING:tweepy.api:Unexpected parameter: id\n",
      "WARNING:tweepy.api:Unexpected parameter: id\n"
     ]
    },
    {
     "name": "stdout",
     "output_type": "stream",
     "text": [
      "Status Failed On, 401 Unauthorized\n",
      "Not authorized.\n"
     ]
    },
    {
     "name": "stderr",
     "output_type": "stream",
     "text": [
      "WARNING:tweepy.api:Unexpected parameter: id\n",
      "WARNING:tweepy.api:Unexpected parameter: id\n",
      "WARNING:tweepy.api:Unexpected parameter: id\n",
      "WARNING:tweepy.api:Unexpected parameter: id\n",
      "WARNING:tweepy.api:Unexpected parameter: id\n",
      "WARNING:tweepy.api:Unexpected parameter: id\n"
     ]
    },
    {
     "name": "stdout",
     "output_type": "stream",
     "text": [
      "Status Failed On, 401 Unauthorized\n",
      "Not authorized.\n"
     ]
    },
    {
     "name": "stderr",
     "output_type": "stream",
     "text": [
      "WARNING:tweepy.api:Unexpected parameter: id\n",
      "WARNING:tweepy.api:Unexpected parameter: id\n"
     ]
    },
    {
     "name": "stdout",
     "output_type": "stream",
     "text": [
      "Status Failed On, 404 Not Found\n",
      "34 - Sorry, that page does not exist.\n"
     ]
    },
    {
     "name": "stderr",
     "output_type": "stream",
     "text": [
      "WARNING:tweepy.api:Unexpected parameter: id\n",
      "WARNING:tweepy.api:Unexpected parameter: id\n",
      "WARNING:tweepy.api:Unexpected parameter: id\n"
     ]
    },
    {
     "name": "stdout",
     "output_type": "stream",
     "text": [
      "Status Failed On, 401 Unauthorized\n",
      "Not authorized.\n"
     ]
    },
    {
     "name": "stderr",
     "output_type": "stream",
     "text": [
      "WARNING:tweepy.api:Unexpected parameter: id\n"
     ]
    },
    {
     "name": "stdout",
     "output_type": "stream",
     "text": [
      "Status Failed On, 401 Unauthorized\n",
      "Not authorized.\n"
     ]
    },
    {
     "name": "stderr",
     "output_type": "stream",
     "text": [
      "WARNING:tweepy.api:Unexpected parameter: id\n",
      "WARNING:tweepy.api:Unexpected parameter: id\n",
      "WARNING:tweepy.api:Unexpected parameter: id\n"
     ]
    },
    {
     "name": "stdout",
     "output_type": "stream",
     "text": [
      "Status Failed On, 401 Unauthorized\n",
      "Not authorized.\n"
     ]
    },
    {
     "name": "stderr",
     "output_type": "stream",
     "text": [
      "WARNING:tweepy.api:Unexpected parameter: id\n",
      "WARNING:tweepy.api:Unexpected parameter: id\n",
      "WARNING:tweepy.api:Unexpected parameter: id\n",
      "WARNING:tweepy.api:Unexpected parameter: id\n",
      "WARNING:tweepy.api:Unexpected parameter: id\n",
      "WARNING:tweepy.api:Unexpected parameter: id\n",
      "WARNING:tweepy.api:Unexpected parameter: id\n",
      "WARNING:tweepy.api:Unexpected parameter: id\n",
      "WARNING:tweepy.api:Unexpected parameter: id\n",
      "WARNING:tweepy.api:Unexpected parameter: id\n",
      "WARNING:tweepy.api:Unexpected parameter: id\n",
      "WARNING:tweepy.api:Unexpected parameter: id\n",
      "WARNING:tweepy.api:Unexpected parameter: id\n",
      "WARNING:tweepy.api:Unexpected parameter: id\n"
     ]
    },
    {
     "name": "stdout",
     "output_type": "stream",
     "text": [
      "Status Failed On, 401 Unauthorized\n",
      "Not authorized.\n"
     ]
    },
    {
     "name": "stderr",
     "output_type": "stream",
     "text": [
      "WARNING:tweepy.api:Unexpected parameter: id\n",
      "WARNING:tweepy.api:Unexpected parameter: id\n",
      "WARNING:tweepy.api:Unexpected parameter: id\n",
      "WARNING:tweepy.api:Unexpected parameter: id\n",
      "WARNING:tweepy.api:Unexpected parameter: id\n",
      "WARNING:tweepy.api:Unexpected parameter: id\n",
      "WARNING:tweepy.api:Unexpected parameter: id\n",
      "WARNING:tweepy.api:Unexpected parameter: id\n",
      "WARNING:tweepy.api:Unexpected parameter: id\n",
      "WARNING:tweepy.api:Unexpected parameter: id\n",
      "WARNING:tweepy.api:Unexpected parameter: id\n",
      "WARNING:tweepy.api:Unexpected parameter: id\n",
      "WARNING:tweepy.api:Unexpected parameter: id\n",
      "WARNING:tweepy.api:Unexpected parameter: id\n",
      "WARNING:tweepy.api:Unexpected parameter: id\n",
      "WARNING:tweepy.api:Unexpected parameter: id\n",
      "WARNING:tweepy.api:Unexpected parameter: id\n",
      "WARNING:tweepy.api:Unexpected parameter: id\n",
      "WARNING:tweepy.api:Unexpected parameter: id\n",
      "WARNING:tweepy.api:Unexpected parameter: id\n",
      "WARNING:tweepy.api:Unexpected parameter: id\n",
      "WARNING:tweepy.api:Unexpected parameter: id\n"
     ]
    },
    {
     "name": "stdout",
     "output_type": "stream",
     "text": [
      "Status Failed On, 401 Unauthorized\n",
      "Not authorized.\n"
     ]
    },
    {
     "name": "stderr",
     "output_type": "stream",
     "text": [
      "WARNING:tweepy.api:Unexpected parameter: id\n",
      "WARNING:tweepy.api:Unexpected parameter: id\n",
      "WARNING:tweepy.api:Unexpected parameter: id\n",
      "WARNING:tweepy.api:Unexpected parameter: id\n",
      "WARNING:tweepy.api:Unexpected parameter: id\n",
      "WARNING:tweepy.api:Unexpected parameter: id\n",
      "WARNING:tweepy.api:Unexpected parameter: id\n",
      "WARNING:tweepy.api:Unexpected parameter: id\n",
      "WARNING:tweepy.api:Unexpected parameter: id\n",
      "WARNING:tweepy.api:Unexpected parameter: id\n",
      "WARNING:tweepy.api:Unexpected parameter: id\n",
      "WARNING:tweepy.api:Unexpected parameter: id\n",
      "WARNING:tweepy.api:Unexpected parameter: id\n",
      "WARNING:tweepy.api:Unexpected parameter: id\n",
      "WARNING:tweepy.api:Unexpected parameter: id\n",
      "WARNING:tweepy.api:Unexpected parameter: id\n",
      "WARNING:tweepy.api:Unexpected parameter: id\n",
      "WARNING:tweepy.api:Unexpected parameter: id\n",
      "WARNING:tweepy.api:Unexpected parameter: id\n",
      "WARNING:tweepy.api:Unexpected parameter: id\n",
      "WARNING:tweepy.api:Unexpected parameter: id\n"
     ]
    },
    {
     "name": "stdout",
     "output_type": "stream",
     "text": [
      "Status Failed On, 404 Not Found\n",
      "34 - Sorry, that page does not exist.\n"
     ]
    },
    {
     "name": "stderr",
     "output_type": "stream",
     "text": [
      "WARNING:tweepy.api:Unexpected parameter: id\n",
      "WARNING:tweepy.api:Unexpected parameter: id\n",
      "WARNING:tweepy.api:Unexpected parameter: id\n",
      "WARNING:tweepy.api:Unexpected parameter: id\n",
      "WARNING:tweepy.api:Unexpected parameter: id\n",
      "WARNING:tweepy.api:Unexpected parameter: id\n",
      "WARNING:tweepy.api:Unexpected parameter: id\n",
      "WARNING:tweepy.api:Unexpected parameter: id\n",
      "WARNING:tweepy.api:Unexpected parameter: id\n",
      "WARNING:tweepy.api:Unexpected parameter: id\n",
      "WARNING:tweepy.api:Unexpected parameter: id\n",
      "WARNING:tweepy.api:Unexpected parameter: id\n",
      "WARNING:tweepy.api:Unexpected parameter: id\n",
      "WARNING:tweepy.api:Unexpected parameter: id\n",
      "WARNING:tweepy.api:Unexpected parameter: id\n",
      "WARNING:tweepy.api:Unexpected parameter: id\n",
      "WARNING:tweepy.api:Unexpected parameter: id\n",
      "WARNING:tweepy.api:Unexpected parameter: id\n",
      "WARNING:tweepy.api:Unexpected parameter: id\n"
     ]
    },
    {
     "name": "stdout",
     "output_type": "stream",
     "text": [
      "Status Failed On, 401 Unauthorized\n",
      "Not authorized.\n",
      "Status Failed On, 401 Unauthorized\n",
      "Not authorized.\n"
     ]
    },
    {
     "name": "stderr",
     "output_type": "stream",
     "text": [
      "WARNING:tweepy.api:Unexpected parameter: id\n",
      "WARNING:tweepy.api:Unexpected parameter: id\n"
     ]
    },
    {
     "name": "stdout",
     "output_type": "stream",
     "text": [
      "Status Failed On, 404 Not Found\n",
      "34 - Sorry, that page does not exist.\n"
     ]
    },
    {
     "name": "stderr",
     "output_type": "stream",
     "text": [
      "WARNING:tweepy.api:Unexpected parameter: id\n"
     ]
    },
    {
     "name": "stdout",
     "output_type": "stream",
     "text": [
      "Status Failed On, 404 Not Found\n",
      "34 - Sorry, that page does not exist.\n"
     ]
    },
    {
     "name": "stderr",
     "output_type": "stream",
     "text": [
      "WARNING:tweepy.api:Unexpected parameter: id\n",
      "WARNING:tweepy.api:Unexpected parameter: id\n",
      "WARNING:tweepy.api:Unexpected parameter: id\n",
      "WARNING:tweepy.api:Unexpected parameter: id\n",
      "WARNING:tweepy.api:Unexpected parameter: id\n",
      "WARNING:tweepy.api:Unexpected parameter: id\n",
      "WARNING:tweepy.api:Unexpected parameter: id\n",
      "WARNING:tweepy.api:Unexpected parameter: id\n",
      "WARNING:tweepy.api:Unexpected parameter: id\n",
      "WARNING:tweepy.api:Unexpected parameter: id\n",
      "WARNING:tweepy.api:Unexpected parameter: id\n",
      "WARNING:tweepy.api:Unexpected parameter: id\n",
      "WARNING:tweepy.api:Unexpected parameter: id\n",
      "WARNING:tweepy.api:Unexpected parameter: id\n",
      "WARNING:tweepy.api:Unexpected parameter: id\n"
     ]
    },
    {
     "name": "stdout",
     "output_type": "stream",
     "text": [
      "Status Failed On, 401 Unauthorized\n",
      "Not authorized.\n"
     ]
    },
    {
     "name": "stderr",
     "output_type": "stream",
     "text": [
      "WARNING:tweepy.api:Unexpected parameter: id\n",
      "WARNING:tweepy.api:Unexpected parameter: id\n",
      "WARNING:tweepy.api:Unexpected parameter: id\n",
      "WARNING:tweepy.api:Unexpected parameter: id\n",
      "WARNING:tweepy.api:Unexpected parameter: id\n",
      "WARNING:tweepy.api:Unexpected parameter: id\n",
      "WARNING:tweepy.api:Unexpected parameter: id\n",
      "WARNING:tweepy.api:Unexpected parameter: id\n",
      "WARNING:tweepy.api:Unexpected parameter: id\n",
      "WARNING:tweepy.api:Unexpected parameter: id\n",
      "WARNING:tweepy.api:Unexpected parameter: id\n",
      "WARNING:tweepy.api:Unexpected parameter: id\n",
      "WARNING:tweepy.api:Unexpected parameter: id\n",
      "WARNING:tweepy.api:Unexpected parameter: id\n",
      "WARNING:tweepy.api:Unexpected parameter: id\n",
      "WARNING:tweepy.api:Unexpected parameter: id\n",
      "WARNING:tweepy.api:Unexpected parameter: id\n",
      "WARNING:tweepy.api:Unexpected parameter: id\n",
      "WARNING:tweepy.api:Unexpected parameter: id\n",
      "WARNING:tweepy.api:Unexpected parameter: id\n",
      "WARNING:tweepy.api:Unexpected parameter: id\n",
      "WARNING:tweepy.api:Unexpected parameter: id\n",
      "WARNING:tweepy.api:Unexpected parameter: id\n",
      "WARNING:tweepy.api:Unexpected parameter: id\n",
      "WARNING:tweepy.api:Unexpected parameter: id\n",
      "WARNING:tweepy.api:Unexpected parameter: id\n",
      "WARNING:tweepy.api:Unexpected parameter: id\n",
      "WARNING:tweepy.api:Unexpected parameter: id\n",
      "WARNING:tweepy.api:Unexpected parameter: id\n",
      "WARNING:tweepy.api:Unexpected parameter: id\n",
      "WARNING:tweepy.api:Unexpected parameter: id\n",
      "WARNING:tweepy.api:Unexpected parameter: id\n",
      "WARNING:tweepy.api:Unexpected parameter: id\n",
      "WARNING:tweepy.api:Unexpected parameter: id\n",
      "WARNING:tweepy.api:Unexpected parameter: id\n",
      "WARNING:tweepy.api:Unexpected parameter: id\n",
      "WARNING:tweepy.api:Unexpected parameter: id\n",
      "WARNING:tweepy.api:Unexpected parameter: id\n",
      "WARNING:tweepy.api:Unexpected parameter: id\n",
      "WARNING:tweepy.api:Unexpected parameter: id\n",
      "WARNING:tweepy.api:Unexpected parameter: id\n"
     ]
    },
    {
     "name": "stdout",
     "output_type": "stream",
     "text": [
      "Status Failed On, 401 Unauthorized\n",
      "Not authorized.\n"
     ]
    },
    {
     "name": "stderr",
     "output_type": "stream",
     "text": [
      "WARNING:tweepy.api:Unexpected parameter: id\n",
      "WARNING:tweepy.api:Unexpected parameter: id\n",
      "WARNING:tweepy.api:Unexpected parameter: id\n",
      "WARNING:tweepy.api:Unexpected parameter: id\n",
      "WARNING:tweepy.api:Unexpected parameter: id\n",
      "WARNING:tweepy.api:Unexpected parameter: id\n",
      "WARNING:tweepy.api:Unexpected parameter: id\n"
     ]
    },
    {
     "name": "stdout",
     "output_type": "stream",
     "text": [
      "Status Failed On, 401 Unauthorized\n",
      "Not authorized.\n"
     ]
    },
    {
     "name": "stderr",
     "output_type": "stream",
     "text": [
      "WARNING:tweepy.api:Unexpected parameter: id\n",
      "WARNING:tweepy.api:Unexpected parameter: id\n",
      "WARNING:tweepy.api:Unexpected parameter: id\n",
      "WARNING:tweepy.api:Unexpected parameter: id\n",
      "WARNING:tweepy.api:Unexpected parameter: id\n",
      "WARNING:tweepy.api:Unexpected parameter: id\n",
      "WARNING:tweepy.api:Unexpected parameter: id\n",
      "WARNING:tweepy.api:Unexpected parameter: id\n",
      "WARNING:tweepy.api:Unexpected parameter: id\n",
      "WARNING:tweepy.api:Unexpected parameter: id\n",
      "WARNING:tweepy.api:Unexpected parameter: id\n",
      "WARNING:tweepy.api:Unexpected parameter: id\n",
      "WARNING:tweepy.api:Unexpected parameter: id\n",
      "WARNING:tweepy.api:Unexpected parameter: id\n",
      "WARNING:tweepy.api:Unexpected parameter: id\n",
      "WARNING:tweepy.api:Unexpected parameter: id\n"
     ]
    },
    {
     "name": "stdout",
     "output_type": "stream",
     "text": [
      "Status Failed On, 401 Unauthorized\n",
      "Not authorized.\n"
     ]
    },
    {
     "name": "stderr",
     "output_type": "stream",
     "text": [
      "WARNING:tweepy.api:Unexpected parameter: id\n",
      "WARNING:tweepy.api:Unexpected parameter: id\n",
      "WARNING:tweepy.api:Unexpected parameter: id\n",
      "WARNING:tweepy.api:Unexpected parameter: id\n",
      "WARNING:tweepy.api:Unexpected parameter: id\n",
      "WARNING:tweepy.api:Unexpected parameter: id\n"
     ]
    },
    {
     "name": "stdout",
     "output_type": "stream",
     "text": [
      "Status Failed On, 401 Unauthorized\n",
      "Not authorized.\n"
     ]
    },
    {
     "name": "stderr",
     "output_type": "stream",
     "text": [
      "WARNING:tweepy.api:Unexpected parameter: id\n",
      "WARNING:tweepy.api:Unexpected parameter: id\n",
      "WARNING:tweepy.api:Unexpected parameter: id\n",
      "WARNING:tweepy.api:Unexpected parameter: id\n",
      "WARNING:tweepy.api:Unexpected parameter: id\n",
      "WARNING:tweepy.api:Unexpected parameter: id\n",
      "WARNING:tweepy.api:Unexpected parameter: id\n",
      "WARNING:tweepy.api:Unexpected parameter: id\n"
     ]
    },
    {
     "name": "stdout",
     "output_type": "stream",
     "text": [
      "Status Failed On, 401 Unauthorized\n",
      "Not authorized.\n"
     ]
    },
    {
     "name": "stderr",
     "output_type": "stream",
     "text": [
      "WARNING:tweepy.api:Unexpected parameter: id\n",
      "WARNING:tweepy.api:Unexpected parameter: id\n",
      "WARNING:tweepy.api:Unexpected parameter: id\n",
      "WARNING:tweepy.api:Unexpected parameter: id\n",
      "WARNING:tweepy.api:Unexpected parameter: id\n",
      "WARNING:tweepy.api:Unexpected parameter: id\n",
      "WARNING:tweepy.api:Unexpected parameter: id\n",
      "WARNING:tweepy.api:Unexpected parameter: id\n",
      "WARNING:tweepy.api:Unexpected parameter: id\n",
      "WARNING:tweepy.api:Unexpected parameter: id\n",
      "WARNING:tweepy.api:Unexpected parameter: id\n",
      "WARNING:tweepy.api:Unexpected parameter: id\n",
      "WARNING:tweepy.api:Unexpected parameter: id\n",
      "WARNING:tweepy.api:Unexpected parameter: id\n",
      "WARNING:tweepy.api:Unexpected parameter: id\n"
     ]
    },
    {
     "name": "stdout",
     "output_type": "stream",
     "text": [
      "Status Failed On, 401 Unauthorized\n",
      "Not authorized.\n"
     ]
    },
    {
     "name": "stderr",
     "output_type": "stream",
     "text": [
      "WARNING:tweepy.api:Unexpected parameter: id\n",
      "WARNING:tweepy.api:Unexpected parameter: id\n",
      "WARNING:tweepy.api:Unexpected parameter: id\n"
     ]
    },
    {
     "name": "stdout",
     "output_type": "stream",
     "text": [
      "Status Failed On, 401 Unauthorized\n",
      "Not authorized.\n"
     ]
    },
    {
     "name": "stderr",
     "output_type": "stream",
     "text": [
      "WARNING:tweepy.api:Unexpected parameter: id\n",
      "WARNING:tweepy.api:Unexpected parameter: id\n",
      "WARNING:tweepy.api:Unexpected parameter: id\n",
      "WARNING:tweepy.api:Unexpected parameter: id\n",
      "WARNING:tweepy.api:Unexpected parameter: id\n",
      "WARNING:tweepy.api:Unexpected parameter: id\n",
      "WARNING:tweepy.api:Unexpected parameter: id\n",
      "WARNING:tweepy.api:Unexpected parameter: id\n"
     ]
    },
    {
     "name": "stdout",
     "output_type": "stream",
     "text": [
      "Status Failed On, 404 Not Found\n",
      "34 - Sorry, that page does not exist.\n"
     ]
    },
    {
     "name": "stderr",
     "output_type": "stream",
     "text": [
      "WARNING:tweepy.api:Unexpected parameter: id\n",
      "WARNING:tweepy.api:Unexpected parameter: id\n",
      "WARNING:tweepy.api:Unexpected parameter: id\n",
      "WARNING:tweepy.api:Unexpected parameter: id\n",
      "WARNING:tweepy.api:Unexpected parameter: id\n",
      "WARNING:tweepy.api:Unexpected parameter: id\n"
     ]
    },
    {
     "name": "stdout",
     "output_type": "stream",
     "text": [
      "Status Failed On, 401 Unauthorized\n",
      "Not authorized.\n"
     ]
    },
    {
     "name": "stderr",
     "output_type": "stream",
     "text": [
      "WARNING:tweepy.api:Unexpected parameter: id\n",
      "WARNING:tweepy.api:Unexpected parameter: id\n",
      "WARNING:tweepy.api:Unexpected parameter: id\n",
      "WARNING:tweepy.api:Unexpected parameter: id\n",
      "WARNING:tweepy.api:Unexpected parameter: id\n",
      "WARNING:tweepy.api:Unexpected parameter: id\n",
      "WARNING:tweepy.api:Unexpected parameter: id\n",
      "WARNING:tweepy.api:Unexpected parameter: id\n",
      "WARNING:tweepy.api:Unexpected parameter: id\n",
      "WARNING:tweepy.api:Unexpected parameter: id\n",
      "WARNING:tweepy.api:Unexpected parameter: id\n",
      "WARNING:tweepy.api:Unexpected parameter: id\n",
      "WARNING:tweepy.api:Unexpected parameter: id\n",
      "WARNING:tweepy.api:Unexpected parameter: id\n",
      "WARNING:tweepy.api:Unexpected parameter: id\n",
      "WARNING:tweepy.api:Unexpected parameter: id\n",
      "WARNING:tweepy.api:Unexpected parameter: id\n",
      "WARNING:tweepy.api:Unexpected parameter: id\n"
     ]
    },
    {
     "name": "stdout",
     "output_type": "stream",
     "text": [
      "Status Failed On, 401 Unauthorized\n",
      "Not authorized.\n"
     ]
    },
    {
     "name": "stderr",
     "output_type": "stream",
     "text": [
      "WARNING:tweepy.api:Unexpected parameter: id\n",
      "WARNING:tweepy.api:Unexpected parameter: id\n",
      "WARNING:tweepy.api:Unexpected parameter: id\n",
      "WARNING:tweepy.api:Unexpected parameter: id\n",
      "WARNING:tweepy.api:Unexpected parameter: id\n"
     ]
    },
    {
     "name": "stdout",
     "output_type": "stream",
     "text": [
      "Status Failed On, 401 Unauthorized\n",
      "Not authorized.\n"
     ]
    },
    {
     "name": "stderr",
     "output_type": "stream",
     "text": [
      "WARNING:tweepy.api:Unexpected parameter: id\n",
      "WARNING:tweepy.api:Unexpected parameter: id\n",
      "WARNING:tweepy.api:Unexpected parameter: id\n",
      "WARNING:tweepy.api:Unexpected parameter: id\n",
      "WARNING:tweepy.api:Unexpected parameter: id\n",
      "WARNING:tweepy.api:Unexpected parameter: id\n",
      "WARNING:tweepy.api:Unexpected parameter: id\n",
      "WARNING:tweepy.api:Unexpected parameter: id\n",
      "WARNING:tweepy.api:Unexpected parameter: id\n"
     ]
    },
    {
     "name": "stdout",
     "output_type": "stream",
     "text": [
      "Status Failed On, 404 Not Found\n",
      "34 - Sorry, that page does not exist.\n"
     ]
    },
    {
     "name": "stderr",
     "output_type": "stream",
     "text": [
      "WARNING:tweepy.api:Unexpected parameter: id\n",
      "WARNING:tweepy.api:Unexpected parameter: id\n",
      "WARNING:tweepy.api:Unexpected parameter: id\n",
      "WARNING:tweepy.api:Unexpected parameter: id\n",
      "WARNING:tweepy.api:Unexpected parameter: id\n",
      "WARNING:tweepy.api:Unexpected parameter: id\n",
      "WARNING:tweepy.api:Unexpected parameter: id\n",
      "WARNING:tweepy.api:Unexpected parameter: id\n",
      "WARNING:tweepy.api:Unexpected parameter: id\n"
     ]
    },
    {
     "name": "stdout",
     "output_type": "stream",
     "text": [
      "Status Failed On, 401 Unauthorized\n",
      "Not authorized.\n"
     ]
    },
    {
     "name": "stderr",
     "output_type": "stream",
     "text": [
      "WARNING:tweepy.api:Unexpected parameter: id\n",
      "WARNING:tweepy.api:Unexpected parameter: id\n",
      "WARNING:tweepy.api:Unexpected parameter: id\n",
      "WARNING:tweepy.api:Unexpected parameter: id\n",
      "WARNING:tweepy.api:Unexpected parameter: id\n",
      "WARNING:tweepy.api:Unexpected parameter: id\n"
     ]
    },
    {
     "name": "stdout",
     "output_type": "stream",
     "text": [
      "Status Failed On, 404 Not Found\n",
      "34 - Sorry, that page does not exist.\n"
     ]
    },
    {
     "name": "stderr",
     "output_type": "stream",
     "text": [
      "WARNING:tweepy.api:Unexpected parameter: id\n",
      "WARNING:tweepy.api:Unexpected parameter: id\n",
      "WARNING:tweepy.api:Unexpected parameter: id\n",
      "WARNING:tweepy.api:Unexpected parameter: id\n",
      "WARNING:tweepy.api:Unexpected parameter: id\n",
      "WARNING:tweepy.api:Unexpected parameter: id\n",
      "WARNING:tweepy.api:Unexpected parameter: id\n",
      "WARNING:tweepy.api:Unexpected parameter: id\n",
      "WARNING:tweepy.api:Unexpected parameter: id\n",
      "WARNING:tweepy.api:Unexpected parameter: id\n",
      "WARNING:tweepy.api:Unexpected parameter: id\n",
      "WARNING:tweepy.api:Unexpected parameter: id\n",
      "WARNING:tweepy.api:Unexpected parameter: id\n",
      "WARNING:tweepy.api:Unexpected parameter: id\n",
      "WARNING:tweepy.api:Unexpected parameter: id\n",
      "WARNING:tweepy.api:Unexpected parameter: id\n",
      "WARNING:tweepy.api:Unexpected parameter: id\n",
      "WARNING:tweepy.api:Unexpected parameter: id\n"
     ]
    },
    {
     "name": "stdout",
     "output_type": "stream",
     "text": [
      "Status Failed On, 401 Unauthorized\n",
      "Not authorized.\n"
     ]
    },
    {
     "name": "stderr",
     "output_type": "stream",
     "text": [
      "WARNING:tweepy.api:Unexpected parameter: id\n",
      "WARNING:tweepy.api:Unexpected parameter: id\n",
      "WARNING:tweepy.api:Unexpected parameter: id\n",
      "WARNING:tweepy.api:Unexpected parameter: id\n",
      "WARNING:tweepy.api:Unexpected parameter: id\n",
      "WARNING:tweepy.api:Unexpected parameter: id\n",
      "WARNING:tweepy.api:Unexpected parameter: id\n",
      "WARNING:tweepy.api:Unexpected parameter: id\n",
      "WARNING:tweepy.api:Unexpected parameter: id\n",
      "WARNING:tweepy.api:Unexpected parameter: id\n",
      "WARNING:tweepy.api:Unexpected parameter: id\n",
      "WARNING:tweepy.api:Unexpected parameter: id\n",
      "WARNING:tweepy.api:Unexpected parameter: id\n",
      "WARNING:tweepy.api:Unexpected parameter: id\n",
      "WARNING:tweepy.api:Unexpected parameter: id\n",
      "WARNING:tweepy.api:Unexpected parameter: id\n",
      "WARNING:tweepy.api:Unexpected parameter: id\n",
      "WARNING:tweepy.api:Unexpected parameter: id\n",
      "WARNING:tweepy.api:Unexpected parameter: id\n",
      "WARNING:tweepy.api:Unexpected parameter: id\n",
      "WARNING:tweepy.api:Unexpected parameter: id\n",
      "WARNING:tweepy.api:Unexpected parameter: id\n",
      "WARNING:tweepy.api:Unexpected parameter: id\n",
      "WARNING:tweepy.api:Unexpected parameter: id\n",
      "WARNING:tweepy.api:Unexpected parameter: id\n",
      "WARNING:tweepy.api:Unexpected parameter: id\n",
      "WARNING:tweepy.api:Unexpected parameter: id\n",
      "WARNING:tweepy.api:Unexpected parameter: id\n",
      "WARNING:tweepy.api:Unexpected parameter: id\n",
      "WARNING:tweepy.api:Unexpected parameter: id\n",
      "WARNING:tweepy.api:Unexpected parameter: id\n",
      "WARNING:tweepy.api:Unexpected parameter: id\n",
      "WARNING:tweepy.api:Unexpected parameter: id\n",
      "WARNING:tweepy.api:Unexpected parameter: id\n",
      "WARNING:tweepy.api:Unexpected parameter: id\n",
      "WARNING:tweepy.api:Unexpected parameter: id\n",
      "WARNING:tweepy.api:Unexpected parameter: id\n"
     ]
    },
    {
     "name": "stdout",
     "output_type": "stream",
     "text": [
      "Status Failed On, 401 Unauthorized\n",
      "Not authorized.\n"
     ]
    },
    {
     "name": "stderr",
     "output_type": "stream",
     "text": [
      "WARNING:tweepy.api:Unexpected parameter: id\n",
      "WARNING:tweepy.api:Unexpected parameter: id\n",
      "WARNING:tweepy.api:Unexpected parameter: id\n",
      "WARNING:tweepy.api:Unexpected parameter: id\n"
     ]
    },
    {
     "name": "stdout",
     "output_type": "stream",
     "text": [
      "Status Failed On, 401 Unauthorized\n",
      "Not authorized.\n"
     ]
    },
    {
     "name": "stderr",
     "output_type": "stream",
     "text": [
      "WARNING:tweepy.api:Unexpected parameter: id\n",
      "WARNING:tweepy.api:Unexpected parameter: id\n",
      "WARNING:tweepy.api:Unexpected parameter: id\n",
      "WARNING:tweepy.api:Unexpected parameter: id\n",
      "WARNING:tweepy.api:Unexpected parameter: id\n",
      "WARNING:tweepy.api:Unexpected parameter: id\n",
      "WARNING:tweepy.api:Unexpected parameter: id\n",
      "WARNING:tweepy.api:Unexpected parameter: id\n",
      "WARNING:tweepy.api:Unexpected parameter: id\n",
      "WARNING:tweepy.api:Unexpected parameter: id\n",
      "WARNING:tweepy.api:Unexpected parameter: id\n",
      "WARNING:tweepy.api:Unexpected parameter: id\n",
      "WARNING:tweepy.api:Unexpected parameter: id\n",
      "WARNING:tweepy.api:Unexpected parameter: id\n",
      "WARNING:tweepy.api:Unexpected parameter: id\n"
     ]
    },
    {
     "name": "stdout",
     "output_type": "stream",
     "text": [
      "Status Failed On, 401 Unauthorized\n",
      "Not authorized.\n"
     ]
    },
    {
     "name": "stderr",
     "output_type": "stream",
     "text": [
      "WARNING:tweepy.api:Unexpected parameter: id\n",
      "WARNING:tweepy.api:Unexpected parameter: id\n",
      "WARNING:tweepy.api:Unexpected parameter: id\n",
      "WARNING:tweepy.api:Unexpected parameter: id\n",
      "WARNING:tweepy.api:Unexpected parameter: id\n",
      "WARNING:tweepy.api:Unexpected parameter: id\n",
      "WARNING:tweepy.api:Unexpected parameter: id\n",
      "WARNING:tweepy.api:Unexpected parameter: id\n",
      "WARNING:tweepy.api:Unexpected parameter: id\n",
      "WARNING:tweepy.api:Unexpected parameter: id\n",
      "WARNING:tweepy.api:Unexpected parameter: id\n",
      "WARNING:tweepy.api:Unexpected parameter: id\n",
      "WARNING:tweepy.api:Unexpected parameter: id\n",
      "WARNING:tweepy.api:Unexpected parameter: id\n"
     ]
    },
    {
     "name": "stdout",
     "output_type": "stream",
     "text": [
      "Status Failed On, 404 Not Found\n",
      "34 - Sorry, that page does not exist.\n"
     ]
    },
    {
     "name": "stderr",
     "output_type": "stream",
     "text": [
      "WARNING:tweepy.api:Unexpected parameter: id\n",
      "WARNING:tweepy.api:Unexpected parameter: id\n",
      "WARNING:tweepy.api:Unexpected parameter: id\n",
      "WARNING:tweepy.api:Unexpected parameter: id\n"
     ]
    },
    {
     "name": "stdout",
     "output_type": "stream",
     "text": [
      "Status Failed On, 401 Unauthorized\n",
      "Not authorized.\n"
     ]
    },
    {
     "name": "stderr",
     "output_type": "stream",
     "text": [
      "WARNING:tweepy.api:Unexpected parameter: id\n",
      "WARNING:tweepy.api:Unexpected parameter: id\n",
      "WARNING:tweepy.api:Unexpected parameter: id\n",
      "WARNING:tweepy.api:Unexpected parameter: id\n",
      "WARNING:tweepy.api:Unexpected parameter: id\n",
      "WARNING:tweepy.api:Unexpected parameter: id\n",
      "WARNING:tweepy.api:Unexpected parameter: id\n",
      "WARNING:tweepy.api:Unexpected parameter: id\n",
      "WARNING:tweepy.api:Unexpected parameter: id\n",
      "WARNING:tweepy.api:Unexpected parameter: id\n",
      "WARNING:tweepy.api:Unexpected parameter: id\n",
      "WARNING:tweepy.api:Unexpected parameter: id\n",
      "WARNING:tweepy.api:Unexpected parameter: id\n",
      "WARNING:tweepy.api:Unexpected parameter: id\n",
      "WARNING:tweepy.api:Unexpected parameter: id\n",
      "WARNING:tweepy.api:Unexpected parameter: id\n",
      "WARNING:tweepy.api:Unexpected parameter: id\n",
      "WARNING:tweepy.api:Unexpected parameter: id\n"
     ]
    },
    {
     "name": "stdout",
     "output_type": "stream",
     "text": [
      "Status Failed On, 404 Not Found\n",
      "34 - Sorry, that page does not exist.\n"
     ]
    },
    {
     "name": "stderr",
     "output_type": "stream",
     "text": [
      "WARNING:tweepy.api:Unexpected parameter: id\n",
      "WARNING:tweepy.api:Unexpected parameter: id\n",
      "WARNING:tweepy.api:Unexpected parameter: id\n",
      "WARNING:tweepy.api:Unexpected parameter: id\n",
      "WARNING:tweepy.api:Unexpected parameter: id\n"
     ]
    },
    {
     "name": "stdout",
     "output_type": "stream",
     "text": [
      "Status Failed On, 404 Not Found\n",
      "34 - Sorry, that page does not exist.\n"
     ]
    },
    {
     "name": "stderr",
     "output_type": "stream",
     "text": [
      "WARNING:tweepy.api:Unexpected parameter: id\n",
      "WARNING:tweepy.api:Unexpected parameter: id\n"
     ]
    },
    {
     "name": "stdout",
     "output_type": "stream",
     "text": [
      "Status Failed On, 401 Unauthorized\n",
      "Not authorized.\n"
     ]
    },
    {
     "name": "stderr",
     "output_type": "stream",
     "text": [
      "WARNING:tweepy.api:Unexpected parameter: id\n",
      "WARNING:tweepy.api:Unexpected parameter: id\n",
      "WARNING:tweepy.api:Unexpected parameter: id\n",
      "WARNING:tweepy.api:Unexpected parameter: id\n",
      "WARNING:tweepy.api:Unexpected parameter: id\n"
     ]
    },
    {
     "name": "stdout",
     "output_type": "stream",
     "text": [
      "Status Failed On, 401 Unauthorized\n",
      "Not authorized.\n"
     ]
    },
    {
     "name": "stderr",
     "output_type": "stream",
     "text": [
      "WARNING:tweepy.api:Unexpected parameter: id\n",
      "WARNING:tweepy.api:Unexpected parameter: id\n",
      "WARNING:tweepy.api:Unexpected parameter: id\n",
      "WARNING:tweepy.api:Unexpected parameter: id\n"
     ]
    },
    {
     "name": "stdout",
     "output_type": "stream",
     "text": [
      "Status Failed On, 404 Not Found\n",
      "34 - Sorry, that page does not exist.\n"
     ]
    },
    {
     "name": "stderr",
     "output_type": "stream",
     "text": [
      "WARNING:tweepy.api:Unexpected parameter: id\n",
      "WARNING:tweepy.api:Unexpected parameter: id\n"
     ]
    },
    {
     "name": "stdout",
     "output_type": "stream",
     "text": [
      "Status Failed On, 401 Unauthorized\n",
      "Not authorized.\n"
     ]
    },
    {
     "name": "stderr",
     "output_type": "stream",
     "text": [
      "WARNING:tweepy.api:Unexpected parameter: id\n",
      "WARNING:tweepy.api:Unexpected parameter: id\n"
     ]
    },
    {
     "name": "stdout",
     "output_type": "stream",
     "text": [
      "Status Failed On, 404 Not Found\n",
      "34 - Sorry, that page does not exist.\n"
     ]
    },
    {
     "name": "stderr",
     "output_type": "stream",
     "text": [
      "WARNING:tweepy.api:Unexpected parameter: id\n"
     ]
    },
    {
     "name": "stdout",
     "output_type": "stream",
     "text": [
      "Status Failed On, 401 Unauthorized\n",
      "Not authorized.\n"
     ]
    },
    {
     "name": "stderr",
     "output_type": "stream",
     "text": [
      "WARNING:tweepy.api:Unexpected parameter: id\n",
      "WARNING:tweepy.api:Unexpected parameter: id\n",
      "WARNING:tweepy.api:Unexpected parameter: id\n",
      "WARNING:tweepy.api:Unexpected parameter: id\n",
      "WARNING:tweepy.api:Unexpected parameter: id\n",
      "WARNING:tweepy.api:Unexpected parameter: id\n",
      "WARNING:tweepy.api:Unexpected parameter: id\n",
      "WARNING:tweepy.api:Unexpected parameter: id\n",
      "WARNING:tweepy.api:Unexpected parameter: id\n",
      "WARNING:tweepy.api:Unexpected parameter: id\n",
      "WARNING:tweepy.api:Unexpected parameter: id\n",
      "WARNING:tweepy.api:Unexpected parameter: id\n",
      "WARNING:tweepy.api:Unexpected parameter: id\n",
      "WARNING:tweepy.api:Unexpected parameter: id\n"
     ]
    },
    {
     "name": "stdout",
     "output_type": "stream",
     "text": [
      "Status Failed On, 404 Not Found\n",
      "34 - Sorry, that page does not exist.\n",
      "Status Failed On, 401 Unauthorized\n",
      "Not authorized.\n"
     ]
    },
    {
     "name": "stderr",
     "output_type": "stream",
     "text": [
      "WARNING:tweepy.api:Unexpected parameter: id\n"
     ]
    },
    {
     "name": "stdout",
     "output_type": "stream",
     "text": [
      "Status Failed On, 401 Unauthorized\n",
      "Not authorized.\n"
     ]
    },
    {
     "name": "stderr",
     "output_type": "stream",
     "text": [
      "WARNING:tweepy.api:Unexpected parameter: id\n",
      "WARNING:tweepy.api:Unexpected parameter: id\n",
      "WARNING:tweepy.api:Unexpected parameter: id\n",
      "WARNING:tweepy.api:Unexpected parameter: id\n",
      "WARNING:tweepy.api:Unexpected parameter: id\n",
      "WARNING:tweepy.api:Unexpected parameter: id\n"
     ]
    },
    {
     "name": "stdout",
     "output_type": "stream",
     "text": [
      "Status Failed On, 401 Unauthorized\n",
      "Not authorized.\n"
     ]
    },
    {
     "name": "stderr",
     "output_type": "stream",
     "text": [
      "WARNING:tweepy.api:Unexpected parameter: id\n",
      "WARNING:tweepy.api:Unexpected parameter: id\n",
      "WARNING:tweepy.api:Unexpected parameter: id\n",
      "WARNING:tweepy.api:Unexpected parameter: id\n",
      "WARNING:tweepy.api:Unexpected parameter: id\n",
      "WARNING:tweepy.api:Unexpected parameter: id\n",
      "WARNING:tweepy.api:Unexpected parameter: id\n",
      "WARNING:tweepy.api:Unexpected parameter: id\n",
      "WARNING:tweepy.api:Unexpected parameter: id\n",
      "WARNING:tweepy.api:Unexpected parameter: id\n",
      "WARNING:tweepy.api:Unexpected parameter: id\n",
      "WARNING:tweepy.api:Unexpected parameter: id\n",
      "WARNING:tweepy.api:Unexpected parameter: id\n",
      "WARNING:tweepy.api:Unexpected parameter: id\n",
      "WARNING:tweepy.api:Unexpected parameter: id\n",
      "WARNING:tweepy.api:Unexpected parameter: id\n",
      "WARNING:tweepy.api:Unexpected parameter: id\n",
      "WARNING:tweepy.api:Unexpected parameter: id\n",
      "WARNING:tweepy.api:Unexpected parameter: id\n",
      "WARNING:tweepy.api:Unexpected parameter: id\n",
      "WARNING:tweepy.api:Unexpected parameter: id\n",
      "WARNING:tweepy.api:Unexpected parameter: id\n"
     ]
    },
    {
     "name": "stdout",
     "output_type": "stream",
     "text": [
      "Status Failed On, 401 Unauthorized\n",
      "Not authorized.\n"
     ]
    },
    {
     "name": "stderr",
     "output_type": "stream",
     "text": [
      "WARNING:tweepy.api:Unexpected parameter: id\n",
      "WARNING:tweepy.api:Unexpected parameter: id\n",
      "WARNING:tweepy.api:Unexpected parameter: id\n",
      "WARNING:tweepy.api:Unexpected parameter: id\n"
     ]
    },
    {
     "name": "stdout",
     "output_type": "stream",
     "text": [
      "Status Failed On, 404 Not Found\n",
      "34 - Sorry, that page does not exist.\n"
     ]
    },
    {
     "name": "stderr",
     "output_type": "stream",
     "text": [
      "WARNING:tweepy.api:Unexpected parameter: id\n",
      "WARNING:tweepy.api:Unexpected parameter: id\n",
      "WARNING:tweepy.api:Unexpected parameter: id\n",
      "WARNING:tweepy.api:Unexpected parameter: id\n",
      "WARNING:tweepy.api:Unexpected parameter: id\n",
      "WARNING:tweepy.api:Unexpected parameter: id\n"
     ]
    },
    {
     "name": "stdout",
     "output_type": "stream",
     "text": [
      "Status Failed On, 401 Unauthorized\n",
      "Not authorized.\n"
     ]
    },
    {
     "name": "stderr",
     "output_type": "stream",
     "text": [
      "WARNING:tweepy.api:Unexpected parameter: id\n",
      "WARNING:tweepy.api:Unexpected parameter: id\n",
      "WARNING:tweepy.api:Unexpected parameter: id\n",
      "WARNING:tweepy.api:Unexpected parameter: id\n",
      "WARNING:tweepy.api:Unexpected parameter: id\n",
      "WARNING:tweepy.api:Unexpected parameter: id\n",
      "WARNING:tweepy.api:Unexpected parameter: id\n",
      "WARNING:tweepy.api:Unexpected parameter: id\n",
      "WARNING:tweepy.api:Unexpected parameter: id\n",
      "WARNING:tweepy.api:Unexpected parameter: id\n",
      "WARNING:tweepy.api:Unexpected parameter: id\n",
      "WARNING:tweepy.api:Unexpected parameter: id\n",
      "WARNING:tweepy.api:Unexpected parameter: id\n",
      "WARNING:tweepy.api:Unexpected parameter: id\n"
     ]
    },
    {
     "name": "stdout",
     "output_type": "stream",
     "text": [
      "Status Failed On, 401 Unauthorized\n",
      "Not authorized.\n"
     ]
    },
    {
     "name": "stderr",
     "output_type": "stream",
     "text": [
      "WARNING:tweepy.api:Unexpected parameter: id\n",
      "WARNING:tweepy.api:Unexpected parameter: id\n",
      "WARNING:tweepy.api:Unexpected parameter: id\n",
      "WARNING:tweepy.api:Unexpected parameter: id\n",
      "WARNING:tweepy.api:Unexpected parameter: id\n",
      "WARNING:tweepy.api:Unexpected parameter: id\n",
      "WARNING:tweepy.api:Unexpected parameter: id\n",
      "WARNING:tweepy.api:Unexpected parameter: id\n",
      "WARNING:tweepy.api:Unexpected parameter: id\n",
      "WARNING:tweepy.api:Unexpected parameter: id\n",
      "WARNING:tweepy.api:Unexpected parameter: id\n",
      "WARNING:tweepy.api:Unexpected parameter: id\n",
      "WARNING:tweepy.api:Unexpected parameter: id\n"
     ]
    },
    {
     "name": "stdout",
     "output_type": "stream",
     "text": [
      "Status Failed On, 404 Not Found\n",
      "34 - Sorry, that page does not exist.\n"
     ]
    },
    {
     "name": "stderr",
     "output_type": "stream",
     "text": [
      "WARNING:tweepy.api:Unexpected parameter: id\n",
      "WARNING:tweepy.api:Unexpected parameter: id\n",
      "WARNING:tweepy.api:Unexpected parameter: id\n",
      "WARNING:tweepy.api:Unexpected parameter: id\n",
      "WARNING:tweepy.api:Unexpected parameter: id\n"
     ]
    },
    {
     "name": "stdout",
     "output_type": "stream",
     "text": [
      "Status Failed On, 401 Unauthorized\n",
      "Not authorized.\n"
     ]
    },
    {
     "name": "stderr",
     "output_type": "stream",
     "text": [
      "WARNING:tweepy.api:Unexpected parameter: id\n",
      "WARNING:tweepy.api:Unexpected parameter: id\n",
      "WARNING:tweepy.api:Unexpected parameter: id\n",
      "WARNING:tweepy.api:Unexpected parameter: id\n",
      "WARNING:tweepy.api:Unexpected parameter: id\n",
      "WARNING:tweepy.api:Unexpected parameter: id\n",
      "WARNING:tweepy.api:Unexpected parameter: id\n",
      "WARNING:tweepy.api:Unexpected parameter: id\n",
      "WARNING:tweepy.api:Unexpected parameter: id\n",
      "WARNING:tweepy.api:Unexpected parameter: id\n",
      "WARNING:tweepy.api:Unexpected parameter: id\n",
      "WARNING:tweepy.api:Unexpected parameter: id\n",
      "WARNING:tweepy.api:Unexpected parameter: id\n",
      "WARNING:tweepy.api:Unexpected parameter: id\n"
     ]
    },
    {
     "name": "stdout",
     "output_type": "stream",
     "text": [
      "Status Failed On, 401 Unauthorized\n",
      "Not authorized.\n"
     ]
    },
    {
     "name": "stderr",
     "output_type": "stream",
     "text": [
      "WARNING:tweepy.api:Unexpected parameter: id\n",
      "WARNING:tweepy.api:Unexpected parameter: id\n",
      "WARNING:tweepy.api:Unexpected parameter: id\n",
      "WARNING:tweepy.api:Unexpected parameter: id\n",
      "WARNING:tweepy.api:Unexpected parameter: id\n"
     ]
    },
    {
     "name": "stdout",
     "output_type": "stream",
     "text": [
      "Status Failed On, 401 Unauthorized\n",
      "Not authorized.\n"
     ]
    },
    {
     "name": "stderr",
     "output_type": "stream",
     "text": [
      "WARNING:tweepy.api:Unexpected parameter: id\n",
      "WARNING:tweepy.api:Unexpected parameter: id\n",
      "WARNING:tweepy.api:Unexpected parameter: id\n",
      "WARNING:tweepy.api:Unexpected parameter: id\n",
      "WARNING:tweepy.api:Unexpected parameter: id\n",
      "WARNING:tweepy.api:Unexpected parameter: id\n",
      "WARNING:tweepy.api:Unexpected parameter: id\n",
      "WARNING:tweepy.api:Unexpected parameter: id\n"
     ]
    },
    {
     "name": "stdout",
     "output_type": "stream",
     "text": [
      "Status Failed On, 401 Unauthorized\n",
      "Not authorized.\n"
     ]
    },
    {
     "name": "stderr",
     "output_type": "stream",
     "text": [
      "WARNING:tweepy.api:Unexpected parameter: id\n",
      "WARNING:tweepy.api:Unexpected parameter: id\n",
      "WARNING:tweepy.api:Unexpected parameter: id\n"
     ]
    },
    {
     "name": "stdout",
     "output_type": "stream",
     "text": [
      "Status Failed On, 401 Unauthorized\n",
      "Not authorized.\n"
     ]
    },
    {
     "name": "stderr",
     "output_type": "stream",
     "text": [
      "WARNING:tweepy.api:Unexpected parameter: id\n",
      "WARNING:tweepy.api:Unexpected parameter: id\n",
      "WARNING:tweepy.api:Unexpected parameter: id\n",
      "WARNING:tweepy.api:Unexpected parameter: id\n",
      "WARNING:tweepy.api:Unexpected parameter: id\n",
      "WARNING:tweepy.api:Unexpected parameter: id\n",
      "WARNING:tweepy.api:Unexpected parameter: id\n",
      "WARNING:tweepy.api:Unexpected parameter: id\n",
      "WARNING:tweepy.api:Unexpected parameter: id\n",
      "WARNING:tweepy.api:Unexpected parameter: id\n"
     ]
    },
    {
     "name": "stdout",
     "output_type": "stream",
     "text": [
      "Status Failed On, 401 Unauthorized\n",
      "Not authorized.\n"
     ]
    },
    {
     "name": "stderr",
     "output_type": "stream",
     "text": [
      "WARNING:tweepy.api:Unexpected parameter: id\n",
      "WARNING:tweepy.api:Unexpected parameter: id\n",
      "WARNING:tweepy.api:Unexpected parameter: id\n",
      "WARNING:tweepy.api:Unexpected parameter: id\n",
      "WARNING:tweepy.api:Unexpected parameter: id\n",
      "WARNING:tweepy.api:Unexpected parameter: id\n",
      "WARNING:tweepy.api:Unexpected parameter: id\n",
      "WARNING:tweepy.api:Unexpected parameter: id\n",
      "WARNING:tweepy.api:Unexpected parameter: id\n",
      "WARNING:tweepy.api:Unexpected parameter: id\n",
      "WARNING:tweepy.api:Unexpected parameter: id\n",
      "WARNING:tweepy.api:Unexpected parameter: id\n",
      "WARNING:tweepy.api:Unexpected parameter: id\n",
      "WARNING:tweepy.api:Unexpected parameter: id\n",
      "WARNING:tweepy.api:Unexpected parameter: id\n",
      "WARNING:tweepy.api:Unexpected parameter: id\n",
      "WARNING:tweepy.api:Unexpected parameter: id\n",
      "WARNING:tweepy.api:Unexpected parameter: id\n",
      "WARNING:tweepy.api:Unexpected parameter: id\n",
      "WARNING:tweepy.api:Unexpected parameter: id\n",
      "WARNING:tweepy.api:Unexpected parameter: id\n",
      "WARNING:tweepy.api:Unexpected parameter: id\n",
      "WARNING:tweepy.api:Unexpected parameter: id\n",
      "WARNING:tweepy.api:Unexpected parameter: id\n",
      "WARNING:tweepy.api:Unexpected parameter: id\n",
      "WARNING:tweepy.api:Unexpected parameter: id\n",
      "WARNING:tweepy.api:Unexpected parameter: id\n",
      "WARNING:tweepy.api:Unexpected parameter: id\n",
      "WARNING:tweepy.api:Unexpected parameter: id\n",
      "WARNING:tweepy.api:Rate limit reached. Sleeping for: 615\n",
      "WARNING:tweepy.api:Unexpected parameter: id\n",
      "WARNING:tweepy.api:Unexpected parameter: id\n",
      "WARNING:tweepy.api:Unexpected parameter: id\n",
      "WARNING:tweepy.api:Unexpected parameter: id\n",
      "WARNING:tweepy.api:Unexpected parameter: id\n",
      "WARNING:tweepy.api:Unexpected parameter: id\n",
      "WARNING:tweepy.api:Unexpected parameter: id\n",
      "WARNING:tweepy.api:Unexpected parameter: id\n",
      "WARNING:tweepy.api:Unexpected parameter: id\n",
      "WARNING:tweepy.api:Unexpected parameter: id\n",
      "WARNING:tweepy.api:Unexpected parameter: id\n",
      "WARNING:tweepy.api:Unexpected parameter: id\n",
      "WARNING:tweepy.api:Unexpected parameter: id\n",
      "WARNING:tweepy.api:Unexpected parameter: id\n",
      "WARNING:tweepy.api:Unexpected parameter: id\n",
      "WARNING:tweepy.api:Unexpected parameter: id\n",
      "WARNING:tweepy.api:Unexpected parameter: id\n",
      "WARNING:tweepy.api:Unexpected parameter: id\n",
      "WARNING:tweepy.api:Unexpected parameter: id\n",
      "WARNING:tweepy.api:Unexpected parameter: id\n"
     ]
    },
    {
     "name": "stdout",
     "output_type": "stream",
     "text": [
      "Status Failed On, 401 Unauthorized\n",
      "Not authorized.\n"
     ]
    },
    {
     "name": "stderr",
     "output_type": "stream",
     "text": [
      "WARNING:tweepy.api:Unexpected parameter: id\n",
      "WARNING:tweepy.api:Unexpected parameter: id\n"
     ]
    },
    {
     "name": "stdout",
     "output_type": "stream",
     "text": [
      "Status Failed On, 401 Unauthorized\n",
      "Not authorized.\n"
     ]
    },
    {
     "name": "stderr",
     "output_type": "stream",
     "text": [
      "WARNING:tweepy.api:Unexpected parameter: id\n",
      "WARNING:tweepy.api:Unexpected parameter: id\n",
      "WARNING:tweepy.api:Unexpected parameter: id\n",
      "WARNING:tweepy.api:Unexpected parameter: id\n",
      "WARNING:tweepy.api:Unexpected parameter: id\n",
      "WARNING:tweepy.api:Unexpected parameter: id\n",
      "WARNING:tweepy.api:Unexpected parameter: id\n",
      "WARNING:tweepy.api:Unexpected parameter: id\n",
      "WARNING:tweepy.api:Unexpected parameter: id\n",
      "WARNING:tweepy.api:Unexpected parameter: id\n",
      "WARNING:tweepy.api:Unexpected parameter: id\n",
      "WARNING:tweepy.api:Unexpected parameter: id\n",
      "WARNING:tweepy.api:Unexpected parameter: id\n"
     ]
    },
    {
     "name": "stdout",
     "output_type": "stream",
     "text": [
      "Status Failed On, 404 Not Found\n",
      "34 - Sorry, that page does not exist.\n"
     ]
    },
    {
     "name": "stderr",
     "output_type": "stream",
     "text": [
      "WARNING:tweepy.api:Unexpected parameter: id\n",
      "WARNING:tweepy.api:Unexpected parameter: id\n",
      "WARNING:tweepy.api:Unexpected parameter: id\n",
      "WARNING:tweepy.api:Unexpected parameter: id\n",
      "WARNING:tweepy.api:Unexpected parameter: id\n",
      "WARNING:tweepy.api:Unexpected parameter: id\n",
      "WARNING:tweepy.api:Unexpected parameter: id\n",
      "WARNING:tweepy.api:Unexpected parameter: id\n",
      "WARNING:tweepy.api:Unexpected parameter: id\n",
      "WARNING:tweepy.api:Unexpected parameter: id\n",
      "WARNING:tweepy.api:Unexpected parameter: id\n",
      "WARNING:tweepy.api:Unexpected parameter: id\n",
      "WARNING:tweepy.api:Unexpected parameter: id\n",
      "WARNING:tweepy.api:Unexpected parameter: id\n",
      "WARNING:tweepy.api:Unexpected parameter: id\n",
      "WARNING:tweepy.api:Unexpected parameter: id\n",
      "WARNING:tweepy.api:Unexpected parameter: id\n",
      "WARNING:tweepy.api:Unexpected parameter: id\n",
      "WARNING:tweepy.api:Unexpected parameter: id\n",
      "WARNING:tweepy.api:Unexpected parameter: id\n",
      "WARNING:tweepy.api:Unexpected parameter: id\n",
      "WARNING:tweepy.api:Unexpected parameter: id\n",
      "WARNING:tweepy.api:Unexpected parameter: id\n",
      "WARNING:tweepy.api:Unexpected parameter: id\n",
      "WARNING:tweepy.api:Unexpected parameter: id\n",
      "WARNING:tweepy.api:Unexpected parameter: id\n",
      "WARNING:tweepy.api:Unexpected parameter: id\n",
      "WARNING:tweepy.api:Unexpected parameter: id\n",
      "WARNING:tweepy.api:Unexpected parameter: id\n",
      "WARNING:tweepy.api:Unexpected parameter: id\n",
      "WARNING:tweepy.api:Unexpected parameter: id\n",
      "WARNING:tweepy.api:Unexpected parameter: id\n",
      "WARNING:tweepy.api:Unexpected parameter: id\n",
      "WARNING:tweepy.api:Unexpected parameter: id\n",
      "WARNING:tweepy.api:Unexpected parameter: id\n",
      "WARNING:tweepy.api:Unexpected parameter: id\n",
      "WARNING:tweepy.api:Unexpected parameter: id\n",
      "WARNING:tweepy.api:Unexpected parameter: id\n",
      "WARNING:tweepy.api:Unexpected parameter: id\n",
      "WARNING:tweepy.api:Unexpected parameter: id\n",
      "WARNING:tweepy.api:Unexpected parameter: id\n",
      "WARNING:tweepy.api:Unexpected parameter: id\n"
     ]
    },
    {
     "name": "stdout",
     "output_type": "stream",
     "text": [
      "Status Failed On, 404 Not Found\n",
      "34 - Sorry, that page does not exist.\n"
     ]
    },
    {
     "name": "stderr",
     "output_type": "stream",
     "text": [
      "WARNING:tweepy.api:Unexpected parameter: id\n",
      "WARNING:tweepy.api:Unexpected parameter: id\n",
      "WARNING:tweepy.api:Unexpected parameter: id\n",
      "WARNING:tweepy.api:Unexpected parameter: id\n",
      "WARNING:tweepy.api:Unexpected parameter: id\n",
      "WARNING:tweepy.api:Unexpected parameter: id\n",
      "WARNING:tweepy.api:Unexpected parameter: id\n",
      "WARNING:tweepy.api:Unexpected parameter: id\n",
      "WARNING:tweepy.api:Unexpected parameter: id\n",
      "WARNING:tweepy.api:Unexpected parameter: id\n",
      "WARNING:tweepy.api:Unexpected parameter: id\n",
      "WARNING:tweepy.api:Unexpected parameter: id\n",
      "WARNING:tweepy.api:Unexpected parameter: id\n",
      "WARNING:tweepy.api:Unexpected parameter: id\n",
      "WARNING:tweepy.api:Unexpected parameter: id\n",
      "WARNING:tweepy.api:Unexpected parameter: id\n",
      "WARNING:tweepy.api:Unexpected parameter: id\n",
      "WARNING:tweepy.api:Unexpected parameter: id\n",
      "WARNING:tweepy.api:Unexpected parameter: id\n",
      "WARNING:tweepy.api:Unexpected parameter: id\n",
      "WARNING:tweepy.api:Unexpected parameter: id\n",
      "WARNING:tweepy.api:Unexpected parameter: id\n",
      "WARNING:tweepy.api:Unexpected parameter: id\n",
      "WARNING:tweepy.api:Unexpected parameter: id\n",
      "WARNING:tweepy.api:Unexpected parameter: id\n",
      "WARNING:tweepy.api:Unexpected parameter: id\n",
      "WARNING:tweepy.api:Unexpected parameter: id\n",
      "WARNING:tweepy.api:Unexpected parameter: id\n"
     ]
    },
    {
     "name": "stdout",
     "output_type": "stream",
     "text": [
      "Status Failed On, 401 Unauthorized\n",
      "Not authorized.\n"
     ]
    },
    {
     "name": "stderr",
     "output_type": "stream",
     "text": [
      "WARNING:tweepy.api:Unexpected parameter: id\n",
      "WARNING:tweepy.api:Unexpected parameter: id\n",
      "WARNING:tweepy.api:Unexpected parameter: id\n",
      "WARNING:tweepy.api:Unexpected parameter: id\n",
      "WARNING:tweepy.api:Unexpected parameter: id\n",
      "WARNING:tweepy.api:Unexpected parameter: id\n",
      "WARNING:tweepy.api:Unexpected parameter: id\n",
      "WARNING:tweepy.api:Unexpected parameter: id\n",
      "WARNING:tweepy.api:Unexpected parameter: id\n",
      "WARNING:tweepy.api:Unexpected parameter: id\n",
      "WARNING:tweepy.api:Unexpected parameter: id\n",
      "WARNING:tweepy.api:Unexpected parameter: id\n",
      "WARNING:tweepy.api:Unexpected parameter: id\n",
      "WARNING:tweepy.api:Unexpected parameter: id\n",
      "WARNING:tweepy.api:Unexpected parameter: id\n"
     ]
    },
    {
     "name": "stdout",
     "output_type": "stream",
     "text": [
      "Status Failed On, 404 Not Found\n",
      "34 - Sorry, that page does not exist.\n"
     ]
    },
    {
     "name": "stderr",
     "output_type": "stream",
     "text": [
      "WARNING:tweepy.api:Unexpected parameter: id\n",
      "WARNING:tweepy.api:Unexpected parameter: id\n",
      "WARNING:tweepy.api:Unexpected parameter: id\n",
      "WARNING:tweepy.api:Unexpected parameter: id\n"
     ]
    },
    {
     "name": "stdout",
     "output_type": "stream",
     "text": [
      "Status Failed On, 404 Not Found\n",
      "34 - Sorry, that page does not exist.\n"
     ]
    },
    {
     "name": "stderr",
     "output_type": "stream",
     "text": [
      "WARNING:tweepy.api:Unexpected parameter: id\n",
      "WARNING:tweepy.api:Unexpected parameter: id\n",
      "WARNING:tweepy.api:Unexpected parameter: id\n",
      "WARNING:tweepy.api:Unexpected parameter: id\n"
     ]
    },
    {
     "name": "stdout",
     "output_type": "stream",
     "text": [
      "Status Failed On, 401 Unauthorized\n",
      "Not authorized.\n"
     ]
    },
    {
     "name": "stderr",
     "output_type": "stream",
     "text": [
      "WARNING:tweepy.api:Unexpected parameter: id\n"
     ]
    },
    {
     "name": "stdout",
     "output_type": "stream",
     "text": [
      "Status Failed On, 404 Not Found\n",
      "34 - Sorry, that page does not exist.\n"
     ]
    },
    {
     "name": "stderr",
     "output_type": "stream",
     "text": [
      "WARNING:tweepy.api:Unexpected parameter: id\n",
      "WARNING:tweepy.api:Unexpected parameter: id\n",
      "WARNING:tweepy.api:Unexpected parameter: id\n",
      "WARNING:tweepy.api:Unexpected parameter: id\n",
      "WARNING:tweepy.api:Unexpected parameter: id\n",
      "WARNING:tweepy.api:Unexpected parameter: id\n",
      "WARNING:tweepy.api:Unexpected parameter: id\n",
      "WARNING:tweepy.api:Unexpected parameter: id\n",
      "WARNING:tweepy.api:Unexpected parameter: id\n",
      "WARNING:tweepy.api:Unexpected parameter: id\n",
      "WARNING:tweepy.api:Unexpected parameter: id\n",
      "WARNING:tweepy.api:Unexpected parameter: id\n",
      "WARNING:tweepy.api:Unexpected parameter: id\n",
      "WARNING:tweepy.api:Unexpected parameter: id\n"
     ]
    },
    {
     "name": "stdout",
     "output_type": "stream",
     "text": [
      "Status Failed On, 401 Unauthorized\n",
      "Not authorized.\n",
      "Status Failed On, 401 Unauthorized\n",
      "Not authorized.\n"
     ]
    },
    {
     "name": "stderr",
     "output_type": "stream",
     "text": [
      "WARNING:tweepy.api:Unexpected parameter: id\n",
      "WARNING:tweepy.api:Unexpected parameter: id\n"
     ]
    },
    {
     "name": "stdout",
     "output_type": "stream",
     "text": [
      "Status Failed On, 401 Unauthorized\n",
      "Not authorized.\n"
     ]
    },
    {
     "name": "stderr",
     "output_type": "stream",
     "text": [
      "WARNING:tweepy.api:Unexpected parameter: id\n",
      "WARNING:tweepy.api:Unexpected parameter: id\n",
      "WARNING:tweepy.api:Unexpected parameter: id\n",
      "WARNING:tweepy.api:Unexpected parameter: id\n",
      "WARNING:tweepy.api:Unexpected parameter: id\n",
      "WARNING:tweepy.api:Unexpected parameter: id\n",
      "WARNING:tweepy.api:Unexpected parameter: id\n",
      "WARNING:tweepy.api:Unexpected parameter: id\n",
      "WARNING:tweepy.api:Unexpected parameter: id\n",
      "WARNING:tweepy.api:Unexpected parameter: id\n",
      "WARNING:tweepy.api:Unexpected parameter: id\n",
      "WARNING:tweepy.api:Unexpected parameter: id\n",
      "WARNING:tweepy.api:Unexpected parameter: id\n",
      "WARNING:tweepy.api:Unexpected parameter: id\n",
      "WARNING:tweepy.api:Unexpected parameter: id\n",
      "WARNING:tweepy.api:Unexpected parameter: id\n",
      "WARNING:tweepy.api:Unexpected parameter: id\n",
      "WARNING:tweepy.api:Unexpected parameter: id\n",
      "WARNING:tweepy.api:Unexpected parameter: id\n",
      "WARNING:tweepy.api:Unexpected parameter: id\n",
      "WARNING:tweepy.api:Unexpected parameter: id\n",
      "WARNING:tweepy.api:Unexpected parameter: id\n"
     ]
    },
    {
     "name": "stdout",
     "output_type": "stream",
     "text": [
      "Status Failed On, 401 Unauthorized\n",
      "Not authorized.\n"
     ]
    },
    {
     "name": "stderr",
     "output_type": "stream",
     "text": [
      "WARNING:tweepy.api:Unexpected parameter: id\n",
      "WARNING:tweepy.api:Unexpected parameter: id\n",
      "WARNING:tweepy.api:Unexpected parameter: id\n",
      "WARNING:tweepy.api:Unexpected parameter: id\n",
      "WARNING:tweepy.api:Unexpected parameter: id\n",
      "WARNING:tweepy.api:Unexpected parameter: id\n",
      "WARNING:tweepy.api:Unexpected parameter: id\n",
      "WARNING:tweepy.api:Unexpected parameter: id\n",
      "WARNING:tweepy.api:Unexpected parameter: id\n",
      "WARNING:tweepy.api:Unexpected parameter: id\n",
      "WARNING:tweepy.api:Unexpected parameter: id\n",
      "WARNING:tweepy.api:Unexpected parameter: id\n",
      "WARNING:tweepy.api:Unexpected parameter: id\n",
      "WARNING:tweepy.api:Unexpected parameter: id\n",
      "WARNING:tweepy.api:Unexpected parameter: id\n",
      "WARNING:tweepy.api:Unexpected parameter: id\n",
      "WARNING:tweepy.api:Unexpected parameter: id\n",
      "WARNING:tweepy.api:Unexpected parameter: id\n",
      "WARNING:tweepy.api:Unexpected parameter: id\n",
      "WARNING:tweepy.api:Unexpected parameter: id\n",
      "WARNING:tweepy.api:Unexpected parameter: id\n",
      "WARNING:tweepy.api:Unexpected parameter: id\n",
      "WARNING:tweepy.api:Unexpected parameter: id\n",
      "WARNING:tweepy.api:Unexpected parameter: id\n",
      "WARNING:tweepy.api:Unexpected parameter: id\n",
      "WARNING:tweepy.api:Unexpected parameter: id\n",
      "WARNING:tweepy.api:Unexpected parameter: id\n",
      "WARNING:tweepy.api:Unexpected parameter: id\n",
      "WARNING:tweepy.api:Unexpected parameter: id\n",
      "WARNING:tweepy.api:Unexpected parameter: id\n",
      "WARNING:tweepy.api:Unexpected parameter: id\n",
      "WARNING:tweepy.api:Unexpected parameter: id\n",
      "WARNING:tweepy.api:Unexpected parameter: id\n",
      "WARNING:tweepy.api:Unexpected parameter: id\n",
      "WARNING:tweepy.api:Unexpected parameter: id\n",
      "WARNING:tweepy.api:Unexpected parameter: id\n",
      "WARNING:tweepy.api:Unexpected parameter: id\n",
      "WARNING:tweepy.api:Unexpected parameter: id\n",
      "WARNING:tweepy.api:Unexpected parameter: id\n",
      "WARNING:tweepy.api:Unexpected parameter: id\n",
      "WARNING:tweepy.api:Unexpected parameter: id\n",
      "WARNING:tweepy.api:Unexpected parameter: id\n",
      "WARNING:tweepy.api:Unexpected parameter: id\n"
     ]
    },
    {
     "name": "stdout",
     "output_type": "stream",
     "text": [
      "Status Failed On, 404 Not Found\n",
      "34 - Sorry, that page does not exist.\n"
     ]
    },
    {
     "name": "stderr",
     "output_type": "stream",
     "text": [
      "WARNING:tweepy.api:Unexpected parameter: id\n",
      "WARNING:tweepy.api:Unexpected parameter: id\n",
      "WARNING:tweepy.api:Unexpected parameter: id\n",
      "WARNING:tweepy.api:Unexpected parameter: id\n",
      "WARNING:tweepy.api:Unexpected parameter: id\n",
      "WARNING:tweepy.api:Unexpected parameter: id\n",
      "WARNING:tweepy.api:Unexpected parameter: id\n",
      "WARNING:tweepy.api:Unexpected parameter: id\n"
     ]
    },
    {
     "name": "stdout",
     "output_type": "stream",
     "text": [
      "Status Failed On, 401 Unauthorized\n",
      "Not authorized.\n",
      "Status Failed On, 401 Unauthorized\n",
      "Not authorized.\n"
     ]
    },
    {
     "name": "stderr",
     "output_type": "stream",
     "text": [
      "WARNING:tweepy.api:Unexpected parameter: id\n",
      "WARNING:tweepy.api:Unexpected parameter: id\n",
      "WARNING:tweepy.api:Unexpected parameter: id\n",
      "WARNING:tweepy.api:Unexpected parameter: id\n",
      "WARNING:tweepy.api:Unexpected parameter: id\n",
      "WARNING:tweepy.api:Unexpected parameter: id\n",
      "WARNING:tweepy.api:Unexpected parameter: id\n",
      "WARNING:tweepy.api:Unexpected parameter: id\n",
      "WARNING:tweepy.api:Unexpected parameter: id\n",
      "WARNING:tweepy.api:Unexpected parameter: id\n",
      "WARNING:tweepy.api:Unexpected parameter: id\n",
      "WARNING:tweepy.api:Unexpected parameter: id\n",
      "WARNING:tweepy.api:Unexpected parameter: id\n"
     ]
    },
    {
     "name": "stdout",
     "output_type": "stream",
     "text": [
      "Status Failed On, 401 Unauthorized\n",
      "Not authorized.\n"
     ]
    },
    {
     "name": "stderr",
     "output_type": "stream",
     "text": [
      "WARNING:tweepy.api:Unexpected parameter: id\n",
      "WARNING:tweepy.api:Unexpected parameter: id\n",
      "WARNING:tweepy.api:Unexpected parameter: id\n",
      "WARNING:tweepy.api:Unexpected parameter: id\n",
      "WARNING:tweepy.api:Unexpected parameter: id\n",
      "WARNING:tweepy.api:Unexpected parameter: id\n",
      "WARNING:tweepy.api:Unexpected parameter: id\n",
      "WARNING:tweepy.api:Unexpected parameter: id\n",
      "WARNING:tweepy.api:Unexpected parameter: id\n",
      "WARNING:tweepy.api:Unexpected parameter: id\n",
      "WARNING:tweepy.api:Unexpected parameter: id\n",
      "WARNING:tweepy.api:Unexpected parameter: id\n",
      "WARNING:tweepy.api:Unexpected parameter: id\n",
      "WARNING:tweepy.api:Unexpected parameter: id\n",
      "WARNING:tweepy.api:Unexpected parameter: id\n",
      "WARNING:tweepy.api:Unexpected parameter: id\n",
      "WARNING:tweepy.api:Unexpected parameter: id\n",
      "WARNING:tweepy.api:Unexpected parameter: id\n",
      "WARNING:tweepy.api:Unexpected parameter: id\n",
      "WARNING:tweepy.api:Unexpected parameter: id\n",
      "WARNING:tweepy.api:Unexpected parameter: id\n",
      "WARNING:tweepy.api:Unexpected parameter: id\n",
      "WARNING:tweepy.api:Unexpected parameter: id\n",
      "WARNING:tweepy.api:Unexpected parameter: id\n",
      "WARNING:tweepy.api:Unexpected parameter: id\n",
      "WARNING:tweepy.api:Unexpected parameter: id\n",
      "WARNING:tweepy.api:Unexpected parameter: id\n",
      "WARNING:tweepy.api:Unexpected parameter: id\n",
      "WARNING:tweepy.api:Unexpected parameter: id\n"
     ]
    },
    {
     "name": "stdout",
     "output_type": "stream",
     "text": [
      "Status Failed On, 401 Unauthorized\n",
      "Not authorized.\n"
     ]
    },
    {
     "name": "stderr",
     "output_type": "stream",
     "text": [
      "WARNING:tweepy.api:Unexpected parameter: id\n",
      "WARNING:tweepy.api:Unexpected parameter: id\n",
      "WARNING:tweepy.api:Unexpected parameter: id\n",
      "WARNING:tweepy.api:Unexpected parameter: id\n",
      "WARNING:tweepy.api:Unexpected parameter: id\n",
      "WARNING:tweepy.api:Unexpected parameter: id\n",
      "WARNING:tweepy.api:Unexpected parameter: id\n",
      "WARNING:tweepy.api:Unexpected parameter: id\n",
      "WARNING:tweepy.api:Unexpected parameter: id\n",
      "WARNING:tweepy.api:Unexpected parameter: id\n",
      "WARNING:tweepy.api:Unexpected parameter: id\n",
      "WARNING:tweepy.api:Unexpected parameter: id\n"
     ]
    },
    {
     "name": "stdout",
     "output_type": "stream",
     "text": [
      "Status Failed On, 401 Unauthorized\n",
      "Not authorized.\n"
     ]
    },
    {
     "name": "stderr",
     "output_type": "stream",
     "text": [
      "WARNING:tweepy.api:Unexpected parameter: id\n",
      "WARNING:tweepy.api:Unexpected parameter: id\n",
      "WARNING:tweepy.api:Unexpected parameter: id\n",
      "WARNING:tweepy.api:Unexpected parameter: id\n",
      "WARNING:tweepy.api:Unexpected parameter: id\n"
     ]
    },
    {
     "name": "stdout",
     "output_type": "stream",
     "text": [
      "Status Failed On, 404 Not Found\n",
      "34 - Sorry, that page does not exist.\n"
     ]
    },
    {
     "name": "stderr",
     "output_type": "stream",
     "text": [
      "WARNING:tweepy.api:Unexpected parameter: id\n",
      "WARNING:tweepy.api:Unexpected parameter: id\n",
      "WARNING:tweepy.api:Unexpected parameter: id\n",
      "WARNING:tweepy.api:Unexpected parameter: id\n",
      "WARNING:tweepy.api:Unexpected parameter: id\n",
      "WARNING:tweepy.api:Unexpected parameter: id\n",
      "WARNING:tweepy.api:Unexpected parameter: id\n",
      "WARNING:tweepy.api:Unexpected parameter: id\n"
     ]
    },
    {
     "name": "stdout",
     "output_type": "stream",
     "text": [
      "Status Failed On, 404 Not Found\n",
      "34 - Sorry, that page does not exist.\n"
     ]
    },
    {
     "name": "stderr",
     "output_type": "stream",
     "text": [
      "WARNING:tweepy.api:Unexpected parameter: id\n",
      "WARNING:tweepy.api:Unexpected parameter: id\n",
      "WARNING:tweepy.api:Unexpected parameter: id\n",
      "WARNING:tweepy.api:Unexpected parameter: id\n",
      "WARNING:tweepy.api:Unexpected parameter: id\n",
      "WARNING:tweepy.api:Unexpected parameter: id\n",
      "WARNING:tweepy.api:Unexpected parameter: id\n",
      "WARNING:tweepy.api:Unexpected parameter: id\n"
     ]
    },
    {
     "name": "stdout",
     "output_type": "stream",
     "text": [
      "Status Failed On, 401 Unauthorized\n",
      "Not authorized.\n"
     ]
    },
    {
     "name": "stderr",
     "output_type": "stream",
     "text": [
      "WARNING:tweepy.api:Unexpected parameter: id\n",
      "WARNING:tweepy.api:Unexpected parameter: id\n",
      "WARNING:tweepy.api:Unexpected parameter: id\n",
      "WARNING:tweepy.api:Unexpected parameter: id\n",
      "WARNING:tweepy.api:Unexpected parameter: id\n"
     ]
    },
    {
     "name": "stdout",
     "output_type": "stream",
     "text": [
      "Status Failed On, 401 Unauthorized\n",
      "Not authorized.\n"
     ]
    },
    {
     "name": "stderr",
     "output_type": "stream",
     "text": [
      "WARNING:tweepy.api:Unexpected parameter: id\n",
      "WARNING:tweepy.api:Unexpected parameter: id\n",
      "WARNING:tweepy.api:Unexpected parameter: id\n",
      "WARNING:tweepy.api:Unexpected parameter: id\n",
      "WARNING:tweepy.api:Unexpected parameter: id\n"
     ]
    },
    {
     "name": "stdout",
     "output_type": "stream",
     "text": [
      "Status Failed On, 401 Unauthorized\n",
      "Not authorized.\n"
     ]
    },
    {
     "name": "stderr",
     "output_type": "stream",
     "text": [
      "WARNING:tweepy.api:Unexpected parameter: id\n",
      "WARNING:tweepy.api:Unexpected parameter: id\n",
      "WARNING:tweepy.api:Unexpected parameter: id\n",
      "WARNING:tweepy.api:Unexpected parameter: id\n",
      "WARNING:tweepy.api:Unexpected parameter: id\n",
      "WARNING:tweepy.api:Unexpected parameter: id\n",
      "WARNING:tweepy.api:Unexpected parameter: id\n",
      "WARNING:tweepy.api:Unexpected parameter: id\n",
      "WARNING:tweepy.api:Unexpected parameter: id\n",
      "WARNING:tweepy.api:Unexpected parameter: id\n",
      "WARNING:tweepy.api:Unexpected parameter: id\n",
      "WARNING:tweepy.api:Unexpected parameter: id\n",
      "WARNING:tweepy.api:Unexpected parameter: id\n",
      "WARNING:tweepy.api:Unexpected parameter: id\n",
      "WARNING:tweepy.api:Unexpected parameter: id\n",
      "WARNING:tweepy.api:Unexpected parameter: id\n",
      "WARNING:tweepy.api:Unexpected parameter: id\n",
      "WARNING:tweepy.api:Unexpected parameter: id\n",
      "WARNING:tweepy.api:Unexpected parameter: id\n",
      "WARNING:tweepy.api:Unexpected parameter: id\n",
      "WARNING:tweepy.api:Unexpected parameter: id\n",
      "WARNING:tweepy.api:Unexpected parameter: id\n",
      "WARNING:tweepy.api:Unexpected parameter: id\n",
      "WARNING:tweepy.api:Unexpected parameter: id\n",
      "WARNING:tweepy.api:Unexpected parameter: id\n",
      "WARNING:tweepy.api:Unexpected parameter: id\n",
      "WARNING:tweepy.api:Unexpected parameter: id\n",
      "WARNING:tweepy.api:Unexpected parameter: id\n",
      "WARNING:tweepy.api:Unexpected parameter: id\n",
      "WARNING:tweepy.api:Unexpected parameter: id\n"
     ]
    },
    {
     "name": "stdout",
     "output_type": "stream",
     "text": [
      "Status Failed On, 401 Unauthorized\n",
      "Not authorized.\n"
     ]
    },
    {
     "name": "stderr",
     "output_type": "stream",
     "text": [
      "WARNING:tweepy.api:Unexpected parameter: id\n",
      "WARNING:tweepy.api:Unexpected parameter: id\n",
      "WARNING:tweepy.api:Unexpected parameter: id\n",
      "WARNING:tweepy.api:Unexpected parameter: id\n",
      "WARNING:tweepy.api:Unexpected parameter: id\n",
      "WARNING:tweepy.api:Unexpected parameter: id\n",
      "WARNING:tweepy.api:Unexpected parameter: id\n",
      "WARNING:tweepy.api:Unexpected parameter: id\n",
      "WARNING:tweepy.api:Unexpected parameter: id\n",
      "WARNING:tweepy.api:Unexpected parameter: id\n",
      "WARNING:tweepy.api:Unexpected parameter: id\n",
      "WARNING:tweepy.api:Unexpected parameter: id\n",
      "WARNING:tweepy.api:Unexpected parameter: id\n",
      "WARNING:tweepy.api:Unexpected parameter: id\n",
      "WARNING:tweepy.api:Unexpected parameter: id\n",
      "WARNING:tweepy.api:Unexpected parameter: id\n",
      "WARNING:tweepy.api:Unexpected parameter: id\n",
      "WARNING:tweepy.api:Unexpected parameter: id\n",
      "WARNING:tweepy.api:Unexpected parameter: id\n",
      "WARNING:tweepy.api:Unexpected parameter: id\n",
      "WARNING:tweepy.api:Unexpected parameter: id\n",
      "WARNING:tweepy.api:Unexpected parameter: id\n",
      "WARNING:tweepy.api:Unexpected parameter: id\n",
      "WARNING:tweepy.api:Unexpected parameter: id\n",
      "WARNING:tweepy.api:Unexpected parameter: id\n",
      "WARNING:tweepy.api:Unexpected parameter: id\n",
      "WARNING:tweepy.api:Unexpected parameter: id\n",
      "WARNING:tweepy.api:Unexpected parameter: id\n",
      "WARNING:tweepy.api:Unexpected parameter: id\n"
     ]
    },
    {
     "name": "stdout",
     "output_type": "stream",
     "text": [
      "Status Failed On, 404 Not Found\n",
      "34 - Sorry, that page does not exist.\n"
     ]
    },
    {
     "name": "stderr",
     "output_type": "stream",
     "text": [
      "WARNING:tweepy.api:Unexpected parameter: id\n",
      "WARNING:tweepy.api:Unexpected parameter: id\n"
     ]
    },
    {
     "name": "stdout",
     "output_type": "stream",
     "text": [
      "Status Failed On, 401 Unauthorized\n",
      "Not authorized.\n"
     ]
    },
    {
     "name": "stderr",
     "output_type": "stream",
     "text": [
      "WARNING:tweepy.api:Unexpected parameter: id\n",
      "WARNING:tweepy.api:Unexpected parameter: id\n",
      "WARNING:tweepy.api:Unexpected parameter: id\n",
      "WARNING:tweepy.api:Unexpected parameter: id\n",
      "WARNING:tweepy.api:Unexpected parameter: id\n",
      "WARNING:tweepy.api:Unexpected parameter: id\n",
      "WARNING:tweepy.api:Unexpected parameter: id\n",
      "WARNING:tweepy.api:Unexpected parameter: id\n",
      "WARNING:tweepy.api:Unexpected parameter: id\n",
      "WARNING:tweepy.api:Unexpected parameter: id\n"
     ]
    },
    {
     "name": "stdout",
     "output_type": "stream",
     "text": [
      "Status Failed On, 401 Unauthorized\n",
      "Not authorized.\n"
     ]
    },
    {
     "name": "stderr",
     "output_type": "stream",
     "text": [
      "WARNING:tweepy.api:Unexpected parameter: id\n",
      "WARNING:tweepy.api:Unexpected parameter: id\n",
      "WARNING:tweepy.api:Unexpected parameter: id\n",
      "WARNING:tweepy.api:Unexpected parameter: id\n",
      "WARNING:tweepy.api:Unexpected parameter: id\n",
      "WARNING:tweepy.api:Unexpected parameter: id\n",
      "WARNING:tweepy.api:Unexpected parameter: id\n",
      "WARNING:tweepy.api:Unexpected parameter: id\n",
      "WARNING:tweepy.api:Unexpected parameter: id\n",
      "WARNING:tweepy.api:Unexpected parameter: id\n",
      "WARNING:tweepy.api:Unexpected parameter: id\n",
      "WARNING:tweepy.api:Unexpected parameter: id\n",
      "WARNING:tweepy.api:Unexpected parameter: id\n",
      "WARNING:tweepy.api:Unexpected parameter: id\n",
      "WARNING:tweepy.api:Unexpected parameter: id\n",
      "WARNING:tweepy.api:Unexpected parameter: id\n",
      "WARNING:tweepy.api:Unexpected parameter: id\n",
      "WARNING:tweepy.api:Unexpected parameter: id\n",
      "WARNING:tweepy.api:Unexpected parameter: id\n"
     ]
    },
    {
     "name": "stdout",
     "output_type": "stream",
     "text": [
      "Status Failed On, 404 Not Found\n",
      "34 - Sorry, that page does not exist.\n"
     ]
    },
    {
     "name": "stderr",
     "output_type": "stream",
     "text": [
      "WARNING:tweepy.api:Unexpected parameter: id\n",
      "WARNING:tweepy.api:Unexpected parameter: id\n"
     ]
    },
    {
     "name": "stdout",
     "output_type": "stream",
     "text": [
      "Status Failed On, 401 Unauthorized\n",
      "Not authorized.\n"
     ]
    },
    {
     "name": "stderr",
     "output_type": "stream",
     "text": [
      "WARNING:tweepy.api:Unexpected parameter: id\n",
      "WARNING:tweepy.api:Unexpected parameter: id\n",
      "WARNING:tweepy.api:Unexpected parameter: id\n",
      "WARNING:tweepy.api:Unexpected parameter: id\n",
      "WARNING:tweepy.api:Unexpected parameter: id\n",
      "WARNING:tweepy.api:Unexpected parameter: id\n",
      "WARNING:tweepy.api:Unexpected parameter: id\n",
      "WARNING:tweepy.api:Unexpected parameter: id\n",
      "WARNING:tweepy.api:Unexpected parameter: id\n",
      "WARNING:tweepy.api:Unexpected parameter: id\n",
      "WARNING:tweepy.api:Unexpected parameter: id\n",
      "WARNING:tweepy.api:Unexpected parameter: id\n",
      "WARNING:tweepy.api:Unexpected parameter: id\n",
      "WARNING:tweepy.api:Unexpected parameter: id\n",
      "WARNING:tweepy.api:Unexpected parameter: id\n",
      "WARNING:tweepy.api:Unexpected parameter: id\n",
      "WARNING:tweepy.api:Unexpected parameter: id\n",
      "WARNING:tweepy.api:Unexpected parameter: id\n",
      "WARNING:tweepy.api:Unexpected parameter: id\n",
      "WARNING:tweepy.api:Unexpected parameter: id\n"
     ]
    },
    {
     "name": "stdout",
     "output_type": "stream",
     "text": [
      "Status Failed On, 401 Unauthorized\n",
      "Not authorized.\n"
     ]
    },
    {
     "name": "stderr",
     "output_type": "stream",
     "text": [
      "WARNING:tweepy.api:Unexpected parameter: id\n",
      "WARNING:tweepy.api:Unexpected parameter: id\n",
      "WARNING:tweepy.api:Unexpected parameter: id\n",
      "WARNING:tweepy.api:Unexpected parameter: id\n",
      "WARNING:tweepy.api:Unexpected parameter: id\n",
      "WARNING:tweepy.api:Unexpected parameter: id\n"
     ]
    },
    {
     "name": "stdout",
     "output_type": "stream",
     "text": [
      "Status Failed On, 404 Not Found\n",
      "34 - Sorry, that page does not exist.\n"
     ]
    },
    {
     "name": "stderr",
     "output_type": "stream",
     "text": [
      "WARNING:tweepy.api:Unexpected parameter: id\n",
      "WARNING:tweepy.api:Unexpected parameter: id\n",
      "WARNING:tweepy.api:Unexpected parameter: id\n",
      "WARNING:tweepy.api:Unexpected parameter: id\n",
      "WARNING:tweepy.api:Unexpected parameter: id\n",
      "WARNING:tweepy.api:Unexpected parameter: id\n",
      "WARNING:tweepy.api:Unexpected parameter: id\n",
      "WARNING:tweepy.api:Unexpected parameter: id\n",
      "WARNING:tweepy.api:Unexpected parameter: id\n",
      "WARNING:tweepy.api:Unexpected parameter: id\n",
      "WARNING:tweepy.api:Unexpected parameter: id\n",
      "WARNING:tweepy.api:Unexpected parameter: id\n",
      "WARNING:tweepy.api:Unexpected parameter: id\n",
      "WARNING:tweepy.api:Unexpected parameter: id\n",
      "WARNING:tweepy.api:Unexpected parameter: id\n",
      "WARNING:tweepy.api:Unexpected parameter: id\n",
      "WARNING:tweepy.api:Unexpected parameter: id\n",
      "WARNING:tweepy.api:Unexpected parameter: id\n",
      "WARNING:tweepy.api:Unexpected parameter: id\n",
      "WARNING:tweepy.api:Unexpected parameter: id\n",
      "WARNING:tweepy.api:Unexpected parameter: id\n",
      "WARNING:tweepy.api:Unexpected parameter: id\n",
      "WARNING:tweepy.api:Unexpected parameter: id\n"
     ]
    },
    {
     "name": "stdout",
     "output_type": "stream",
     "text": [
      "Status Failed On, 401 Unauthorized\n",
      "Not authorized.\n"
     ]
    },
    {
     "name": "stderr",
     "output_type": "stream",
     "text": [
      "WARNING:tweepy.api:Unexpected parameter: id\n",
      "WARNING:tweepy.api:Unexpected parameter: id\n",
      "WARNING:tweepy.api:Unexpected parameter: id\n",
      "WARNING:tweepy.api:Unexpected parameter: id\n",
      "WARNING:tweepy.api:Unexpected parameter: id\n",
      "WARNING:tweepy.api:Unexpected parameter: id\n",
      "WARNING:tweepy.api:Unexpected parameter: id\n",
      "WARNING:tweepy.api:Unexpected parameter: id\n",
      "WARNING:tweepy.api:Unexpected parameter: id\n",
      "WARNING:tweepy.api:Unexpected parameter: id\n",
      "WARNING:tweepy.api:Unexpected parameter: id\n"
     ]
    },
    {
     "name": "stdout",
     "output_type": "stream",
     "text": [
      "Status Failed On, 401 Unauthorized\n",
      "Not authorized.\n",
      "Status Failed On, 404 Not Found\n",
      "34 - Sorry, that page does not exist.\n"
     ]
    },
    {
     "name": "stderr",
     "output_type": "stream",
     "text": [
      "WARNING:tweepy.api:Unexpected parameter: id\n",
      "WARNING:tweepy.api:Unexpected parameter: id\n",
      "WARNING:tweepy.api:Unexpected parameter: id\n",
      "WARNING:tweepy.api:Unexpected parameter: id\n",
      "WARNING:tweepy.api:Unexpected parameter: id\n",
      "WARNING:tweepy.api:Unexpected parameter: id\n"
     ]
    },
    {
     "name": "stdout",
     "output_type": "stream",
     "text": [
      "Status Failed On, 404 Not Found\n",
      "34 - Sorry, that page does not exist.\n"
     ]
    },
    {
     "name": "stderr",
     "output_type": "stream",
     "text": [
      "WARNING:tweepy.api:Unexpected parameter: id\n",
      "WARNING:tweepy.api:Unexpected parameter: id\n",
      "WARNING:tweepy.api:Unexpected parameter: id\n",
      "WARNING:tweepy.api:Unexpected parameter: id\n",
      "WARNING:tweepy.api:Unexpected parameter: id\n",
      "WARNING:tweepy.api:Unexpected parameter: id\n",
      "WARNING:tweepy.api:Unexpected parameter: id\n"
     ]
    },
    {
     "name": "stdout",
     "output_type": "stream",
     "text": [
      "Status Failed On, 401 Unauthorized\n",
      "Not authorized.\n"
     ]
    },
    {
     "name": "stderr",
     "output_type": "stream",
     "text": [
      "WARNING:tweepy.api:Unexpected parameter: id\n",
      "WARNING:tweepy.api:Unexpected parameter: id\n",
      "WARNING:tweepy.api:Unexpected parameter: id\n",
      "WARNING:tweepy.api:Unexpected parameter: id\n",
      "WARNING:tweepy.api:Unexpected parameter: id\n",
      "WARNING:tweepy.api:Unexpected parameter: id\n",
      "WARNING:tweepy.api:Unexpected parameter: id\n",
      "WARNING:tweepy.api:Unexpected parameter: id\n",
      "WARNING:tweepy.api:Unexpected parameter: id\n",
      "WARNING:tweepy.api:Unexpected parameter: id\n",
      "WARNING:tweepy.api:Unexpected parameter: id\n",
      "WARNING:tweepy.api:Unexpected parameter: id\n",
      "WARNING:tweepy.api:Unexpected parameter: id\n",
      "WARNING:tweepy.api:Unexpected parameter: id\n",
      "WARNING:tweepy.api:Unexpected parameter: id\n"
     ]
    },
    {
     "name": "stdout",
     "output_type": "stream",
     "text": [
      "Status Failed On, 401 Unauthorized\n",
      "Not authorized.\n"
     ]
    },
    {
     "name": "stderr",
     "output_type": "stream",
     "text": [
      "WARNING:tweepy.api:Unexpected parameter: id\n",
      "WARNING:tweepy.api:Unexpected parameter: id\n",
      "WARNING:tweepy.api:Unexpected parameter: id\n",
      "WARNING:tweepy.api:Unexpected parameter: id\n",
      "WARNING:tweepy.api:Unexpected parameter: id\n",
      "WARNING:tweepy.api:Unexpected parameter: id\n",
      "WARNING:tweepy.api:Unexpected parameter: id\n",
      "WARNING:tweepy.api:Unexpected parameter: id\n",
      "WARNING:tweepy.api:Unexpected parameter: id\n",
      "WARNING:tweepy.api:Unexpected parameter: id\n",
      "WARNING:tweepy.api:Unexpected parameter: id\n",
      "WARNING:tweepy.api:Unexpected parameter: id\n",
      "WARNING:tweepy.api:Unexpected parameter: id\n",
      "WARNING:tweepy.api:Unexpected parameter: id\n",
      "WARNING:tweepy.api:Unexpected parameter: id\n",
      "WARNING:tweepy.api:Unexpected parameter: id\n",
      "WARNING:tweepy.api:Unexpected parameter: id\n",
      "WARNING:tweepy.api:Unexpected parameter: id\n",
      "WARNING:tweepy.api:Unexpected parameter: id\n",
      "WARNING:tweepy.api:Unexpected parameter: id\n",
      "WARNING:tweepy.api:Unexpected parameter: id\n",
      "WARNING:tweepy.api:Unexpected parameter: id\n",
      "WARNING:tweepy.api:Unexpected parameter: id\n",
      "WARNING:tweepy.api:Unexpected parameter: id\n"
     ]
    },
    {
     "name": "stdout",
     "output_type": "stream",
     "text": [
      "Status Failed On, 404 Not Found\n",
      "34 - Sorry, that page does not exist.\n"
     ]
    },
    {
     "name": "stderr",
     "output_type": "stream",
     "text": [
      "WARNING:tweepy.api:Unexpected parameter: id\n",
      "WARNING:tweepy.api:Unexpected parameter: id\n",
      "WARNING:tweepy.api:Unexpected parameter: id\n",
      "WARNING:tweepy.api:Unexpected parameter: id\n"
     ]
    },
    {
     "name": "stdout",
     "output_type": "stream",
     "text": [
      "Status Failed On, 404 Not Found\n",
      "34 - Sorry, that page does not exist.\n"
     ]
    },
    {
     "name": "stderr",
     "output_type": "stream",
     "text": [
      "WARNING:tweepy.api:Unexpected parameter: id\n",
      "WARNING:tweepy.api:Unexpected parameter: id\n",
      "WARNING:tweepy.api:Unexpected parameter: id\n",
      "WARNING:tweepy.api:Unexpected parameter: id\n",
      "WARNING:tweepy.api:Unexpected parameter: id\n",
      "WARNING:tweepy.api:Unexpected parameter: id\n"
     ]
    },
    {
     "name": "stdout",
     "output_type": "stream",
     "text": [
      "Status Failed On, 401 Unauthorized\n",
      "Not authorized.\n",
      "Status Failed On, 401 Unauthorized\n",
      "Not authorized.\n"
     ]
    },
    {
     "name": "stderr",
     "output_type": "stream",
     "text": [
      "WARNING:tweepy.api:Unexpected parameter: id\n",
      "WARNING:tweepy.api:Unexpected parameter: id\n",
      "WARNING:tweepy.api:Unexpected parameter: id\n",
      "WARNING:tweepy.api:Unexpected parameter: id\n",
      "WARNING:tweepy.api:Unexpected parameter: id\n",
      "WARNING:tweepy.api:Unexpected parameter: id\n"
     ]
    },
    {
     "name": "stdout",
     "output_type": "stream",
     "text": [
      "Status Failed On, 404 Not Found\n",
      "34 - Sorry, that page does not exist.\n"
     ]
    },
    {
     "name": "stderr",
     "output_type": "stream",
     "text": [
      "WARNING:tweepy.api:Unexpected parameter: id\n",
      "WARNING:tweepy.api:Unexpected parameter: id\n",
      "WARNING:tweepy.api:Unexpected parameter: id\n",
      "WARNING:tweepy.api:Unexpected parameter: id\n",
      "WARNING:tweepy.api:Unexpected parameter: id\n",
      "WARNING:tweepy.api:Unexpected parameter: id\n",
      "WARNING:tweepy.api:Unexpected parameter: id\n"
     ]
    },
    {
     "name": "stdout",
     "output_type": "stream",
     "text": [
      "Status Failed On, 404 Not Found\n",
      "34 - Sorry, that page does not exist.\n"
     ]
    },
    {
     "name": "stderr",
     "output_type": "stream",
     "text": [
      "WARNING:tweepy.api:Unexpected parameter: id\n"
     ]
    },
    {
     "name": "stdout",
     "output_type": "stream",
     "text": [
      "Status Failed On, 404 Not Found\n",
      "34 - Sorry, that page does not exist.\n"
     ]
    },
    {
     "name": "stderr",
     "output_type": "stream",
     "text": [
      "WARNING:tweepy.api:Unexpected parameter: id\n",
      "WARNING:tweepy.api:Unexpected parameter: id\n",
      "WARNING:tweepy.api:Unexpected parameter: id\n",
      "WARNING:tweepy.api:Unexpected parameter: id\n",
      "WARNING:tweepy.api:Unexpected parameter: id\n",
      "WARNING:tweepy.api:Unexpected parameter: id\n",
      "WARNING:tweepy.api:Unexpected parameter: id\n",
      "WARNING:tweepy.api:Unexpected parameter: id\n",
      "WARNING:tweepy.api:Unexpected parameter: id\n",
      "WARNING:tweepy.api:Unexpected parameter: id\n",
      "WARNING:tweepy.api:Unexpected parameter: id\n",
      "WARNING:tweepy.api:Unexpected parameter: id\n",
      "WARNING:tweepy.api:Unexpected parameter: id\n",
      "WARNING:tweepy.api:Unexpected parameter: id\n",
      "WARNING:tweepy.api:Unexpected parameter: id\n",
      "WARNING:tweepy.api:Unexpected parameter: id\n",
      "WARNING:tweepy.api:Unexpected parameter: id\n",
      "WARNING:tweepy.api:Unexpected parameter: id\n",
      "WARNING:tweepy.api:Unexpected parameter: id\n",
      "WARNING:tweepy.api:Unexpected parameter: id\n",
      "WARNING:tweepy.api:Unexpected parameter: id\n",
      "WARNING:tweepy.api:Unexpected parameter: id\n",
      "WARNING:tweepy.api:Unexpected parameter: id\n",
      "WARNING:tweepy.api:Unexpected parameter: id\n",
      "WARNING:tweepy.api:Unexpected parameter: id\n",
      "WARNING:tweepy.api:Unexpected parameter: id\n",
      "WARNING:tweepy.api:Unexpected parameter: id\n",
      "WARNING:tweepy.api:Unexpected parameter: id\n",
      "WARNING:tweepy.api:Unexpected parameter: id\n",
      "WARNING:tweepy.api:Unexpected parameter: id\n",
      "WARNING:tweepy.api:Unexpected parameter: id\n",
      "WARNING:tweepy.api:Unexpected parameter: id\n",
      "WARNING:tweepy.api:Unexpected parameter: id\n",
      "WARNING:tweepy.api:Unexpected parameter: id\n",
      "WARNING:tweepy.api:Unexpected parameter: id\n",
      "WARNING:tweepy.api:Unexpected parameter: id\n",
      "WARNING:tweepy.api:Unexpected parameter: id\n",
      "WARNING:tweepy.api:Unexpected parameter: id\n",
      "WARNING:tweepy.api:Unexpected parameter: id\n",
      "WARNING:tweepy.api:Unexpected parameter: id\n",
      "WARNING:tweepy.api:Unexpected parameter: id\n",
      "WARNING:tweepy.api:Unexpected parameter: id\n",
      "WARNING:tweepy.api:Unexpected parameter: id\n",
      "WARNING:tweepy.api:Unexpected parameter: id\n",
      "WARNING:tweepy.api:Unexpected parameter: id\n",
      "WARNING:tweepy.api:Unexpected parameter: id\n",
      "WARNING:tweepy.api:Unexpected parameter: id\n",
      "WARNING:tweepy.api:Unexpected parameter: id\n",
      "WARNING:tweepy.api:Unexpected parameter: id\n",
      "WARNING:tweepy.api:Unexpected parameter: id\n",
      "WARNING:tweepy.api:Unexpected parameter: id\n",
      "WARNING:tweepy.api:Unexpected parameter: id\n",
      "WARNING:tweepy.api:Unexpected parameter: id\n"
     ]
    },
    {
     "name": "stdout",
     "output_type": "stream",
     "text": [
      "Status Failed On, 401 Unauthorized\n",
      "Not authorized.\n"
     ]
    },
    {
     "name": "stderr",
     "output_type": "stream",
     "text": [
      "WARNING:tweepy.api:Unexpected parameter: id\n",
      "WARNING:tweepy.api:Unexpected parameter: id\n",
      "WARNING:tweepy.api:Unexpected parameter: id\n",
      "WARNING:tweepy.api:Unexpected parameter: id\n",
      "WARNING:tweepy.api:Unexpected parameter: id\n",
      "WARNING:tweepy.api:Unexpected parameter: id\n",
      "WARNING:tweepy.api:Unexpected parameter: id\n",
      "WARNING:tweepy.api:Unexpected parameter: id\n",
      "WARNING:tweepy.api:Unexpected parameter: id\n",
      "WARNING:tweepy.api:Unexpected parameter: id\n",
      "WARNING:tweepy.api:Unexpected parameter: id\n",
      "WARNING:tweepy.api:Unexpected parameter: id\n"
     ]
    },
    {
     "name": "stdout",
     "output_type": "stream",
     "text": [
      "Status Failed On, 401 Unauthorized\n",
      "Not authorized.\n"
     ]
    },
    {
     "name": "stderr",
     "output_type": "stream",
     "text": [
      "WARNING:tweepy.api:Unexpected parameter: id\n",
      "WARNING:tweepy.api:Unexpected parameter: id\n",
      "WARNING:tweepy.api:Unexpected parameter: id\n",
      "WARNING:tweepy.api:Unexpected parameter: id\n",
      "WARNING:tweepy.api:Unexpected parameter: id\n",
      "WARNING:tweepy.api:Unexpected parameter: id\n",
      "WARNING:tweepy.api:Unexpected parameter: id\n",
      "WARNING:tweepy.api:Unexpected parameter: id\n"
     ]
    },
    {
     "name": "stdout",
     "output_type": "stream",
     "text": [
      "Status Failed On, 404 Not Found\n",
      "34 - Sorry, that page does not exist.\n"
     ]
    },
    {
     "name": "stderr",
     "output_type": "stream",
     "text": [
      "WARNING:tweepy.api:Unexpected parameter: id\n",
      "WARNING:tweepy.api:Unexpected parameter: id\n",
      "WARNING:tweepy.api:Unexpected parameter: id\n",
      "WARNING:tweepy.api:Unexpected parameter: id\n",
      "WARNING:tweepy.api:Unexpected parameter: id\n",
      "WARNING:tweepy.api:Unexpected parameter: id\n",
      "WARNING:tweepy.api:Unexpected parameter: id\n",
      "WARNING:tweepy.api:Unexpected parameter: id\n",
      "WARNING:tweepy.api:Unexpected parameter: id\n",
      "WARNING:tweepy.api:Unexpected parameter: id\n",
      "WARNING:tweepy.api:Unexpected parameter: id\n",
      "WARNING:tweepy.api:Unexpected parameter: id\n",
      "WARNING:tweepy.api:Unexpected parameter: id\n",
      "WARNING:tweepy.api:Unexpected parameter: id\n"
     ]
    },
    {
     "name": "stdout",
     "output_type": "stream",
     "text": [
      "Status Failed On, 401 Unauthorized\n",
      "Not authorized.\n"
     ]
    },
    {
     "name": "stderr",
     "output_type": "stream",
     "text": [
      "WARNING:tweepy.api:Unexpected parameter: id\n",
      "WARNING:tweepy.api:Unexpected parameter: id\n",
      "WARNING:tweepy.api:Unexpected parameter: id\n",
      "WARNING:tweepy.api:Unexpected parameter: id\n"
     ]
    },
    {
     "name": "stdout",
     "output_type": "stream",
     "text": [
      "Status Failed On, 401 Unauthorized\n",
      "Not authorized.\n"
     ]
    },
    {
     "name": "stderr",
     "output_type": "stream",
     "text": [
      "WARNING:tweepy.api:Unexpected parameter: id\n",
      "WARNING:tweepy.api:Unexpected parameter: id\n",
      "WARNING:tweepy.api:Unexpected parameter: id\n",
      "WARNING:tweepy.api:Unexpected parameter: id\n"
     ]
    },
    {
     "name": "stdout",
     "output_type": "stream",
     "text": [
      "Status Failed On, 404 Not Found\n",
      "34 - Sorry, that page does not exist.\n"
     ]
    },
    {
     "name": "stderr",
     "output_type": "stream",
     "text": [
      "WARNING:tweepy.api:Unexpected parameter: id\n",
      "WARNING:tweepy.api:Unexpected parameter: id\n",
      "WARNING:tweepy.api:Unexpected parameter: id\n",
      "WARNING:tweepy.api:Unexpected parameter: id\n",
      "WARNING:tweepy.api:Unexpected parameter: id\n",
      "WARNING:tweepy.api:Unexpected parameter: id\n",
      "WARNING:tweepy.api:Unexpected parameter: id\n",
      "WARNING:tweepy.api:Unexpected parameter: id\n"
     ]
    },
    {
     "name": "stdout",
     "output_type": "stream",
     "text": [
      "Status Failed On, 401 Unauthorized\n",
      "Not authorized.\n"
     ]
    },
    {
     "name": "stderr",
     "output_type": "stream",
     "text": [
      "WARNING:tweepy.api:Unexpected parameter: id\n"
     ]
    },
    {
     "name": "stdout",
     "output_type": "stream",
     "text": [
      "Status Failed On, 401 Unauthorized\n",
      "Not authorized.\n"
     ]
    },
    {
     "name": "stderr",
     "output_type": "stream",
     "text": [
      "WARNING:tweepy.api:Unexpected parameter: id\n",
      "WARNING:tweepy.api:Unexpected parameter: id\n",
      "WARNING:tweepy.api:Unexpected parameter: id\n",
      "WARNING:tweepy.api:Unexpected parameter: id\n",
      "WARNING:tweepy.api:Unexpected parameter: id\n",
      "WARNING:tweepy.api:Unexpected parameter: id\n"
     ]
    },
    {
     "name": "stdout",
     "output_type": "stream",
     "text": [
      "Status Failed On, 401 Unauthorized\n",
      "Not authorized.\n"
     ]
    },
    {
     "name": "stderr",
     "output_type": "stream",
     "text": [
      "WARNING:tweepy.api:Unexpected parameter: id\n",
      "WARNING:tweepy.api:Unexpected parameter: id\n",
      "WARNING:tweepy.api:Unexpected parameter: id\n",
      "WARNING:tweepy.api:Unexpected parameter: id\n",
      "WARNING:tweepy.api:Unexpected parameter: id\n",
      "WARNING:tweepy.api:Unexpected parameter: id\n",
      "WARNING:tweepy.api:Unexpected parameter: id\n",
      "WARNING:tweepy.api:Unexpected parameter: id\n",
      "WARNING:tweepy.api:Unexpected parameter: id\n",
      "WARNING:tweepy.api:Unexpected parameter: id\n",
      "WARNING:tweepy.api:Unexpected parameter: id\n",
      "WARNING:tweepy.api:Unexpected parameter: id\n",
      "WARNING:tweepy.api:Unexpected parameter: id\n"
     ]
    },
    {
     "name": "stdout",
     "output_type": "stream",
     "text": [
      "Status Failed On, 404 Not Found\n",
      "34 - Sorry, that page does not exist.\n"
     ]
    },
    {
     "name": "stderr",
     "output_type": "stream",
     "text": [
      "WARNING:tweepy.api:Unexpected parameter: id\n",
      "WARNING:tweepy.api:Unexpected parameter: id\n",
      "WARNING:tweepy.api:Unexpected parameter: id\n",
      "WARNING:tweepy.api:Unexpected parameter: id\n",
      "WARNING:tweepy.api:Unexpected parameter: id\n",
      "WARNING:tweepy.api:Unexpected parameter: id\n",
      "WARNING:tweepy.api:Unexpected parameter: id\n",
      "WARNING:tweepy.api:Unexpected parameter: id\n",
      "WARNING:tweepy.api:Unexpected parameter: id\n",
      "WARNING:tweepy.api:Unexpected parameter: id\n"
     ]
    },
    {
     "name": "stdout",
     "output_type": "stream",
     "text": [
      "Status Failed On, 401 Unauthorized\n",
      "Not authorized.\n"
     ]
    },
    {
     "name": "stderr",
     "output_type": "stream",
     "text": [
      "WARNING:tweepy.api:Unexpected parameter: id\n",
      "WARNING:tweepy.api:Unexpected parameter: id\n",
      "WARNING:tweepy.api:Unexpected parameter: id\n",
      "WARNING:tweepy.api:Unexpected parameter: id\n",
      "WARNING:tweepy.api:Unexpected parameter: id\n",
      "WARNING:tweepy.api:Unexpected parameter: id\n",
      "WARNING:tweepy.api:Unexpected parameter: id\n",
      "WARNING:tweepy.api:Unexpected parameter: id\n",
      "WARNING:tweepy.api:Unexpected parameter: id\n",
      "WARNING:tweepy.api:Unexpected parameter: id\n",
      "WARNING:tweepy.api:Unexpected parameter: id\n"
     ]
    },
    {
     "name": "stdout",
     "output_type": "stream",
     "text": [
      "Status Failed On, 401 Unauthorized\n",
      "Not authorized.\n"
     ]
    },
    {
     "name": "stderr",
     "output_type": "stream",
     "text": [
      "WARNING:tweepy.api:Unexpected parameter: id\n",
      "WARNING:tweepy.api:Unexpected parameter: id\n",
      "WARNING:tweepy.api:Unexpected parameter: id\n",
      "WARNING:tweepy.api:Unexpected parameter: id\n",
      "WARNING:tweepy.api:Unexpected parameter: id\n",
      "WARNING:tweepy.api:Unexpected parameter: id\n",
      "WARNING:tweepy.api:Unexpected parameter: id\n"
     ]
    },
    {
     "name": "stdout",
     "output_type": "stream",
     "text": [
      "Status Failed On, 401 Unauthorized\n",
      "Not authorized.\n"
     ]
    },
    {
     "name": "stderr",
     "output_type": "stream",
     "text": [
      "WARNING:tweepy.api:Unexpected parameter: id\n",
      "WARNING:tweepy.api:Unexpected parameter: id\n",
      "WARNING:tweepy.api:Unexpected parameter: id\n",
      "WARNING:tweepy.api:Unexpected parameter: id\n",
      "WARNING:tweepy.api:Unexpected parameter: id\n",
      "WARNING:tweepy.api:Unexpected parameter: id\n",
      "WARNING:tweepy.api:Unexpected parameter: id\n",
      "WARNING:tweepy.api:Unexpected parameter: id\n",
      "WARNING:tweepy.api:Unexpected parameter: id\n",
      "WARNING:tweepy.api:Unexpected parameter: id\n",
      "WARNING:tweepy.api:Unexpected parameter: id\n",
      "WARNING:tweepy.api:Unexpected parameter: id\n",
      "WARNING:tweepy.api:Unexpected parameter: id\n",
      "WARNING:tweepy.api:Unexpected parameter: id\n",
      "WARNING:tweepy.api:Unexpected parameter: id\n",
      "WARNING:tweepy.api:Unexpected parameter: id\n",
      "WARNING:tweepy.api:Unexpected parameter: id\n",
      "WARNING:tweepy.api:Unexpected parameter: id\n",
      "WARNING:tweepy.api:Unexpected parameter: id\n"
     ]
    },
    {
     "name": "stdout",
     "output_type": "stream",
     "text": [
      "Status Failed On, 404 Not Found\n",
      "34 - Sorry, that page does not exist.\n"
     ]
    },
    {
     "name": "stderr",
     "output_type": "stream",
     "text": [
      "WARNING:tweepy.api:Unexpected parameter: id\n",
      "WARNING:tweepy.api:Unexpected parameter: id\n",
      "WARNING:tweepy.api:Unexpected parameter: id\n",
      "WARNING:tweepy.api:Unexpected parameter: id\n",
      "WARNING:tweepy.api:Unexpected parameter: id\n",
      "WARNING:tweepy.api:Unexpected parameter: id\n",
      "WARNING:tweepy.api:Unexpected parameter: id\n",
      "WARNING:tweepy.api:Unexpected parameter: id\n",
      "WARNING:tweepy.api:Unexpected parameter: id\n",
      "WARNING:tweepy.api:Unexpected parameter: id\n",
      "WARNING:tweepy.api:Unexpected parameter: id\n",
      "WARNING:tweepy.api:Unexpected parameter: id\n",
      "WARNING:tweepy.api:Unexpected parameter: id\n",
      "WARNING:tweepy.api:Unexpected parameter: id\n",
      "WARNING:tweepy.api:Unexpected parameter: id\n",
      "WARNING:tweepy.api:Unexpected parameter: id\n",
      "WARNING:tweepy.api:Unexpected parameter: id\n",
      "WARNING:tweepy.api:Unexpected parameter: id\n",
      "WARNING:tweepy.api:Unexpected parameter: id\n",
      "WARNING:tweepy.api:Unexpected parameter: id\n"
     ]
    },
    {
     "name": "stdout",
     "output_type": "stream",
     "text": [
      "Status Failed On, 401 Unauthorized\n",
      "Not authorized.\n"
     ]
    },
    {
     "name": "stderr",
     "output_type": "stream",
     "text": [
      "WARNING:tweepy.api:Unexpected parameter: id\n",
      "WARNING:tweepy.api:Unexpected parameter: id\n",
      "WARNING:tweepy.api:Unexpected parameter: id\n",
      "WARNING:tweepy.api:Unexpected parameter: id\n",
      "WARNING:tweepy.api:Unexpected parameter: id\n",
      "WARNING:tweepy.api:Unexpected parameter: id\n"
     ]
    },
    {
     "name": "stdout",
     "output_type": "stream",
     "text": [
      "Status Failed On, 401 Unauthorized\n",
      "Not authorized.\n"
     ]
    },
    {
     "name": "stderr",
     "output_type": "stream",
     "text": [
      "WARNING:tweepy.api:Unexpected parameter: id\n",
      "WARNING:tweepy.api:Unexpected parameter: id\n",
      "WARNING:tweepy.api:Unexpected parameter: id\n",
      "WARNING:tweepy.api:Unexpected parameter: id\n",
      "WARNING:tweepy.api:Unexpected parameter: id\n",
      "WARNING:tweepy.api:Unexpected parameter: id\n",
      "WARNING:tweepy.api:Unexpected parameter: id\n",
      "WARNING:tweepy.api:Unexpected parameter: id\n"
     ]
    },
    {
     "name": "stdout",
     "output_type": "stream",
     "text": [
      "Status Failed On, 401 Unauthorized\n",
      "Not authorized.\n"
     ]
    },
    {
     "name": "stderr",
     "output_type": "stream",
     "text": [
      "WARNING:tweepy.api:Unexpected parameter: id\n",
      "WARNING:tweepy.api:Unexpected parameter: id\n",
      "WARNING:tweepy.api:Unexpected parameter: id\n"
     ]
    },
    {
     "name": "stdout",
     "output_type": "stream",
     "text": [
      "Status Failed On, 401 Unauthorized\n",
      "Not authorized.\n"
     ]
    },
    {
     "name": "stderr",
     "output_type": "stream",
     "text": [
      "WARNING:tweepy.api:Unexpected parameter: id\n",
      "WARNING:tweepy.api:Unexpected parameter: id\n"
     ]
    },
    {
     "name": "stdout",
     "output_type": "stream",
     "text": [
      "Status Failed On, 404 Not Found\n",
      "34 - Sorry, that page does not exist.\n"
     ]
    },
    {
     "name": "stderr",
     "output_type": "stream",
     "text": [
      "WARNING:tweepy.api:Unexpected parameter: id\n",
      "WARNING:tweepy.api:Unexpected parameter: id\n",
      "WARNING:tweepy.api:Unexpected parameter: id\n",
      "WARNING:tweepy.api:Unexpected parameter: id\n",
      "WARNING:tweepy.api:Unexpected parameter: id\n",
      "WARNING:tweepy.api:Unexpected parameter: id\n",
      "WARNING:tweepy.api:Unexpected parameter: id\n"
     ]
    },
    {
     "name": "stdout",
     "output_type": "stream",
     "text": [
      "Status Failed On, 401 Unauthorized\n",
      "Not authorized.\n"
     ]
    },
    {
     "name": "stderr",
     "output_type": "stream",
     "text": [
      "WARNING:tweepy.api:Unexpected parameter: id\n",
      "WARNING:tweepy.api:Unexpected parameter: id\n",
      "WARNING:tweepy.api:Unexpected parameter: id\n"
     ]
    },
    {
     "name": "stdout",
     "output_type": "stream",
     "text": [
      "Status Failed On, 401 Unauthorized\n",
      "Not authorized.\n"
     ]
    },
    {
     "name": "stderr",
     "output_type": "stream",
     "text": [
      "WARNING:tweepy.api:Unexpected parameter: id\n",
      "WARNING:tweepy.api:Unexpected parameter: id\n"
     ]
    },
    {
     "name": "stdout",
     "output_type": "stream",
     "text": [
      "Status Failed On, 404 Not Found\n",
      "34 - Sorry, that page does not exist.\n"
     ]
    },
    {
     "name": "stderr",
     "output_type": "stream",
     "text": [
      "WARNING:tweepy.api:Unexpected parameter: id\n",
      "WARNING:tweepy.api:Unexpected parameter: id\n",
      "WARNING:tweepy.api:Unexpected parameter: id\n",
      "WARNING:tweepy.api:Unexpected parameter: id\n",
      "WARNING:tweepy.api:Unexpected parameter: id\n",
      "WARNING:tweepy.api:Unexpected parameter: id\n",
      "WARNING:tweepy.api:Unexpected parameter: id\n",
      "WARNING:tweepy.api:Unexpected parameter: id\n",
      "WARNING:tweepy.api:Unexpected parameter: id\n",
      "WARNING:tweepy.api:Unexpected parameter: id\n",
      "WARNING:tweepy.api:Unexpected parameter: id\n",
      "WARNING:tweepy.api:Unexpected parameter: id\n",
      "WARNING:tweepy.api:Unexpected parameter: id\n"
     ]
    },
    {
     "name": "stdout",
     "output_type": "stream",
     "text": [
      "Status Failed On, 404 Not Found\n",
      "34 - Sorry, that page does not exist.\n"
     ]
    },
    {
     "name": "stderr",
     "output_type": "stream",
     "text": [
      "WARNING:tweepy.api:Unexpected parameter: id\n",
      "WARNING:tweepy.api:Unexpected parameter: id\n",
      "WARNING:tweepy.api:Unexpected parameter: id\n",
      "WARNING:tweepy.api:Unexpected parameter: id\n",
      "WARNING:tweepy.api:Unexpected parameter: id\n",
      "WARNING:tweepy.api:Unexpected parameter: id\n"
     ]
    },
    {
     "name": "stdout",
     "output_type": "stream",
     "text": [
      "Status Failed On, 401 Unauthorized\n",
      "Not authorized.\n"
     ]
    },
    {
     "name": "stderr",
     "output_type": "stream",
     "text": [
      "WARNING:tweepy.api:Unexpected parameter: id\n",
      "WARNING:tweepy.api:Unexpected parameter: id\n",
      "WARNING:tweepy.api:Unexpected parameter: id\n",
      "WARNING:tweepy.api:Unexpected parameter: id\n",
      "WARNING:tweepy.api:Unexpected parameter: id\n",
      "WARNING:tweepy.api:Unexpected parameter: id\n",
      "WARNING:tweepy.api:Unexpected parameter: id\n",
      "WARNING:tweepy.api:Unexpected parameter: id\n"
     ]
    },
    {
     "name": "stdout",
     "output_type": "stream",
     "text": [
      "Status Failed On, 404 Not Found\n",
      "34 - Sorry, that page does not exist.\n"
     ]
    },
    {
     "name": "stderr",
     "output_type": "stream",
     "text": [
      "WARNING:tweepy.api:Unexpected parameter: id\n",
      "WARNING:tweepy.api:Unexpected parameter: id\n",
      "WARNING:tweepy.api:Unexpected parameter: id\n"
     ]
    },
    {
     "name": "stdout",
     "output_type": "stream",
     "text": [
      "Status Failed On, 401 Unauthorized\n",
      "Not authorized.\n"
     ]
    },
    {
     "name": "stderr",
     "output_type": "stream",
     "text": [
      "WARNING:tweepy.api:Unexpected parameter: id\n",
      "WARNING:tweepy.api:Unexpected parameter: id\n",
      "WARNING:tweepy.api:Unexpected parameter: id\n",
      "WARNING:tweepy.api:Unexpected parameter: id\n",
      "WARNING:tweepy.api:Unexpected parameter: id\n",
      "WARNING:tweepy.api:Unexpected parameter: id\n",
      "WARNING:tweepy.api:Unexpected parameter: id\n",
      "WARNING:tweepy.api:Unexpected parameter: id\n",
      "WARNING:tweepy.api:Unexpected parameter: id\n",
      "WARNING:tweepy.api:Unexpected parameter: id\n",
      "WARNING:tweepy.api:Unexpected parameter: id\n",
      "WARNING:tweepy.api:Unexpected parameter: id\n",
      "WARNING:tweepy.api:Unexpected parameter: id\n",
      "WARNING:tweepy.api:Unexpected parameter: id\n",
      "WARNING:tweepy.api:Unexpected parameter: id\n",
      "WARNING:tweepy.api:Unexpected parameter: id\n",
      "WARNING:tweepy.api:Unexpected parameter: id\n",
      "WARNING:tweepy.api:Unexpected parameter: id\n",
      "WARNING:tweepy.api:Unexpected parameter: id\n",
      "WARNING:tweepy.api:Unexpected parameter: id\n",
      "WARNING:tweepy.api:Unexpected parameter: id\n",
      "WARNING:tweepy.api:Unexpected parameter: id\n",
      "WARNING:tweepy.api:Unexpected parameter: id\n",
      "WARNING:tweepy.api:Unexpected parameter: id\n",
      "WARNING:tweepy.api:Unexpected parameter: id\n",
      "WARNING:tweepy.api:Unexpected parameter: id\n",
      "WARNING:tweepy.api:Unexpected parameter: id\n",
      "WARNING:tweepy.api:Unexpected parameter: id\n",
      "WARNING:tweepy.api:Unexpected parameter: id\n",
      "WARNING:tweepy.api:Unexpected parameter: id\n"
     ]
    },
    {
     "name": "stdout",
     "output_type": "stream",
     "text": [
      "Status Failed On, 404 Not Found\n",
      "34 - Sorry, that page does not exist.\n"
     ]
    },
    {
     "name": "stderr",
     "output_type": "stream",
     "text": [
      "WARNING:tweepy.api:Unexpected parameter: id\n",
      "WARNING:tweepy.api:Unexpected parameter: id\n",
      "WARNING:tweepy.api:Unexpected parameter: id\n",
      "WARNING:tweepy.api:Unexpected parameter: id\n",
      "WARNING:tweepy.api:Unexpected parameter: id\n"
     ]
    },
    {
     "name": "stdout",
     "output_type": "stream",
     "text": [
      "Status Failed On, 401 Unauthorized\n",
      "Not authorized.\n"
     ]
    },
    {
     "name": "stderr",
     "output_type": "stream",
     "text": [
      "WARNING:tweepy.api:Unexpected parameter: id\n",
      "WARNING:tweepy.api:Unexpected parameter: id\n",
      "WARNING:tweepy.api:Unexpected parameter: id\n"
     ]
    },
    {
     "name": "stdout",
     "output_type": "stream",
     "text": [
      "Status Failed On, 404 Not Found\n",
      "34 - Sorry, that page does not exist.\n"
     ]
    },
    {
     "name": "stderr",
     "output_type": "stream",
     "text": [
      "WARNING:tweepy.api:Unexpected parameter: id\n",
      "WARNING:tweepy.api:Unexpected parameter: id\n",
      "WARNING:tweepy.api:Unexpected parameter: id\n",
      "WARNING:tweepy.api:Unexpected parameter: id\n",
      "WARNING:tweepy.api:Unexpected parameter: id\n",
      "WARNING:tweepy.api:Unexpected parameter: id\n",
      "WARNING:tweepy.api:Unexpected parameter: id\n"
     ]
    },
    {
     "name": "stdout",
     "output_type": "stream",
     "text": [
      "Status Failed On, 401 Unauthorized\n",
      "Not authorized.\n"
     ]
    },
    {
     "name": "stderr",
     "output_type": "stream",
     "text": [
      "WARNING:tweepy.api:Unexpected parameter: id\n",
      "WARNING:tweepy.api:Unexpected parameter: id\n",
      "WARNING:tweepy.api:Unexpected parameter: id\n",
      "WARNING:tweepy.api:Unexpected parameter: id\n",
      "WARNING:tweepy.api:Unexpected parameter: id\n",
      "WARNING:tweepy.api:Unexpected parameter: id\n",
      "WARNING:tweepy.api:Unexpected parameter: id\n"
     ]
    },
    {
     "name": "stdout",
     "output_type": "stream",
     "text": [
      "Status Failed On, 401 Unauthorized\n",
      "Not authorized.\n"
     ]
    },
    {
     "name": "stderr",
     "output_type": "stream",
     "text": [
      "WARNING:tweepy.api:Unexpected parameter: id\n",
      "WARNING:tweepy.api:Unexpected parameter: id\n",
      "WARNING:tweepy.api:Unexpected parameter: id\n",
      "WARNING:tweepy.api:Unexpected parameter: id\n",
      "WARNING:tweepy.api:Unexpected parameter: id\n",
      "WARNING:tweepy.api:Unexpected parameter: id\n",
      "WARNING:tweepy.api:Unexpected parameter: id\n",
      "WARNING:tweepy.api:Unexpected parameter: id\n",
      "WARNING:tweepy.api:Unexpected parameter: id\n",
      "WARNING:tweepy.api:Unexpected parameter: id\n",
      "WARNING:tweepy.api:Unexpected parameter: id\n",
      "WARNING:tweepy.api:Unexpected parameter: id\n",
      "WARNING:tweepy.api:Unexpected parameter: id\n",
      "WARNING:tweepy.api:Unexpected parameter: id\n",
      "WARNING:tweepy.api:Unexpected parameter: id\n",
      "WARNING:tweepy.api:Unexpected parameter: id\n",
      "WARNING:tweepy.api:Unexpected parameter: id\n",
      "WARNING:tweepy.api:Unexpected parameter: id\n",
      "WARNING:tweepy.api:Unexpected parameter: id\n",
      "WARNING:tweepy.api:Unexpected parameter: id\n",
      "WARNING:tweepy.api:Unexpected parameter: id\n",
      "WARNING:tweepy.api:Unexpected parameter: id\n",
      "WARNING:tweepy.api:Unexpected parameter: id\n"
     ]
    },
    {
     "name": "stdout",
     "output_type": "stream",
     "text": [
      "Status Failed On, 401 Unauthorized\n",
      "Not authorized.\n"
     ]
    },
    {
     "name": "stderr",
     "output_type": "stream",
     "text": [
      "WARNING:tweepy.api:Unexpected parameter: id\n",
      "WARNING:tweepy.api:Unexpected parameter: id\n",
      "WARNING:tweepy.api:Unexpected parameter: id\n",
      "WARNING:tweepy.api:Unexpected parameter: id\n",
      "WARNING:tweepy.api:Unexpected parameter: id\n",
      "WARNING:tweepy.api:Unexpected parameter: id\n",
      "WARNING:tweepy.api:Unexpected parameter: id\n",
      "WARNING:tweepy.api:Unexpected parameter: id\n",
      "WARNING:tweepy.api:Unexpected parameter: id\n",
      "WARNING:tweepy.api:Unexpected parameter: id\n",
      "WARNING:tweepy.api:Unexpected parameter: id\n",
      "WARNING:tweepy.api:Unexpected parameter: id\n",
      "WARNING:tweepy.api:Unexpected parameter: id\n",
      "WARNING:tweepy.api:Unexpected parameter: id\n",
      "WARNING:tweepy.api:Unexpected parameter: id\n",
      "WARNING:tweepy.api:Unexpected parameter: id\n",
      "WARNING:tweepy.api:Unexpected parameter: id\n",
      "WARNING:tweepy.api:Unexpected parameter: id\n",
      "WARNING:tweepy.api:Unexpected parameter: id\n",
      "WARNING:tweepy.api:Unexpected parameter: id\n",
      "WARNING:tweepy.api:Unexpected parameter: id\n",
      "WARNING:tweepy.api:Unexpected parameter: id\n"
     ]
    },
    {
     "name": "stdout",
     "output_type": "stream",
     "text": [
      "Status Failed On, 401 Unauthorized\n",
      "Not authorized.\n"
     ]
    },
    {
     "name": "stderr",
     "output_type": "stream",
     "text": [
      "WARNING:tweepy.api:Unexpected parameter: id\n",
      "WARNING:tweepy.api:Unexpected parameter: id\n",
      "WARNING:tweepy.api:Unexpected parameter: id\n",
      "WARNING:tweepy.api:Unexpected parameter: id\n"
     ]
    },
    {
     "name": "stdout",
     "output_type": "stream",
     "text": [
      "Status Failed On, 401 Unauthorized\n",
      "Not authorized.\n"
     ]
    },
    {
     "name": "stderr",
     "output_type": "stream",
     "text": [
      "WARNING:tweepy.api:Unexpected parameter: id\n",
      "WARNING:tweepy.api:Unexpected parameter: id\n",
      "WARNING:tweepy.api:Unexpected parameter: id\n",
      "WARNING:tweepy.api:Unexpected parameter: id\n",
      "WARNING:tweepy.api:Unexpected parameter: id\n",
      "WARNING:tweepy.api:Unexpected parameter: id\n",
      "WARNING:tweepy.api:Unexpected parameter: id\n",
      "WARNING:tweepy.api:Unexpected parameter: id\n",
      "WARNING:tweepy.api:Unexpected parameter: id\n",
      "WARNING:tweepy.api:Unexpected parameter: id\n"
     ]
    },
    {
     "name": "stdout",
     "output_type": "stream",
     "text": [
      "Status Failed On, 404 Not Found\n",
      "34 - Sorry, that page does not exist.\n"
     ]
    },
    {
     "name": "stderr",
     "output_type": "stream",
     "text": [
      "WARNING:tweepy.api:Unexpected parameter: id\n",
      "WARNING:tweepy.api:Unexpected parameter: id\n",
      "WARNING:tweepy.api:Unexpected parameter: id\n",
      "WARNING:tweepy.api:Unexpected parameter: id\n",
      "WARNING:tweepy.api:Unexpected parameter: id\n"
     ]
    },
    {
     "name": "stdout",
     "output_type": "stream",
     "text": [
      "Status Failed On, 401 Unauthorized\n",
      "Not authorized.\n"
     ]
    },
    {
     "name": "stderr",
     "output_type": "stream",
     "text": [
      "WARNING:tweepy.api:Unexpected parameter: id\n",
      "WARNING:tweepy.api:Unexpected parameter: id\n",
      "WARNING:tweepy.api:Rate limit reached. Sleeping for: 695\n",
      "WARNING:tweepy.api:Unexpected parameter: id\n",
      "WARNING:tweepy.api:Unexpected parameter: id\n",
      "WARNING:tweepy.api:Unexpected parameter: id\n",
      "WARNING:tweepy.api:Unexpected parameter: id\n"
     ]
    },
    {
     "name": "stdout",
     "output_type": "stream",
     "text": [
      "Status Failed On, 404 Not Found\n",
      "34 - Sorry, that page does not exist.\n"
     ]
    },
    {
     "name": "stderr",
     "output_type": "stream",
     "text": [
      "WARNING:tweepy.api:Unexpected parameter: id\n",
      "WARNING:tweepy.api:Unexpected parameter: id\n",
      "WARNING:tweepy.api:Unexpected parameter: id\n",
      "WARNING:tweepy.api:Unexpected parameter: id\n",
      "WARNING:tweepy.api:Unexpected parameter: id\n",
      "WARNING:tweepy.api:Unexpected parameter: id\n"
     ]
    },
    {
     "name": "stdout",
     "output_type": "stream",
     "text": [
      "Status Failed On, 401 Unauthorized\n",
      "Not authorized.\n"
     ]
    },
    {
     "name": "stderr",
     "output_type": "stream",
     "text": [
      "WARNING:tweepy.api:Unexpected parameter: id\n",
      "WARNING:tweepy.api:Unexpected parameter: id\n",
      "WARNING:tweepy.api:Unexpected parameter: id\n",
      "WARNING:tweepy.api:Unexpected parameter: id\n",
      "WARNING:tweepy.api:Unexpected parameter: id\n",
      "WARNING:tweepy.api:Unexpected parameter: id\n",
      "WARNING:tweepy.api:Unexpected parameter: id\n",
      "WARNING:tweepy.api:Unexpected parameter: id\n",
      "WARNING:tweepy.api:Unexpected parameter: id\n",
      "WARNING:tweepy.api:Unexpected parameter: id\n",
      "WARNING:tweepy.api:Unexpected parameter: id\n",
      "WARNING:tweepy.api:Unexpected parameter: id\n",
      "WARNING:tweepy.api:Unexpected parameter: id\n",
      "WARNING:tweepy.api:Unexpected parameter: id\n",
      "WARNING:tweepy.api:Unexpected parameter: id\n",
      "WARNING:tweepy.api:Unexpected parameter: id\n",
      "WARNING:tweepy.api:Unexpected parameter: id\n",
      "WARNING:tweepy.api:Unexpected parameter: id\n",
      "WARNING:tweepy.api:Unexpected parameter: id\n",
      "WARNING:tweepy.api:Unexpected parameter: id\n",
      "WARNING:tweepy.api:Unexpected parameter: id\n",
      "WARNING:tweepy.api:Unexpected parameter: id\n",
      "WARNING:tweepy.api:Unexpected parameter: id\n"
     ]
    },
    {
     "name": "stdout",
     "output_type": "stream",
     "text": [
      "Status Failed On, 401 Unauthorized\n",
      "Not authorized.\n"
     ]
    },
    {
     "name": "stderr",
     "output_type": "stream",
     "text": [
      "WARNING:tweepy.api:Unexpected parameter: id\n",
      "WARNING:tweepy.api:Unexpected parameter: id\n",
      "WARNING:tweepy.api:Unexpected parameter: id\n",
      "WARNING:tweepy.api:Unexpected parameter: id\n",
      "WARNING:tweepy.api:Unexpected parameter: id\n",
      "WARNING:tweepy.api:Unexpected parameter: id\n",
      "WARNING:tweepy.api:Unexpected parameter: id\n",
      "WARNING:tweepy.api:Unexpected parameter: id\n",
      "WARNING:tweepy.api:Unexpected parameter: id\n",
      "WARNING:tweepy.api:Unexpected parameter: id\n",
      "WARNING:tweepy.api:Unexpected parameter: id\n",
      "WARNING:tweepy.api:Unexpected parameter: id\n",
      "WARNING:tweepy.api:Unexpected parameter: id\n",
      "WARNING:tweepy.api:Unexpected parameter: id\n"
     ]
    },
    {
     "name": "stdout",
     "output_type": "stream",
     "text": [
      "Status Failed On, 404 Not Found\n",
      "34 - Sorry, that page does not exist.\n"
     ]
    },
    {
     "name": "stderr",
     "output_type": "stream",
     "text": [
      "WARNING:tweepy.api:Unexpected parameter: id\n",
      "WARNING:tweepy.api:Unexpected parameter: id\n",
      "WARNING:tweepy.api:Unexpected parameter: id\n",
      "WARNING:tweepy.api:Unexpected parameter: id\n",
      "WARNING:tweepy.api:Unexpected parameter: id\n",
      "WARNING:tweepy.api:Unexpected parameter: id\n",
      "WARNING:tweepy.api:Unexpected parameter: id\n"
     ]
    },
    {
     "name": "stdout",
     "output_type": "stream",
     "text": [
      "Status Failed On, 401 Unauthorized\n",
      "Not authorized.\n"
     ]
    },
    {
     "name": "stderr",
     "output_type": "stream",
     "text": [
      "WARNING:tweepy.api:Unexpected parameter: id\n",
      "WARNING:tweepy.api:Unexpected parameter: id\n",
      "WARNING:tweepy.api:Unexpected parameter: id\n",
      "WARNING:tweepy.api:Unexpected parameter: id\n"
     ]
    },
    {
     "name": "stdout",
     "output_type": "stream",
     "text": [
      "Status Failed On, 404 Not Found\n",
      "34 - Sorry, that page does not exist.\n",
      "Status Failed On, 401 Unauthorized\n",
      "Not authorized.\n"
     ]
    },
    {
     "name": "stderr",
     "output_type": "stream",
     "text": [
      "WARNING:tweepy.api:Unexpected parameter: id\n",
      "WARNING:tweepy.api:Unexpected parameter: id\n",
      "WARNING:tweepy.api:Unexpected parameter: id\n",
      "WARNING:tweepy.api:Unexpected parameter: id\n",
      "WARNING:tweepy.api:Unexpected parameter: id\n",
      "WARNING:tweepy.api:Unexpected parameter: id\n",
      "WARNING:tweepy.api:Unexpected parameter: id\n",
      "WARNING:tweepy.api:Unexpected parameter: id\n",
      "WARNING:tweepy.api:Unexpected parameter: id\n",
      "WARNING:tweepy.api:Unexpected parameter: id\n",
      "WARNING:tweepy.api:Unexpected parameter: id\n",
      "WARNING:tweepy.api:Unexpected parameter: id\n",
      "WARNING:tweepy.api:Unexpected parameter: id\n",
      "WARNING:tweepy.api:Unexpected parameter: id\n",
      "WARNING:tweepy.api:Unexpected parameter: id\n",
      "WARNING:tweepy.api:Unexpected parameter: id\n",
      "WARNING:tweepy.api:Unexpected parameter: id\n",
      "WARNING:tweepy.api:Unexpected parameter: id\n",
      "WARNING:tweepy.api:Unexpected parameter: id\n",
      "WARNING:tweepy.api:Unexpected parameter: id\n",
      "WARNING:tweepy.api:Unexpected parameter: id\n",
      "WARNING:tweepy.api:Unexpected parameter: id\n",
      "WARNING:tweepy.api:Unexpected parameter: id\n",
      "WARNING:tweepy.api:Unexpected parameter: id\n",
      "WARNING:tweepy.api:Unexpected parameter: id\n",
      "WARNING:tweepy.api:Unexpected parameter: id\n",
      "WARNING:tweepy.api:Unexpected parameter: id\n",
      "WARNING:tweepy.api:Unexpected parameter: id\n",
      "WARNING:tweepy.api:Unexpected parameter: id\n",
      "WARNING:tweepy.api:Unexpected parameter: id\n",
      "WARNING:tweepy.api:Unexpected parameter: id\n",
      "WARNING:tweepy.api:Unexpected parameter: id\n",
      "WARNING:tweepy.api:Unexpected parameter: id\n",
      "WARNING:tweepy.api:Unexpected parameter: id\n",
      "WARNING:tweepy.api:Unexpected parameter: id\n",
      "WARNING:tweepy.api:Unexpected parameter: id\n",
      "WARNING:tweepy.api:Unexpected parameter: id\n"
     ]
    },
    {
     "name": "stdout",
     "output_type": "stream",
     "text": [
      "Status Failed On, 404 Not Found\n",
      "34 - Sorry, that page does not exist.\n"
     ]
    },
    {
     "name": "stderr",
     "output_type": "stream",
     "text": [
      "WARNING:tweepy.api:Unexpected parameter: id\n",
      "WARNING:tweepy.api:Unexpected parameter: id\n"
     ]
    },
    {
     "name": "stdout",
     "output_type": "stream",
     "text": [
      "Status Failed On, 401 Unauthorized\n",
      "Not authorized.\n"
     ]
    },
    {
     "name": "stderr",
     "output_type": "stream",
     "text": [
      "WARNING:tweepy.api:Unexpected parameter: id\n",
      "WARNING:tweepy.api:Unexpected parameter: id\n",
      "WARNING:tweepy.api:Unexpected parameter: id\n",
      "WARNING:tweepy.api:Unexpected parameter: id\n",
      "WARNING:tweepy.api:Unexpected parameter: id\n",
      "WARNING:tweepy.api:Unexpected parameter: id\n",
      "WARNING:tweepy.api:Unexpected parameter: id\n",
      "WARNING:tweepy.api:Unexpected parameter: id\n",
      "WARNING:tweepy.api:Unexpected parameter: id\n",
      "WARNING:tweepy.api:Unexpected parameter: id\n",
      "WARNING:tweepy.api:Unexpected parameter: id\n",
      "WARNING:tweepy.api:Unexpected parameter: id\n",
      "WARNING:tweepy.api:Unexpected parameter: id\n",
      "WARNING:tweepy.api:Unexpected parameter: id\n",
      "WARNING:tweepy.api:Unexpected parameter: id\n",
      "WARNING:tweepy.api:Unexpected parameter: id\n",
      "WARNING:tweepy.api:Unexpected parameter: id\n",
      "WARNING:tweepy.api:Unexpected parameter: id\n",
      "WARNING:tweepy.api:Unexpected parameter: id\n",
      "WARNING:tweepy.api:Unexpected parameter: id\n",
      "WARNING:tweepy.api:Unexpected parameter: id\n",
      "WARNING:tweepy.api:Unexpected parameter: id\n",
      "WARNING:tweepy.api:Unexpected parameter: id\n",
      "WARNING:tweepy.api:Unexpected parameter: id\n"
     ]
    },
    {
     "name": "stdout",
     "output_type": "stream",
     "text": [
      "Status Failed On, 401 Unauthorized\n",
      "Not authorized.\n"
     ]
    },
    {
     "name": "stderr",
     "output_type": "stream",
     "text": [
      "WARNING:tweepy.api:Unexpected parameter: id\n",
      "WARNING:tweepy.api:Unexpected parameter: id\n",
      "WARNING:tweepy.api:Unexpected parameter: id\n"
     ]
    },
    {
     "name": "stdout",
     "output_type": "stream",
     "text": [
      "Status Failed On, 401 Unauthorized\n",
      "Not authorized.\n"
     ]
    },
    {
     "name": "stderr",
     "output_type": "stream",
     "text": [
      "WARNING:tweepy.api:Unexpected parameter: id\n",
      "WARNING:tweepy.api:Unexpected parameter: id\n",
      "WARNING:tweepy.api:Unexpected parameter: id\n",
      "WARNING:tweepy.api:Unexpected parameter: id\n"
     ]
    },
    {
     "name": "stdout",
     "output_type": "stream",
     "text": [
      "Status Failed On, 401 Unauthorized\n",
      "Not authorized.\n",
      "Status Failed On, 404 Not Found\n",
      "34 - Sorry, that page does not exist.\n"
     ]
    },
    {
     "name": "stderr",
     "output_type": "stream",
     "text": [
      "WARNING:tweepy.api:Unexpected parameter: id\n",
      "WARNING:tweepy.api:Unexpected parameter: id\n",
      "WARNING:tweepy.api:Unexpected parameter: id\n"
     ]
    },
    {
     "name": "stdout",
     "output_type": "stream",
     "text": [
      "Status Failed On, 401 Unauthorized\n",
      "Not authorized.\n"
     ]
    },
    {
     "name": "stderr",
     "output_type": "stream",
     "text": [
      "WARNING:tweepy.api:Unexpected parameter: id\n",
      "WARNING:tweepy.api:Unexpected parameter: id\n",
      "WARNING:tweepy.api:Unexpected parameter: id\n",
      "WARNING:tweepy.api:Unexpected parameter: id\n",
      "WARNING:tweepy.api:Unexpected parameter: id\n",
      "WARNING:tweepy.api:Unexpected parameter: id\n"
     ]
    },
    {
     "name": "stdout",
     "output_type": "stream",
     "text": [
      "Status Failed On, 401 Unauthorized\n",
      "Not authorized.\n",
      "Status Failed On, 404 Not Found\n",
      "34 - Sorry, that page does not exist.\n"
     ]
    },
    {
     "name": "stderr",
     "output_type": "stream",
     "text": [
      "WARNING:tweepy.api:Unexpected parameter: id\n",
      "WARNING:tweepy.api:Unexpected parameter: id\n",
      "WARNING:tweepy.api:Unexpected parameter: id\n"
     ]
    },
    {
     "name": "stdout",
     "output_type": "stream",
     "text": [
      "Status Failed On, 404 Not Found\n",
      "34 - Sorry, that page does not exist.\n"
     ]
    },
    {
     "name": "stderr",
     "output_type": "stream",
     "text": [
      "WARNING:tweepy.api:Unexpected parameter: id\n"
     ]
    },
    {
     "name": "stdout",
     "output_type": "stream",
     "text": [
      "Status Failed On, 404 Not Found\n",
      "34 - Sorry, that page does not exist.\n"
     ]
    },
    {
     "name": "stderr",
     "output_type": "stream",
     "text": [
      "WARNING:tweepy.api:Unexpected parameter: id\n",
      "WARNING:tweepy.api:Unexpected parameter: id\n",
      "WARNING:tweepy.api:Unexpected parameter: id\n",
      "WARNING:tweepy.api:Unexpected parameter: id\n"
     ]
    },
    {
     "name": "stdout",
     "output_type": "stream",
     "text": [
      "Status Failed On, 404 Not Found\n",
      "34 - Sorry, that page does not exist.\n"
     ]
    },
    {
     "name": "stderr",
     "output_type": "stream",
     "text": [
      "WARNING:tweepy.api:Unexpected parameter: id\n",
      "WARNING:tweepy.api:Unexpected parameter: id\n",
      "WARNING:tweepy.api:Unexpected parameter: id\n",
      "WARNING:tweepy.api:Unexpected parameter: id\n",
      "WARNING:tweepy.api:Unexpected parameter: id\n",
      "WARNING:tweepy.api:Unexpected parameter: id\n",
      "WARNING:tweepy.api:Unexpected parameter: id\n",
      "WARNING:tweepy.api:Unexpected parameter: id\n",
      "WARNING:tweepy.api:Unexpected parameter: id\n",
      "WARNING:tweepy.api:Unexpected parameter: id\n"
     ]
    },
    {
     "name": "stdout",
     "output_type": "stream",
     "text": [
      "Status Failed On, 401 Unauthorized\n",
      "Not authorized.\n"
     ]
    },
    {
     "name": "stderr",
     "output_type": "stream",
     "text": [
      "WARNING:tweepy.api:Unexpected parameter: id\n",
      "WARNING:tweepy.api:Unexpected parameter: id\n"
     ]
    },
    {
     "name": "stdout",
     "output_type": "stream",
     "text": [
      "Status Failed On, 401 Unauthorized\n",
      "Not authorized.\n"
     ]
    },
    {
     "name": "stderr",
     "output_type": "stream",
     "text": [
      "WARNING:tweepy.api:Unexpected parameter: id\n",
      "WARNING:tweepy.api:Unexpected parameter: id\n",
      "WARNING:tweepy.api:Unexpected parameter: id\n",
      "WARNING:tweepy.api:Unexpected parameter: id\n",
      "WARNING:tweepy.api:Unexpected parameter: id\n",
      "WARNING:tweepy.api:Unexpected parameter: id\n",
      "WARNING:tweepy.api:Unexpected parameter: id\n",
      "WARNING:tweepy.api:Unexpected parameter: id\n",
      "WARNING:tweepy.api:Unexpected parameter: id\n",
      "WARNING:tweepy.api:Unexpected parameter: id\n"
     ]
    },
    {
     "name": "stdout",
     "output_type": "stream",
     "text": [
      "Status Failed On, 404 Not Found\n",
      "34 - Sorry, that page does not exist.\n"
     ]
    },
    {
     "name": "stderr",
     "output_type": "stream",
     "text": [
      "WARNING:tweepy.api:Unexpected parameter: id\n",
      "WARNING:tweepy.api:Unexpected parameter: id\n",
      "WARNING:tweepy.api:Unexpected parameter: id\n",
      "WARNING:tweepy.api:Unexpected parameter: id\n",
      "WARNING:tweepy.api:Unexpected parameter: id\n",
      "WARNING:tweepy.api:Unexpected parameter: id\n"
     ]
    },
    {
     "name": "stdout",
     "output_type": "stream",
     "text": [
      "Status Failed On, 401 Unauthorized\n",
      "Not authorized.\n"
     ]
    },
    {
     "name": "stderr",
     "output_type": "stream",
     "text": [
      "WARNING:tweepy.api:Unexpected parameter: id\n",
      "WARNING:tweepy.api:Unexpected parameter: id\n",
      "WARNING:tweepy.api:Unexpected parameter: id\n",
      "WARNING:tweepy.api:Unexpected parameter: id\n",
      "WARNING:tweepy.api:Unexpected parameter: id\n",
      "WARNING:tweepy.api:Unexpected parameter: id\n",
      "WARNING:tweepy.api:Unexpected parameter: id\n",
      "WARNING:tweepy.api:Unexpected parameter: id\n",
      "WARNING:tweepy.api:Unexpected parameter: id\n",
      "WARNING:tweepy.api:Unexpected parameter: id\n",
      "WARNING:tweepy.api:Unexpected parameter: id\n",
      "WARNING:tweepy.api:Unexpected parameter: id\n",
      "WARNING:tweepy.api:Unexpected parameter: id\n"
     ]
    },
    {
     "name": "stdout",
     "output_type": "stream",
     "text": [
      "Status Failed On, 401 Unauthorized\n",
      "Not authorized.\n"
     ]
    },
    {
     "name": "stderr",
     "output_type": "stream",
     "text": [
      "WARNING:tweepy.api:Unexpected parameter: id\n",
      "WARNING:tweepy.api:Unexpected parameter: id\n",
      "WARNING:tweepy.api:Unexpected parameter: id\n",
      "WARNING:tweepy.api:Unexpected parameter: id\n"
     ]
    },
    {
     "name": "stdout",
     "output_type": "stream",
     "text": [
      "Status Failed On, 401 Unauthorized\n",
      "Not authorized.\n"
     ]
    },
    {
     "name": "stderr",
     "output_type": "stream",
     "text": [
      "WARNING:tweepy.api:Unexpected parameter: id\n",
      "WARNING:tweepy.api:Unexpected parameter: id\n",
      "WARNING:tweepy.api:Unexpected parameter: id\n",
      "WARNING:tweepy.api:Unexpected parameter: id\n",
      "WARNING:tweepy.api:Unexpected parameter: id\n",
      "WARNING:tweepy.api:Unexpected parameter: id\n",
      "WARNING:tweepy.api:Unexpected parameter: id\n",
      "WARNING:tweepy.api:Unexpected parameter: id\n",
      "WARNING:tweepy.api:Unexpected parameter: id\n"
     ]
    },
    {
     "name": "stdout",
     "output_type": "stream",
     "text": [
      "Status Failed On, 401 Unauthorized\n",
      "Not authorized.\n"
     ]
    }
   ],
   "source": [
    "no_of_tweets = 1\n",
    "consumer_key = 'XN4UTQPjpxxtWc4WlT5uiWMCk' #Your API/Consumer key \n",
    "consumer_secret = 'r3FnIoXcR2oM2w44eWfwOXWZ1LSzFkAbKGVmuD55nXYSr1tnvk' #Your API/Consumer Secret Key\n",
    "access_token = '970761218821632001-0j98sHzA3tJJTq1ki1keZq4RZwxfAMF'  #Your Access token key\n",
    "access_token_secret = 'icsSPU4VsuDfCuYXDuDVNaTvbsmYROg2bL28gooQUkfdv' #Your Access token Secret key\n",
    "\n",
    "\n",
    "#Pass in our twitter API authentication key\n",
    "auth = tweepy.OAuth1UserHandler(\n",
    "    consumer_key, consumer_secret,\n",
    "    access_token, access_token_secret\n",
    ")\n",
    "\n",
    "#Instantiate the tweepy API\n",
    "api = tweepy.API(auth, wait_on_rate_limit=True)\n",
    "\n",
    "bot_df = pd.DataFrame(columns=[\"Id_special\",\"Id\", \"Date Created\", \"Number of Likes\", \"Source of Tweet\", \"Tweet\", \"Followers\", \"Following\", \"Retweet Count\"])\n",
    "for user in new_bot:\n",
    "    try:\n",
    "        #The number of tweets we want to retrieved from the search\n",
    "        tweets = api.user_timeline(id=user, count=no_of_tweets)\n",
    "\n",
    "        #Pulling Some attributes from the tweet\n",
    "        attributes_container = [[tweet.user.id, tweet.user.screen_name, tweet.created_at, tweet.favorite_count, tweet.source,  tweet.text,  \n",
    "                                     tweet.user.followers_count, tweet.user.friends_count, tweet.retweet_count] for tweet in tweets]\n",
    "\n",
    "        #Creation of column list to rename the columns in the dataframe\n",
    "        columns = [\"Id_special\",\"Id\", \"Date Created\", \"Number of Likes\", \"Source of Tweet\", \"Tweet\", \"Followers\", \"Following\", \"Retweet Count\"]\n",
    "\n",
    "        #Creation of Dataframe\n",
    "        tweets100 = pd.DataFrame(attributes_container, columns=columns)\n",
    "        bot_df = bot_df.append(tweets100)\n",
    "    except BaseException as e:\n",
    "        print('Status Failed On,',str(e))"
   ]
  },
  {
   "cell_type": "code",
   "execution_count": 116,
   "id": "cd7b2e0f",
   "metadata": {},
   "outputs": [],
   "source": [
    "bot_df.to_csv('bot_df.csv')"
   ]
  },
  {
   "cell_type": "code",
   "execution_count": 120,
   "id": "7aa3aa6f",
   "metadata": {},
   "outputs": [
    {
     "data": {
      "text/html": [
       "<div>\n",
       "<style scoped>\n",
       "    .dataframe tbody tr th:only-of-type {\n",
       "        vertical-align: middle;\n",
       "    }\n",
       "\n",
       "    .dataframe tbody tr th {\n",
       "        vertical-align: top;\n",
       "    }\n",
       "\n",
       "    .dataframe thead th {\n",
       "        text-align: right;\n",
       "    }\n",
       "</style>\n",
       "<table border=\"1\" class=\"dataframe\">\n",
       "  <thead>\n",
       "    <tr style=\"text-align: right;\">\n",
       "      <th></th>\n",
       "      <th>Source of Tweet</th>\n",
       "      <th>Followers</th>\n",
       "      <th>Following</th>\n",
       "      <th>account_type</th>\n",
       "    </tr>\n",
       "    <tr>\n",
       "      <th>Id_special</th>\n",
       "      <th></th>\n",
       "      <th></th>\n",
       "      <th></th>\n",
       "      <th></th>\n",
       "    </tr>\n",
       "  </thead>\n",
       "  <tbody>\n",
       "    <tr>\n",
       "      <th>787405734442958848</th>\n",
       "      <td>Moist Horse</td>\n",
       "      <td>1992</td>\n",
       "      <td>6</td>\n",
       "      <td>bot</td>\n",
       "    </tr>\n",
       "    <tr>\n",
       "      <th>796216118331310080</th>\n",
       "      <td>Twitter Web Client</td>\n",
       "      <td>766</td>\n",
       "      <td>805</td>\n",
       "      <td>human</td>\n",
       "    </tr>\n",
       "    <tr>\n",
       "      <th>875949740503859204</th>\n",
       "      <td>Twitter for Android</td>\n",
       "      <td>275</td>\n",
       "      <td>1533</td>\n",
       "      <td>human</td>\n",
       "    </tr>\n",
       "    <tr>\n",
       "      <th>756119643622735875</th>\n",
       "      <td>Twitter for iPhone</td>\n",
       "      <td>758</td>\n",
       "      <td>839</td>\n",
       "      <td>human</td>\n",
       "    </tr>\n",
       "    <tr>\n",
       "      <th>464781334</th>\n",
       "      <td>Twitter for iPhone</td>\n",
       "      <td>733292</td>\n",
       "      <td>130</td>\n",
       "      <td>human</td>\n",
       "    </tr>\n",
       "    <tr>\n",
       "      <th>...</th>\n",
       "      <td>...</td>\n",
       "      <td>...</td>\n",
       "      <td>...</td>\n",
       "      <td>...</td>\n",
       "    </tr>\n",
       "    <tr>\n",
       "      <th>21771720</th>\n",
       "      <td>Twitter for iPhone</td>\n",
       "      <td>81337</td>\n",
       "      <td>2359</td>\n",
       "      <td>human</td>\n",
       "    </tr>\n",
       "    <tr>\n",
       "      <th>1638413773</th>\n",
       "      <td>Twitter for Android</td>\n",
       "      <td>46</td>\n",
       "      <td>1147</td>\n",
       "      <td>human</td>\n",
       "    </tr>\n",
       "    <tr>\n",
       "      <th>18101713</th>\n",
       "      <td>Twitter for iPhone</td>\n",
       "      <td>2047867</td>\n",
       "      <td>782</td>\n",
       "      <td>human</td>\n",
       "    </tr>\n",
       "    <tr>\n",
       "      <th>313538005</th>\n",
       "      <td>fllwrs</td>\n",
       "      <td>49</td>\n",
       "      <td>177</td>\n",
       "      <td>human</td>\n",
       "    </tr>\n",
       "    <tr>\n",
       "      <th>315897302</th>\n",
       "      <td>Twitter for iPhone</td>\n",
       "      <td>191</td>\n",
       "      <td>0</td>\n",
       "      <td>bot</td>\n",
       "    </tr>\n",
       "  </tbody>\n",
       "</table>\n",
       "<p>1793 rows × 4 columns</p>\n",
       "</div>"
      ],
      "text/plain": [
       "                        Source of Tweet  Followers  Following account_type\n",
       "Id_special                                                                \n",
       "787405734442958848          Moist Horse       1992          6          bot\n",
       "796216118331310080   Twitter Web Client        766        805        human\n",
       "875949740503859204  Twitter for Android        275       1533        human\n",
       "756119643622735875   Twitter for iPhone        758        839        human\n",
       "464781334            Twitter for iPhone     733292        130        human\n",
       "...                                 ...        ...        ...          ...\n",
       "21771720             Twitter for iPhone      81337       2359        human\n",
       "1638413773          Twitter for Android         46       1147        human\n",
       "18101713             Twitter for iPhone    2047867        782        human\n",
       "313538005                        fllwrs         49        177        human\n",
       "315897302            Twitter for iPhone        191          0          bot\n",
       "\n",
       "[1793 rows x 4 columns]"
      ]
     },
     "execution_count": 120,
     "metadata": {},
     "output_type": "execute_result"
    }
   ],
   "source": [
    "bot_df = pd.read_csv('bot_df.csv')\n",
    "bot_df2 = bot_df.set_index('Id_special').join(human_bot.set_index('id'))\n",
    "bot_df2.reset_index()\n",
    "bot_df3 = bot_df2.drop([\"Unnamed: 0\", 'Id','Date Created','Number of Likes','Tweet','Retweet Count'], axis=1)\n",
    "bot_df3"
   ]
  },
  {
   "cell_type": "code",
   "execution_count": 139,
   "id": "7b93454f",
   "metadata": {},
   "outputs": [
    {
     "data": {
      "text/html": [
       "<div>\n",
       "<style scoped>\n",
       "    .dataframe tbody tr th:only-of-type {\n",
       "        vertical-align: middle;\n",
       "    }\n",
       "\n",
       "    .dataframe tbody tr th {\n",
       "        vertical-align: top;\n",
       "    }\n",
       "\n",
       "    .dataframe thead th {\n",
       "        text-align: right;\n",
       "    }\n",
       "</style>\n",
       "<table border=\"1\" class=\"dataframe\">\n",
       "  <thead>\n",
       "    <tr style=\"text-align: right;\">\n",
       "      <th></th>\n",
       "      <th>Source of Tweet</th>\n",
       "      <th>Followers</th>\n",
       "      <th>Following</th>\n",
       "      <th>account_type</th>\n",
       "      <th>source</th>\n",
       "      <th>target</th>\n",
       "    </tr>\n",
       "    <tr>\n",
       "      <th>Id_special</th>\n",
       "      <th></th>\n",
       "      <th></th>\n",
       "      <th></th>\n",
       "      <th></th>\n",
       "      <th></th>\n",
       "      <th></th>\n",
       "    </tr>\n",
       "  </thead>\n",
       "  <tbody>\n",
       "    <tr>\n",
       "      <th>787405734442958848</th>\n",
       "      <td>Moist Horse</td>\n",
       "      <td>1992</td>\n",
       "      <td>6</td>\n",
       "      <td>bot</td>\n",
       "      <td>0</td>\n",
       "      <td>1</td>\n",
       "    </tr>\n",
       "    <tr>\n",
       "      <th>796216118331310080</th>\n",
       "      <td>Twitter Web Client</td>\n",
       "      <td>766</td>\n",
       "      <td>805</td>\n",
       "      <td>human</td>\n",
       "      <td>1</td>\n",
       "      <td>1</td>\n",
       "    </tr>\n",
       "    <tr>\n",
       "      <th>875949740503859204</th>\n",
       "      <td>Twitter for Android</td>\n",
       "      <td>275</td>\n",
       "      <td>1533</td>\n",
       "      <td>human</td>\n",
       "      <td>1</td>\n",
       "      <td>1</td>\n",
       "    </tr>\n",
       "    <tr>\n",
       "      <th>756119643622735875</th>\n",
       "      <td>Twitter for iPhone</td>\n",
       "      <td>758</td>\n",
       "      <td>839</td>\n",
       "      <td>human</td>\n",
       "      <td>1</td>\n",
       "      <td>1</td>\n",
       "    </tr>\n",
       "    <tr>\n",
       "      <th>464781334</th>\n",
       "      <td>Twitter for iPhone</td>\n",
       "      <td>733292</td>\n",
       "      <td>130</td>\n",
       "      <td>human</td>\n",
       "      <td>1</td>\n",
       "      <td>1</td>\n",
       "    </tr>\n",
       "    <tr>\n",
       "      <th>...</th>\n",
       "      <td>...</td>\n",
       "      <td>...</td>\n",
       "      <td>...</td>\n",
       "      <td>...</td>\n",
       "      <td>...</td>\n",
       "      <td>...</td>\n",
       "    </tr>\n",
       "    <tr>\n",
       "      <th>21771720</th>\n",
       "      <td>Twitter for iPhone</td>\n",
       "      <td>81337</td>\n",
       "      <td>2359</td>\n",
       "      <td>human</td>\n",
       "      <td>1</td>\n",
       "      <td>1</td>\n",
       "    </tr>\n",
       "    <tr>\n",
       "      <th>1638413773</th>\n",
       "      <td>Twitter for Android</td>\n",
       "      <td>46</td>\n",
       "      <td>1147</td>\n",
       "      <td>human</td>\n",
       "      <td>1</td>\n",
       "      <td>1</td>\n",
       "    </tr>\n",
       "    <tr>\n",
       "      <th>18101713</th>\n",
       "      <td>Twitter for iPhone</td>\n",
       "      <td>2047867</td>\n",
       "      <td>782</td>\n",
       "      <td>human</td>\n",
       "      <td>1</td>\n",
       "      <td>1</td>\n",
       "    </tr>\n",
       "    <tr>\n",
       "      <th>313538005</th>\n",
       "      <td>fllwrs</td>\n",
       "      <td>49</td>\n",
       "      <td>177</td>\n",
       "      <td>human</td>\n",
       "      <td>0</td>\n",
       "      <td>1</td>\n",
       "    </tr>\n",
       "    <tr>\n",
       "      <th>315897302</th>\n",
       "      <td>Twitter for iPhone</td>\n",
       "      <td>191</td>\n",
       "      <td>0</td>\n",
       "      <td>bot</td>\n",
       "      <td>1</td>\n",
       "      <td>1</td>\n",
       "    </tr>\n",
       "  </tbody>\n",
       "</table>\n",
       "<p>1793 rows × 6 columns</p>\n",
       "</div>"
      ],
      "text/plain": [
       "                        Source of Tweet  Followers  Following account_type  \\\n",
       "Id_special                                                                   \n",
       "787405734442958848          Moist Horse       1992          6          bot   \n",
       "796216118331310080   Twitter Web Client        766        805        human   \n",
       "875949740503859204  Twitter for Android        275       1533        human   \n",
       "756119643622735875   Twitter for iPhone        758        839        human   \n",
       "464781334            Twitter for iPhone     733292        130        human   \n",
       "...                                 ...        ...        ...          ...   \n",
       "21771720             Twitter for iPhone      81337       2359        human   \n",
       "1638413773          Twitter for Android         46       1147        human   \n",
       "18101713             Twitter for iPhone    2047867        782        human   \n",
       "313538005                        fllwrs         49        177        human   \n",
       "315897302            Twitter for iPhone        191          0          bot   \n",
       "\n",
       "                    source  target  \n",
       "Id_special                          \n",
       "787405734442958848       0       1  \n",
       "796216118331310080       1       1  \n",
       "875949740503859204       1       1  \n",
       "756119643622735875       1       1  \n",
       "464781334                1       1  \n",
       "...                    ...     ...  \n",
       "21771720                 1       1  \n",
       "1638413773               1       1  \n",
       "18101713                 1       1  \n",
       "313538005                0       1  \n",
       "315897302                1       1  \n",
       "\n",
       "[1793 rows x 6 columns]"
      ]
     },
     "execution_count": 139,
     "metadata": {},
     "output_type": "execute_result"
    }
   ],
   "source": [
    "source = []\n",
    "for i in bot_df3['Source of Tweet']:\n",
    "    if i.startswith(\"Twitter\"):\n",
    "        j = 1\n",
    "    else:\n",
    "        j=0\n",
    "    source.append(j)\n",
    "    \n",
    "bot_df3['source'] = source"
   ]
  },
  {
   "cell_type": "code",
   "execution_count": 140,
   "id": "4bac2241",
   "metadata": {},
   "outputs": [],
   "source": [
    "classy = []\n",
    "for i in bot_df3['account_type']:\n",
    "    if i.startswith(\"human\"):\n",
    "        j = 0\n",
    "    else:\n",
    "        j = 1\n",
    "    classy.append(j)\n",
    "bot_df3['target'] = classy\n",
    "bot_df4 = bot_df3.drop([\"Source of Tweet\", \"account_type\"],axis=1)"
   ]
  },
  {
   "cell_type": "code",
   "execution_count": 142,
   "id": "0d6808a7",
   "metadata": {},
   "outputs": [
    {
     "data": {
      "text/html": [
       "<div>\n",
       "<style scoped>\n",
       "    .dataframe tbody tr th:only-of-type {\n",
       "        vertical-align: middle;\n",
       "    }\n",
       "\n",
       "    .dataframe tbody tr th {\n",
       "        vertical-align: top;\n",
       "    }\n",
       "\n",
       "    .dataframe thead th {\n",
       "        text-align: right;\n",
       "    }\n",
       "</style>\n",
       "<table border=\"1\" class=\"dataframe\">\n",
       "  <thead>\n",
       "    <tr style=\"text-align: right;\">\n",
       "      <th></th>\n",
       "      <th>Followers</th>\n",
       "      <th>Following</th>\n",
       "      <th>source</th>\n",
       "      <th>target</th>\n",
       "    </tr>\n",
       "    <tr>\n",
       "      <th>Id_special</th>\n",
       "      <th></th>\n",
       "      <th></th>\n",
       "      <th></th>\n",
       "      <th></th>\n",
       "    </tr>\n",
       "  </thead>\n",
       "  <tbody>\n",
       "    <tr>\n",
       "      <th>787405734442958848</th>\n",
       "      <td>1992</td>\n",
       "      <td>6</td>\n",
       "      <td>0</td>\n",
       "      <td>1</td>\n",
       "    </tr>\n",
       "    <tr>\n",
       "      <th>796216118331310080</th>\n",
       "      <td>766</td>\n",
       "      <td>805</td>\n",
       "      <td>1</td>\n",
       "      <td>0</td>\n",
       "    </tr>\n",
       "    <tr>\n",
       "      <th>875949740503859204</th>\n",
       "      <td>275</td>\n",
       "      <td>1533</td>\n",
       "      <td>1</td>\n",
       "      <td>0</td>\n",
       "    </tr>\n",
       "    <tr>\n",
       "      <th>756119643622735875</th>\n",
       "      <td>758</td>\n",
       "      <td>839</td>\n",
       "      <td>1</td>\n",
       "      <td>0</td>\n",
       "    </tr>\n",
       "    <tr>\n",
       "      <th>464781334</th>\n",
       "      <td>733292</td>\n",
       "      <td>130</td>\n",
       "      <td>1</td>\n",
       "      <td>0</td>\n",
       "    </tr>\n",
       "    <tr>\n",
       "      <th>...</th>\n",
       "      <td>...</td>\n",
       "      <td>...</td>\n",
       "      <td>...</td>\n",
       "      <td>...</td>\n",
       "    </tr>\n",
       "    <tr>\n",
       "      <th>21771720</th>\n",
       "      <td>81337</td>\n",
       "      <td>2359</td>\n",
       "      <td>1</td>\n",
       "      <td>0</td>\n",
       "    </tr>\n",
       "    <tr>\n",
       "      <th>1638413773</th>\n",
       "      <td>46</td>\n",
       "      <td>1147</td>\n",
       "      <td>1</td>\n",
       "      <td>0</td>\n",
       "    </tr>\n",
       "    <tr>\n",
       "      <th>18101713</th>\n",
       "      <td>2047867</td>\n",
       "      <td>782</td>\n",
       "      <td>1</td>\n",
       "      <td>0</td>\n",
       "    </tr>\n",
       "    <tr>\n",
       "      <th>313538005</th>\n",
       "      <td>49</td>\n",
       "      <td>177</td>\n",
       "      <td>0</td>\n",
       "      <td>0</td>\n",
       "    </tr>\n",
       "    <tr>\n",
       "      <th>315897302</th>\n",
       "      <td>191</td>\n",
       "      <td>0</td>\n",
       "      <td>1</td>\n",
       "      <td>1</td>\n",
       "    </tr>\n",
       "  </tbody>\n",
       "</table>\n",
       "<p>1793 rows × 4 columns</p>\n",
       "</div>"
      ],
      "text/plain": [
       "                    Followers  Following  source  target\n",
       "Id_special                                              \n",
       "787405734442958848       1992          6       0       1\n",
       "796216118331310080        766        805       1       0\n",
       "875949740503859204        275       1533       1       0\n",
       "756119643622735875        758        839       1       0\n",
       "464781334              733292        130       1       0\n",
       "...                       ...        ...     ...     ...\n",
       "21771720                81337       2359       1       0\n",
       "1638413773                 46       1147       1       0\n",
       "18101713              2047867        782       1       0\n",
       "313538005                  49        177       0       0\n",
       "315897302                 191          0       1       1\n",
       "\n",
       "[1793 rows x 4 columns]"
      ]
     },
     "execution_count": 142,
     "metadata": {},
     "output_type": "execute_result"
    }
   ],
   "source": [
    "bot_df4"
   ]
  },
  {
   "cell_type": "code",
   "execution_count": 143,
   "id": "9bd0073b",
   "metadata": {},
   "outputs": [],
   "source": [
    "from sklearn.ensemble import RandomForestClassifier\n",
    "from sklearn.model_selection import train_test_split\n",
    "X = bot_df4.drop(['target'],axis=1)\n",
    "Y = bot_df4['target']\n",
    "X_train, X_test, y_train, y_test = train_test_split(X, Y, test_size=0.2, random_state=42)\n",
    "rf = RandomForestClassifier(max_depth=2, random_state=0)\n",
    "clf = rf.fit(X_train, y_train)\n",
    "Y_pred_rf = clf.predict(X_test)"
   ]
  },
  {
   "cell_type": "code",
   "execution_count": 144,
   "id": "b71c31ed",
   "metadata": {},
   "outputs": [
    {
     "name": "stdout",
     "output_type": "stream",
     "text": [
      "Accuracy Score for MLP Classifier is-\n"
     ]
    },
    {
     "data": {
      "text/plain": [
       "0.7771587743732591"
      ]
     },
     "execution_count": 144,
     "metadata": {},
     "output_type": "execute_result"
    }
   ],
   "source": [
    "from sklearn.metrics import classification_report,accuracy_score\n",
    "print(\"Accuracy Score for MLP Classifier is-\")\n",
    "accuracy_score(y_test, Y_pred_rf)"
   ]
  },
  {
   "cell_type": "code",
   "execution_count": 145,
   "id": "02141e5c",
   "metadata": {},
   "outputs": [
    {
     "name": "stdout",
     "output_type": "stream",
     "text": [
      "Confusion Matrix for RF Classifier is-\n"
     ]
    },
    {
     "data": {
      "image/png": "[encoded data removed]",
      "text/plain": [
       "<Figure size 640x480 with 2 Axes>"
      ]
     },
     "metadata": {},
     "output_type": "display_data"
    }
   ],
   "source": [
    "from sklearn.metrics import confusion_matrix,ConfusionMatrixDisplay\n",
    "cf_rf_matrix = confusion_matrix(Y_pred_rf,y_test)\n",
    "print(\"Confusion Matrix for RF Classifier is-\")\n",
    "disp = ConfusionMatrixDisplay(confusion_matrix=cf_rf_matrix,display_labels=clf.classes_)\n",
    "disp.plot()\n",
    "plt.show()"
   ]
  },
  {
   "cell_type": "code",
   "execution_count": 146,
   "id": "6c86b86c",
   "metadata": {},
   "outputs": [
    {
     "data": {
      "image/png": "[encoded data removed]",
      "text/plain": [
       "<Figure size 640x480 with 1 Axes>"
      ]
     },
     "metadata": {},
     "output_type": "display_data"
    }
   ],
   "source": [
    "feature_names = [f\"feature {i}\" for i in range(X.shape[1])]\n",
    "importances = clf.feature_importances_\n",
    "std = np.std([tree.feature_importances_ for tree in clf.estimators_], axis=0)\n",
    "\n",
    "forest_importances = pd.Series(importances, index=feature_names)\n",
    "fig, ax = plt.subplots()\n",
    "forest_importances.plot.bar(yerr=std, ax=ax)\n",
    "ax.set_title(\"Feature importances using MDI\")\n",
    "ax.set_ylabel(\"Mean decrease in impurity\")\n",
    "fig.tight_layout()"
   ]
  },
  {
   "cell_type": "markdown",
   "id": "78cda4b7",
   "metadata": {},
   "source": [
    "# Scraping Tweets related to Russia / Ukraine Conflict"
   ]
  },
  {
   "cell_type": "code",
   "execution_count": 4,
   "id": "cfb82800",
   "metadata": {},
   "outputs": [],
   "source": [
    "# consumer_key = 'XN4UTQPjpxxtWc4WlT5uiWMCk' #Your API/Consumer key \n",
    "# consumer_secret = 'r3FnIoXcR2oM2w44eWfwOXWZ1LSzFkAbKGVmuD55nXYSr1tnvk' #Your API/Consumer Secret Key\n",
    "# access_token = '970761218821632001-0j98sHzA3tJJTq1ki1keZq4RZwxfAMF'  #Your Access token key\n",
    "# access_token_secret = 'icsSPU4VsuDfCuYXDuDVNaTvbsmYROg2bL28gooQUkfdv' #Your Access token Secret key\n",
    "\n",
    "\n",
    "# #Pass in our twitter API authentication key\n",
    "# auth = tweepy.OAuth1UserHandler(\n",
    "#     consumer_key, consumer_secret,\n",
    "#     access_token, access_token_secret\n",
    "# )\n",
    "\n",
    "# #Instantiate the tweepy API\n",
    "# api = tweepy.API(auth, wait_on_rate_limit=True)\n",
    "\n",
    "# tweets_df = pd.DataFrame(columns=[\"Id\", \"Date Created\", \"Number of Likes\", \"Source of Tweet\", \"Tweet\", \"Followers\", \"Following\", \"Retweet Count\"])\n",
    "# search_queries = [\"#Russia\",\"#Ukraine\",\"#RussianUkrainianWar\",\"#UkraineWar\",\"#UkraineRussianWar\",\"#RussiaIsANaziState\",\n",
    "#                   \"#SlavaUkraïni\",\"#UkraineRussiaWar\",\"RussiaUkraineWar\"]\n",
    "# no_of_tweets = 200\n",
    "\n",
    "# for j in search_queries:\n",
    "#     for i in range(15):\n",
    "#         try:\n",
    "#         #The number of tweets we want to retrieved from the search\n",
    "#             tweets = api.search_tweets(q=j, count=no_of_tweets)\n",
    "\n",
    "#         #Pulling Some attributes from the tweet\n",
    "#             attributes_container = [[tweet.user.screen_name, tweet.created_at, tweet.favorite_count, tweet.source,  tweet.text,  \n",
    "#                                      tweet.user.followers_count, tweet.user.friends_count, tweet.retweet_count] for tweet in tweets]\n",
    "\n",
    "#         #Creation of column list to rename the columns in the dataframe\n",
    "#             columns = [\"Id\", \"Date Created\", \"Number of Likes\", \"Source of Tweet\", \"Tweet\", \"Followers\", \"Following\", \"Retweet Count\"]\n",
    "\n",
    "#         #Creation of Dataframe\n",
    "#             tweets100 = pd.DataFrame(attributes_container, columns=columns)\n",
    "#             tweets_df = tweets_df.append(tweets100)\n",
    "#         except BaseException as e:\n",
    "#             print('Status Failed On,',str(e))"
   ]
  },
  {
   "cell_type": "code",
   "execution_count": 5,
   "id": "f02bb9ff",
   "metadata": {},
   "outputs": [],
   "source": [
    "# tweets_df.to_csv('russiaukrainetweets.csv')"
   ]
  },
  {
   "cell_type": "code",
   "execution_count": 156,
   "id": "8959cb0f",
   "metadata": {},
   "outputs": [
    {
     "data": {
      "text/html": [
       "<div>\n",
       "<style scoped>\n",
       "    .dataframe tbody tr th:only-of-type {\n",
       "        vertical-align: middle;\n",
       "    }\n",
       "\n",
       "    .dataframe tbody tr th {\n",
       "        vertical-align: top;\n",
       "    }\n",
       "\n",
       "    .dataframe thead th {\n",
       "        text-align: right;\n",
       "    }\n",
       "</style>\n",
       "<table border=\"1\" class=\"dataframe\">\n",
       "  <thead>\n",
       "    <tr style=\"text-align: right;\">\n",
       "      <th></th>\n",
       "      <th>Unnamed: 0</th>\n",
       "      <th>Id</th>\n",
       "      <th>Date Created</th>\n",
       "      <th>Number of Likes</th>\n",
       "      <th>Source of Tweet</th>\n",
       "      <th>Tweet</th>\n",
       "      <th>Followers</th>\n",
       "      <th>Following</th>\n",
       "      <th>Retweet Count</th>\n",
       "    </tr>\n",
       "  </thead>\n",
       "  <tbody>\n",
       "    <tr>\n",
       "      <th>0</th>\n",
       "      <td>0</td>\n",
       "      <td>JudyWoods8</td>\n",
       "      <td>2023-02-11 02:57:52+00:00</td>\n",
       "      <td>0</td>\n",
       "      <td>Twitter for iPhone</td>\n",
       "      <td>RT @igorsushko: #Russia: Bread line 🍞 of Ukrai...</td>\n",
       "      <td>7633</td>\n",
       "      <td>7865</td>\n",
       "      <td>282</td>\n",
       "    </tr>\n",
       "    <tr>\n",
       "      <th>1</th>\n",
       "      <td>1</td>\n",
       "      <td>anchorjiya</td>\n",
       "      <td>2023-02-11 02:57:45+00:00</td>\n",
       "      <td>0</td>\n",
       "      <td>Twitter for iPhone</td>\n",
       "      <td>RT @ABPNews: Watch: पुतिन मेट डोभाल...पाकिस्ता...</td>\n",
       "      <td>9898</td>\n",
       "      <td>147</td>\n",
       "      <td>4</td>\n",
       "    </tr>\n",
       "    <tr>\n",
       "      <th>2</th>\n",
       "      <td>2</td>\n",
       "      <td>AndriyBoguslav</td>\n",
       "      <td>2023-02-11 02:57:41+00:00</td>\n",
       "      <td>0</td>\n",
       "      <td>Twitter for iPhone</td>\n",
       "      <td>RT @EmineDzheppar: Had a fruitful meeting with...</td>\n",
       "      <td>1169</td>\n",
       "      <td>71</td>\n",
       "      <td>39</td>\n",
       "    </tr>\n",
       "    <tr>\n",
       "      <th>3</th>\n",
       "      <td>3</td>\n",
       "      <td>Voevoda_BY</td>\n",
       "      <td>2023-02-11 02:57:40+00:00</td>\n",
       "      <td>0</td>\n",
       "      <td>Twitter Web App</td>\n",
       "      <td>RT @oryxspioenkop: #UkraineWar: #Russia is now...</td>\n",
       "      <td>411</td>\n",
       "      <td>113</td>\n",
       "      <td>223</td>\n",
       "    </tr>\n",
       "    <tr>\n",
       "      <th>4</th>\n",
       "      <td>4</td>\n",
       "      <td>NikkhahTourage</td>\n",
       "      <td>2023-02-11 02:57:39+00:00</td>\n",
       "      <td>1</td>\n",
       "      <td>Twitter Web App</td>\n",
       "      <td>They will send you to take holocaust class ......</td>\n",
       "      <td>90</td>\n",
       "      <td>87</td>\n",
       "      <td>0</td>\n",
       "    </tr>\n",
       "  </tbody>\n",
       "</table>\n",
       "</div>"
      ],
      "text/plain": [
       "   Unnamed: 0              Id               Date Created  Number of Likes  \\\n",
       "0           0      JudyWoods8  2023-02-11 02:57:52+00:00                0   \n",
       "1           1      anchorjiya  2023-02-11 02:57:45+00:00                0   \n",
       "2           2  AndriyBoguslav  2023-02-11 02:57:41+00:00                0   \n",
       "3           3      Voevoda_BY  2023-02-11 02:57:40+00:00                0   \n",
       "4           4  NikkhahTourage  2023-02-11 02:57:39+00:00                1   \n",
       "\n",
       "      Source of Tweet                                              Tweet  \\\n",
       "0  Twitter for iPhone  RT @igorsushko: #Russia: Bread line 🍞 of Ukrai...   \n",
       "1  Twitter for iPhone  RT @ABPNews: Watch: पुतिन मेट डोभाल...पाकिस्ता...   \n",
       "2  Twitter for iPhone  RT @EmineDzheppar: Had a fruitful meeting with...   \n",
       "3     Twitter Web App  RT @oryxspioenkop: #UkraineWar: #Russia is now...   \n",
       "4     Twitter Web App  They will send you to take holocaust class ......   \n",
       "\n",
       "   Followers  Following  Retweet Count  \n",
       "0       7633       7865            282  \n",
       "1       9898        147              4  \n",
       "2       1169         71             39  \n",
       "3        411        113            223  \n",
       "4         90         87              0  "
      ]
     },
     "execution_count": 156,
     "metadata": {},
     "output_type": "execute_result"
    }
   ],
   "source": [
    "tweets_df = pd.read_csv('russiaukrainetweets.csv')\n",
    "tweets_df.head(5)"
   ]
  },
  {
   "cell_type": "code",
   "execution_count": 157,
   "id": "c5846135",
   "metadata": {},
   "outputs": [],
   "source": [
    "ukrus_bot = tweets_df.drop(['Unnamed: 0','Id', 'Date Created', 'Number of Likes', 'Tweet', 'Retweet Count'], axis=1)"
   ]
  },
  {
   "cell_type": "markdown",
   "id": "52043880",
   "metadata": {},
   "source": [
    "# Bot Prevalence in Russia Ukraine"
   ]
  },
  {
   "cell_type": "code",
   "execution_count": 158,
   "id": "6443bfbc",
   "metadata": {},
   "outputs": [],
   "source": [
    "sourcey = []\n",
    "for i in ukrus_bot['Source of Tweet']:\n",
    "    if i.startswith(\"Twitter\"):\n",
    "        j = 1\n",
    "    else:\n",
    "        j=0\n",
    "    sourcey.append(j)\n",
    "    \n",
    "ukrus_bot['source'] = sourcey"
   ]
  },
  {
   "cell_type": "code",
   "execution_count": 161,
   "id": "d3fe4b2d",
   "metadata": {},
   "outputs": [],
   "source": [
    "ukrus_bot = ukrus_bot.drop([\"Source of Tweet\"], axis=1)"
   ]
  },
  {
   "cell_type": "code",
   "execution_count": 162,
   "id": "c7d4e6d1",
   "metadata": {},
   "outputs": [
    {
     "data": {
      "text/plain": [
       "0.18117593436645396"
      ]
     },
     "execution_count": 162,
     "metadata": {},
     "output_type": "execute_result"
    }
   ],
   "source": [
    "Y_pred_rf = clf.predict(ukrus_bot)\n",
    "target_bot_list = Y_pred_rf.tolist()\n",
    "bot_prevalence = sum(target_bot_list) / len(target_bot_list)"
   ]
  },
  {
   "cell_type": "code",
   "execution_count": 163,
   "id": "a443f6ff",
   "metadata": {},
   "outputs": [],
   "source": [
    "tweets_df['bot_or_nah'] = target_bot_list"
   ]
  },
  {
   "cell_type": "code",
   "execution_count": 165,
   "id": "9903f28d",
   "metadata": {},
   "outputs": [
    {
     "data": {
      "text/plain": [
       "0.17253521126760563"
      ]
     },
     "execution_count": 165,
     "metadata": {},
     "output_type": "execute_result"
    }
   ],
   "source": [
    "tweetys = tweets_df.groupby('Id').first().reset_index()\n",
    "user_bot_prev = sum(tweetys['bot_or_nah']) / len(tweetys['bot_or_nah'])\n",
    "user_bot_prev"
   ]
  },
  {
   "cell_type": "code",
   "execution_count": 166,
   "id": "920456e8",
   "metadata": {},
   "outputs": [],
   "source": [
    "tweets_df2 = tweets_df[tweets_df.bot_or_nah != 0]"
   ]
  },
  {
   "cell_type": "code",
   "execution_count": 169,
   "id": "daf2ceeb",
   "metadata": {},
   "outputs": [],
   "source": [
    "tweets_df2.to_csv('botsonly.csv')"
   ]
  },
  {
   "cell_type": "markdown",
   "id": "4092c7df",
   "metadata": {},
   "source": [
    "# Topic Modeling the Bots"
   ]
  },
  {
   "cell_type": "code",
   "execution_count": 167,
   "id": "3744c1b6",
   "metadata": {},
   "outputs": [
    {
     "name": "stderr",
     "output_type": "stream",
     "text": [
      "C:\\Users\\jmand\\anaconda3\\lib\\site-packages\\sklearn\\utils\\deprecation.py:87: FutureWarning: Function get_feature_names is deprecated; get_feature_names is deprecated in 1.0 and will be removed in 1.2. Please use get_feature_names_out instead.\n",
      "  warnings.warn(msg, category=FutureWarning)\n"
     ]
    }
   ],
   "source": [
    "topic_word = model.topic_word_\n",
    "doc_topic=model.doc_topic_\n",
    "doc_topic=pd.DataFrame(doc_topic)\n",
    "tweets_df4=tweets_df2.join(doc_topic, rsuffix = 'check')\n",
    "topic_text=pd.DataFrame()\n",
    "\n",
    "for i in range(int(4)):\n",
    "    topic=\"topic_\"+str(i)\n",
    "    topic_text[topic]=tweets_df4.groupby(['Id'])[i].mean()\n",
    "\n",
    "topic_text=topic_text.reset_index()\n",
    "topics=pd.DataFrame(topic_word)\n",
    "topics.columns=vec_words.get_feature_names()\n",
    "topics1=topics.transpose()\n",
    "# print (\"Topics word distribution written in file topic_word_dist.xlsx\")\n",
    "# topics1.to_excel(\"topic_word_dist.xlsx\")\n",
    "# topic_text.to_excel(\"document_topic_dist.xlsx\",index=False)\n",
    "# print (\"Document topic distribution written in file document_topic_dist.xlsx \")"
   ]
  },
  {
   "cell_type": "code",
   "execution_count": 168,
   "id": "7526262f",
   "metadata": {},
   "outputs": [],
   "source": [
    "topics1.to_csv('bottopics.csv')\n",
    "topic_text.to_csv('bottext.csv')"
   ]
  },
  {
   "cell_type": "markdown",
   "id": "13f7f390",
   "metadata": {},
   "source": [
    "# Additional Preprocessing"
   ]
  },
  {
   "cell_type": "code",
   "execution_count": 37,
   "id": "8a418dda",
   "metadata": {},
   "outputs": [],
   "source": [
    "# tweets_df =tweets_df.drop('Unnamed: 0',axis=1)\n",
    "is_retweet = []\n",
    "for i in tweets_df['Tweet']:\n",
    "    if i.startswith(\"RT\"):\n",
    "        is_retweet.append(\"RT\")\n",
    "    else:\n",
    "        is_retweet.append(\"Tweet\")\n",
    "\n",
    "tweets_df['is_retweet'] = is_retweet"
   ]
  },
  {
   "cell_type": "code",
   "execution_count": 38,
   "id": "d734e605",
   "metadata": {},
   "outputs": [
    {
     "data": {
      "text/html": [
       "<div>\n",
       "<style scoped>\n",
       "    .dataframe tbody tr th:only-of-type {\n",
       "        vertical-align: middle;\n",
       "    }\n",
       "\n",
       "    .dataframe tbody tr th {\n",
       "        vertical-align: top;\n",
       "    }\n",
       "\n",
       "    .dataframe thead th {\n",
       "        text-align: right;\n",
       "    }\n",
       "</style>\n",
       "<table border=\"1\" class=\"dataframe\">\n",
       "  <thead>\n",
       "    <tr style=\"text-align: right;\">\n",
       "      <th></th>\n",
       "      <th>Id</th>\n",
       "      <th>Date Created</th>\n",
       "      <th>Number of Likes</th>\n",
       "      <th>Source of Tweet</th>\n",
       "      <th>Tweet</th>\n",
       "      <th>Followers</th>\n",
       "      <th>Following</th>\n",
       "      <th>Retweet Count</th>\n",
       "      <th>target</th>\n",
       "      <th>is_retweet</th>\n",
       "      <th>is_mention</th>\n",
       "      <th>numerical_target</th>\n",
       "    </tr>\n",
       "  </thead>\n",
       "  <tbody>\n",
       "    <tr>\n",
       "      <th>0</th>\n",
       "      <td>JudyWoods8</td>\n",
       "      <td>2023-02-11 02:57:52+00:00</td>\n",
       "      <td>0</td>\n",
       "      <td>Twitter for iPhone</td>\n",
       "      <td>RT @igorsushko: #Russia: Bread line 🍞 of Ukrai...</td>\n",
       "      <td>7633</td>\n",
       "      <td>7865</td>\n",
       "      <td>282</td>\n",
       "      <td>human</td>\n",
       "      <td>RT</td>\n",
       "      <td>0</td>\n",
       "      <td>0</td>\n",
       "    </tr>\n",
       "    <tr>\n",
       "      <th>1</th>\n",
       "      <td>anchorjiya</td>\n",
       "      <td>2023-02-11 02:57:45+00:00</td>\n",
       "      <td>0</td>\n",
       "      <td>Twitter for iPhone</td>\n",
       "      <td>RT @ABPNews: Watch: पुतिन मेट डोभाल...पाकिस्ता...</td>\n",
       "      <td>9898</td>\n",
       "      <td>147</td>\n",
       "      <td>4</td>\n",
       "      <td>human</td>\n",
       "      <td>RT</td>\n",
       "      <td>0</td>\n",
       "      <td>0</td>\n",
       "    </tr>\n",
       "    <tr>\n",
       "      <th>2</th>\n",
       "      <td>AndriyBoguslav</td>\n",
       "      <td>2023-02-11 02:57:41+00:00</td>\n",
       "      <td>0</td>\n",
       "      <td>Twitter for iPhone</td>\n",
       "      <td>RT @EmineDzheppar: Had a fruitful meeting with...</td>\n",
       "      <td>1169</td>\n",
       "      <td>71</td>\n",
       "      <td>39</td>\n",
       "      <td>human</td>\n",
       "      <td>RT</td>\n",
       "      <td>0</td>\n",
       "      <td>0</td>\n",
       "    </tr>\n",
       "    <tr>\n",
       "      <th>3</th>\n",
       "      <td>Voevoda_BY</td>\n",
       "      <td>2023-02-11 02:57:40+00:00</td>\n",
       "      <td>0</td>\n",
       "      <td>Twitter Web App</td>\n",
       "      <td>RT @oryxspioenkop: #UkraineWar: #Russia is now...</td>\n",
       "      <td>411</td>\n",
       "      <td>113</td>\n",
       "      <td>223</td>\n",
       "      <td>human</td>\n",
       "      <td>RT</td>\n",
       "      <td>0</td>\n",
       "      <td>0</td>\n",
       "    </tr>\n",
       "    <tr>\n",
       "      <th>4</th>\n",
       "      <td>NikkhahTourage</td>\n",
       "      <td>2023-02-11 02:57:39+00:00</td>\n",
       "      <td>1</td>\n",
       "      <td>Twitter Web App</td>\n",
       "      <td>They will send you to take holocaust class ......</td>\n",
       "      <td>90</td>\n",
       "      <td>87</td>\n",
       "      <td>0</td>\n",
       "      <td>human</td>\n",
       "      <td>Tweet</td>\n",
       "      <td>0</td>\n",
       "      <td>0</td>\n",
       "    </tr>\n",
       "  </tbody>\n",
       "</table>\n",
       "</div>"
      ],
      "text/plain": [
       "               Id               Date Created  Number of Likes  \\\n",
       "0      JudyWoods8  2023-02-11 02:57:52+00:00                0   \n",
       "1      anchorjiya  2023-02-11 02:57:45+00:00                0   \n",
       "2  AndriyBoguslav  2023-02-11 02:57:41+00:00                0   \n",
       "3      Voevoda_BY  2023-02-11 02:57:40+00:00                0   \n",
       "4  NikkhahTourage  2023-02-11 02:57:39+00:00                1   \n",
       "\n",
       "      Source of Tweet                                              Tweet  \\\n",
       "0  Twitter for iPhone  RT @igorsushko: #Russia: Bread line 🍞 of Ukrai...   \n",
       "1  Twitter for iPhone  RT @ABPNews: Watch: पुतिन मेट डोभाल...पाकिस्ता...   \n",
       "2  Twitter for iPhone  RT @EmineDzheppar: Had a fruitful meeting with...   \n",
       "3     Twitter Web App  RT @oryxspioenkop: #UkraineWar: #Russia is now...   \n",
       "4     Twitter Web App  They will send you to take holocaust class ......   \n",
       "\n",
       "   Followers  Following  Retweet Count target is_retweet is_mention  \\\n",
       "0       7633       7865            282  human         RT          0   \n",
       "1       9898        147              4  human         RT          0   \n",
       "2       1169         71             39  human         RT          0   \n",
       "3        411        113            223  human         RT          0   \n",
       "4         90         87              0  human      Tweet          0   \n",
       "\n",
       "   numerical_target  \n",
       "0                 0  \n",
       "1                 0  \n",
       "2                 0  \n",
       "3                 0  \n",
       "4                 0  "
      ]
     },
     "execution_count": 38,
     "metadata": {},
     "output_type": "execute_result"
    }
   ],
   "source": [
    "is_mention = []\n",
    "for i in tweets_df['Tweet']:\n",
    "    if \"@\" in i and i.startswith(\"RT\") == False:\n",
    "        is_mention.append(\"Mention\")\n",
    "    else:\n",
    "        is_mention.append(\"0\")\n",
    "\n",
    "tweets_df['is_mention'] = is_mention\n",
    "\n",
    "tweets_df.head()"
   ]
  },
  {
   "cell_type": "code",
   "execution_count": 39,
   "id": "1f1fed2f",
   "metadata": {},
   "outputs": [],
   "source": [
    "import nltk\n",
    "from nltk.tokenize import RegexpTokenizer\n",
    "\n",
    "tokenizer = RegexpTokenizer(r'@\\w+')\n",
    "tweets_df['Words'] = tweets_df['Tweet'].apply(lambda x: tokenizer.tokenize(x))"
   ]
  },
  {
   "cell_type": "code",
   "execution_count": 40,
   "id": "a26ee448",
   "metadata": {},
   "outputs": [],
   "source": [
    "tweets_df = tweets_df.explode('Words')\n",
    "\n",
    "tweet_identity = []\n",
    "for i in range(len(tweets_df['is_mention'])):\n",
    "    if tweets_df.iloc[i]['is_mention'] == \"Mention\":\n",
    "        tweet_identity.append(\"Mention\")\n",
    "    else:\n",
    "        tweet_identity.append(tweets_df.iloc[i]['is_retweet'])\n",
    "\n",
    "tweets_df['tweet_identity'] = tweet_identity\n",
    "df4 = tweets_df.drop(['Date Created','Number of Likes', 'is_retweet','is_mention','Tweet','Source of Tweet'], axis=1)"
   ]
  },
  {
   "cell_type": "code",
   "execution_count": 41,
   "id": "42c2f72d",
   "metadata": {},
   "outputs": [
    {
     "data": {
      "text/html": [
       "<div>\n",
       "<style scoped>\n",
       "    .dataframe tbody tr th:only-of-type {\n",
       "        vertical-align: middle;\n",
       "    }\n",
       "\n",
       "    .dataframe tbody tr th {\n",
       "        vertical-align: top;\n",
       "    }\n",
       "\n",
       "    .dataframe thead th {\n",
       "        text-align: right;\n",
       "    }\n",
       "</style>\n",
       "<table border=\"1\" class=\"dataframe\">\n",
       "  <thead>\n",
       "    <tr style=\"text-align: right;\">\n",
       "      <th></th>\n",
       "      <th>Id</th>\n",
       "      <th>target</th>\n",
       "      <th>Following</th>\n",
       "      <th>Retweet Count</th>\n",
       "      <th>target</th>\n",
       "      <th>numerical_target</th>\n",
       "      <th>Words</th>\n",
       "      <th>tweet_identity</th>\n",
       "    </tr>\n",
       "  </thead>\n",
       "  <tbody>\n",
       "    <tr>\n",
       "      <th>0</th>\n",
       "      <td>JudyWoods8</td>\n",
       "      <td>7633</td>\n",
       "      <td>7865</td>\n",
       "      <td>282</td>\n",
       "      <td>human</td>\n",
       "      <td>0</td>\n",
       "      <td>@igorsushko</td>\n",
       "      <td>RT</td>\n",
       "    </tr>\n",
       "    <tr>\n",
       "      <th>1</th>\n",
       "      <td>anchorjiya</td>\n",
       "      <td>9898</td>\n",
       "      <td>147</td>\n",
       "      <td>4</td>\n",
       "      <td>human</td>\n",
       "      <td>0</td>\n",
       "      <td>@ABPNews</td>\n",
       "      <td>RT</td>\n",
       "    </tr>\n",
       "    <tr>\n",
       "      <th>1</th>\n",
       "      <td>anchorjiya</td>\n",
       "      <td>9898</td>\n",
       "      <td>147</td>\n",
       "      <td>4</td>\n",
       "      <td>human</td>\n",
       "      <td>0</td>\n",
       "      <td>@anchorjiya</td>\n",
       "      <td>RT</td>\n",
       "    </tr>\n",
       "    <tr>\n",
       "      <th>2</th>\n",
       "      <td>AndriyBoguslav</td>\n",
       "      <td>1169</td>\n",
       "      <td>71</td>\n",
       "      <td>39</td>\n",
       "      <td>human</td>\n",
       "      <td>0</td>\n",
       "      <td>@EmineDzheppar</td>\n",
       "      <td>RT</td>\n",
       "    </tr>\n",
       "    <tr>\n",
       "      <th>2</th>\n",
       "      <td>AndriyBoguslav</td>\n",
       "      <td>1169</td>\n",
       "      <td>71</td>\n",
       "      <td>39</td>\n",
       "      <td>human</td>\n",
       "      <td>0</td>\n",
       "      <td>@coe</td>\n",
       "      <td>RT</td>\n",
       "    </tr>\n",
       "  </tbody>\n",
       "</table>\n",
       "</div>"
      ],
      "text/plain": [
       "               Id target  Following  Retweet Count target  numerical_target  \\\n",
       "0      JudyWoods8   7633       7865            282  human                 0   \n",
       "1      anchorjiya   9898        147              4  human                 0   \n",
       "1      anchorjiya   9898        147              4  human                 0   \n",
       "2  AndriyBoguslav   1169         71             39  human                 0   \n",
       "2  AndriyBoguslav   1169         71             39  human                 0   \n",
       "\n",
       "            Words tweet_identity  \n",
       "0     @igorsushko             RT  \n",
       "1        @ABPNews             RT  \n",
       "1     @anchorjiya             RT  \n",
       "2  @EmineDzheppar             RT  \n",
       "2            @coe             RT  "
      ]
     },
     "execution_count": 41,
     "metadata": {},
     "output_type": "execute_result"
    }
   ],
   "source": [
    "df4 = df4.rename(columns={df4.columns[1]: 'target2'})\n",
    "df4['target'] = df4['target'].fillna(df4['Id'])\n",
    "\n",
    "df4.head()"
   ]
  },
  {
   "cell_type": "markdown",
   "id": "31c83881",
   "metadata": {},
   "source": [
    "# Creating Network "
   ]
  },
  {
   "cell_type": "code",
   "execution_count": 52,
   "id": "1c1baf47",
   "metadata": {},
   "outputs": [],
   "source": [
    "import networkx as nx"
   ]
  },
  {
   "cell_type": "code",
   "execution_count": 60,
   "id": "200aa69b",
   "metadata": {},
   "outputs": [
    {
     "data": {
      "text/html": [
       "<div>\n",
       "<style scoped>\n",
       "    .dataframe tbody tr th:only-of-type {\n",
       "        vertical-align: middle;\n",
       "    }\n",
       "\n",
       "    .dataframe tbody tr th {\n",
       "        vertical-align: top;\n",
       "    }\n",
       "\n",
       "    .dataframe thead th {\n",
       "        text-align: right;\n",
       "    }\n",
       "</style>\n",
       "<table border=\"1\" class=\"dataframe\">\n",
       "  <thead>\n",
       "    <tr style=\"text-align: right;\">\n",
       "      <th></th>\n",
       "      <th>Id1</th>\n",
       "      <th>Id2</th>\n",
       "      <th>Interaction</th>\n",
       "    </tr>\n",
       "  </thead>\n",
       "  <tbody>\n",
       "    <tr>\n",
       "      <th>0</th>\n",
       "      <td>JudyWoods8</td>\n",
       "      <td>igorsushko</td>\n",
       "      <td>RT</td>\n",
       "    </tr>\n",
       "    <tr>\n",
       "      <th>1</th>\n",
       "      <td>anchorjiya</td>\n",
       "      <td>ABPNews</td>\n",
       "      <td>RT</td>\n",
       "    </tr>\n",
       "    <tr>\n",
       "      <th>1</th>\n",
       "      <td>anchorjiya</td>\n",
       "      <td>anchorjiya</td>\n",
       "      <td>RT</td>\n",
       "    </tr>\n",
       "    <tr>\n",
       "      <th>2</th>\n",
       "      <td>AndriyBoguslav</td>\n",
       "      <td>EmineDzheppar</td>\n",
       "      <td>RT</td>\n",
       "    </tr>\n",
       "    <tr>\n",
       "      <th>2</th>\n",
       "      <td>AndriyBoguslav</td>\n",
       "      <td>coe</td>\n",
       "      <td>RT</td>\n",
       "    </tr>\n",
       "    <tr>\n",
       "      <th>...</th>\n",
       "      <td>...</td>\n",
       "      <td>...</td>\n",
       "      <td>...</td>\n",
       "    </tr>\n",
       "    <tr>\n",
       "      <th>13161</th>\n",
       "      <td>craigthomler</td>\n",
       "      <td>JoeBran03134872</td>\n",
       "      <td>RT</td>\n",
       "    </tr>\n",
       "    <tr>\n",
       "      <th>13161</th>\n",
       "      <td>craigthomler</td>\n",
       "      <td>THE_RonTheDon</td>\n",
       "      <td>RT</td>\n",
       "    </tr>\n",
       "    <tr>\n",
       "      <th>13161</th>\n",
       "      <td>craigthomler</td>\n",
       "      <td>RWApodcast</td>\n",
       "      <td>RT</td>\n",
       "    </tr>\n",
       "    <tr>\n",
       "      <th>13162</th>\n",
       "      <td>FroodyWisco</td>\n",
       "      <td>ukraine_world</td>\n",
       "      <td>RT</td>\n",
       "    </tr>\n",
       "    <tr>\n",
       "      <th>13163</th>\n",
       "      <td>AimieeMobley</td>\n",
       "      <td>Therealgsns</td>\n",
       "      <td>RT</td>\n",
       "    </tr>\n",
       "  </tbody>\n",
       "</table>\n",
       "<p>14147 rows × 3 columns</p>\n",
       "</div>"
      ],
      "text/plain": [
       "                  Id1              Id2 Interaction\n",
       "0          JudyWoods8       igorsushko          RT\n",
       "1          anchorjiya          ABPNews          RT\n",
       "1          anchorjiya       anchorjiya          RT\n",
       "2      AndriyBoguslav    EmineDzheppar          RT\n",
       "2      AndriyBoguslav              coe          RT\n",
       "...               ...              ...         ...\n",
       "13161    craigthomler  JoeBran03134872          RT\n",
       "13161    craigthomler    THE_RonTheDon          RT\n",
       "13161    craigthomler       RWApodcast          RT\n",
       "13162     FroodyWisco    ukraine_world          RT\n",
       "13163    AimieeMobley      Therealgsns          RT\n",
       "\n",
       "[14147 rows x 3 columns]"
      ]
     },
     "execution_count": 60,
     "metadata": {},
     "output_type": "execute_result"
    }
   ],
   "source": [
    "def strip_at(X):\n",
    "    if type(X) is str:\n",
    "        return X.lstrip('@')\n",
    "    else:\n",
    "        return np.nan\n",
    "df5=df4.copy()  \n",
    "df5['Words']=df5['Words'].map(strip_at)\n",
    "df5 = df5[['Id','Words','tweet_identity']]\n",
    "df5=df5.rename(columns={'Id':'Id1','Words':'Id2','tweet_identity':'Interaction'})\n",
    "df5 = df5[df5['Id2'].notna()]\n",
    "df5.to_csv('network_nodes.csv')\n",
    "df5"
   ]
  },
  {
   "cell_type": "code",
   "execution_count": 61,
   "id": "7aa1d0b8",
   "metadata": {},
   "outputs": [
    {
     "data": {
      "text/plain": [
       "<networkx.classes.graph.Graph at 0x2c673e363d0>"
      ]
     },
     "execution_count": 61,
     "metadata": {},
     "output_type": "execute_result"
    }
   ],
   "source": [
    "# Graphtype = nx.Graph()\n",
    "G = nx.from_pandas_edgelist(df5, source=\"Id1\", target=\"Id2\")\n",
    "G"
   ]
  },
  {
   "cell_type": "code",
   "execution_count": 62,
   "id": "c8bfa9b1",
   "metadata": {},
   "outputs": [
    {
     "name": "stdout",
     "output_type": "stream",
     "text": [
      "Local cdn resources have problems on chrome/safari when used in jupyter-notebook. \n"
     ]
    },
    {
     "data": {
      "text/html": [
       "\n",
       "        <iframe\n",
       "            width=\"100%\"\n",
       "            height=\"600px\"\n",
       "            src=\"footballnetwork.html\"\n",
       "            frameborder=\"0\"\n",
       "            allowfullscreen\n",
       "            \n",
       "        ></iframe>\n",
       "        "
      ],
      "text/plain": [
       "<IPython.lib.display.IFrame at 0x2c673e599a0>"
      ]
     },
     "execution_count": 62,
     "metadata": {},
     "output_type": "execute_result"
    }
   ],
   "source": [
    "# create network with NetworkX\n",
    "from pyvis.network import Network\n",
    "net = Network(notebook=True)\n",
    "net.from_nx(G)\n",
    "net.show(\"footballnetwork.html\")"
   ]
  },
  {
   "cell_type": "code",
   "execution_count": 63,
   "id": "1b93fa13",
   "metadata": {},
   "outputs": [],
   "source": [
    "betweenness_centrality = nx.betweenness_centrality(G)"
   ]
  },
  {
   "cell_type": "code",
   "execution_count": 64,
   "id": "05d89e43",
   "metadata": {},
   "outputs": [],
   "source": [
    "closeness_centrality = nx.closeness_centrality(G)"
   ]
  },
  {
   "cell_type": "code",
   "execution_count": 65,
   "id": "b586cb1f",
   "metadata": {},
   "outputs": [],
   "source": [
    "degree_centrality = nx.degree_centrality(G) "
   ]
  },
  {
   "cell_type": "code",
   "execution_count": 66,
   "id": "3c891a80",
   "metadata": {},
   "outputs": [],
   "source": [
    "btw_cent = pd.DataFrame(betweenness_centrality.items(), columns=['User', 'Betweenness'])\n",
    "cls_cent = pd.DataFrame(closeness_centrality.items(), columns=['User', 'Closeness'])\n",
    "deg_cent = pd.DataFrame(degree_centrality.items(), columns=['User', 'Degree'])"
   ]
  },
  {
   "cell_type": "code",
   "execution_count": 67,
   "id": "c98eb9f0",
   "metadata": {},
   "outputs": [
    {
     "data": {
      "text/html": [
       "<div>\n",
       "<style scoped>\n",
       "    .dataframe tbody tr th:only-of-type {\n",
       "        vertical-align: middle;\n",
       "    }\n",
       "\n",
       "    .dataframe tbody tr th {\n",
       "        vertical-align: top;\n",
       "    }\n",
       "\n",
       "    .dataframe thead th {\n",
       "        text-align: right;\n",
       "    }\n",
       "</style>\n",
       "<table border=\"1\" class=\"dataframe\">\n",
       "  <thead>\n",
       "    <tr style=\"text-align: right;\">\n",
       "      <th></th>\n",
       "      <th>User</th>\n",
       "      <th>Betweenness</th>\n",
       "      <th>Degree</th>\n",
       "      <th>Closeness</th>\n",
       "    </tr>\n",
       "  </thead>\n",
       "  <tbody>\n",
       "    <tr>\n",
       "      <th>0</th>\n",
       "      <td>JudyWoods8</td>\n",
       "      <td>0.000000</td>\n",
       "      <td>0.001212</td>\n",
       "      <td>0.003967</td>\n",
       "    </tr>\n",
       "    <tr>\n",
       "      <th>1</th>\n",
       "      <td>igorsushko</td>\n",
       "      <td>0.000044</td>\n",
       "      <td>0.007273</td>\n",
       "      <td>0.007273</td>\n",
       "    </tr>\n",
       "    <tr>\n",
       "      <th>2</th>\n",
       "      <td>anchorjiya</td>\n",
       "      <td>0.000000</td>\n",
       "      <td>0.003636</td>\n",
       "      <td>0.009091</td>\n",
       "    </tr>\n",
       "    <tr>\n",
       "      <th>3</th>\n",
       "      <td>ABPNews</td>\n",
       "      <td>0.000156</td>\n",
       "      <td>0.016970</td>\n",
       "      <td>0.017045</td>\n",
       "    </tr>\n",
       "    <tr>\n",
       "      <th>4</th>\n",
       "      <td>AndriyBoguslav</td>\n",
       "      <td>0.000215</td>\n",
       "      <td>0.004848</td>\n",
       "      <td>0.007636</td>\n",
       "    </tr>\n",
       "    <tr>\n",
       "      <th>...</th>\n",
       "      <td>...</td>\n",
       "      <td>...</td>\n",
       "      <td>...</td>\n",
       "      <td>...</td>\n",
       "    </tr>\n",
       "    <tr>\n",
       "      <th>821</th>\n",
       "      <td>JoeBran03134872</td>\n",
       "      <td>0.000000</td>\n",
       "      <td>0.001212</td>\n",
       "      <td>0.003367</td>\n",
       "    </tr>\n",
       "    <tr>\n",
       "      <th>822</th>\n",
       "      <td>THE_RonTheDon</td>\n",
       "      <td>0.000000</td>\n",
       "      <td>0.001212</td>\n",
       "      <td>0.003367</td>\n",
       "    </tr>\n",
       "    <tr>\n",
       "      <th>823</th>\n",
       "      <td>RWApodcast</td>\n",
       "      <td>0.000000</td>\n",
       "      <td>0.001212</td>\n",
       "      <td>0.003367</td>\n",
       "    </tr>\n",
       "    <tr>\n",
       "      <th>824</th>\n",
       "      <td>AimieeMobley</td>\n",
       "      <td>0.000000</td>\n",
       "      <td>0.001212</td>\n",
       "      <td>0.003357</td>\n",
       "    </tr>\n",
       "    <tr>\n",
       "      <th>825</th>\n",
       "      <td>a1a697fbd80147c</td>\n",
       "      <td>0.000000</td>\n",
       "      <td>0.001212</td>\n",
       "      <td>0.003357</td>\n",
       "    </tr>\n",
       "  </tbody>\n",
       "</table>\n",
       "<p>826 rows × 4 columns</p>\n",
       "</div>"
      ],
      "text/plain": [
       "                User  Betweenness    Degree  Closeness\n",
       "0         JudyWoods8     0.000000  0.001212   0.003967\n",
       "1         igorsushko     0.000044  0.007273   0.007273\n",
       "2         anchorjiya     0.000000  0.003636   0.009091\n",
       "3            ABPNews     0.000156  0.016970   0.017045\n",
       "4     AndriyBoguslav     0.000215  0.004848   0.007636\n",
       "..               ...          ...       ...        ...\n",
       "821  JoeBran03134872     0.000000  0.001212   0.003367\n",
       "822    THE_RonTheDon     0.000000  0.001212   0.003367\n",
       "823       RWApodcast     0.000000  0.001212   0.003367\n",
       "824     AimieeMobley     0.000000  0.001212   0.003357\n",
       "825  a1a697fbd80147c     0.000000  0.001212   0.003357\n",
       "\n",
       "[826 rows x 4 columns]"
      ]
     },
     "execution_count": 67,
     "metadata": {},
     "output_type": "execute_result"
    }
   ],
   "source": [
    "merge1 = btw_cent.merge(deg_cent)\n",
    "merge2 = merge1.merge(cls_cent)\n",
    "merge2"
   ]
  },
  {
   "cell_type": "code",
   "execution_count": 68,
   "id": "8fd64336",
   "metadata": {},
   "outputs": [
    {
     "data": {
      "text/html": [
       "<div>\n",
       "<style scoped>\n",
       "    .dataframe tbody tr th:only-of-type {\n",
       "        vertical-align: middle;\n",
       "    }\n",
       "\n",
       "    .dataframe tbody tr th {\n",
       "        vertical-align: top;\n",
       "    }\n",
       "\n",
       "    .dataframe thead th {\n",
       "        text-align: right;\n",
       "    }\n",
       "</style>\n",
       "<table border=\"1\" class=\"dataframe\">\n",
       "  <thead>\n",
       "    <tr style=\"text-align: right;\">\n",
       "      <th></th>\n",
       "      <th>User</th>\n",
       "      <th>Betweenness</th>\n",
       "      <th>Degree</th>\n",
       "      <th>Closeness</th>\n",
       "    </tr>\n",
       "  </thead>\n",
       "  <tbody>\n",
       "    <tr>\n",
       "      <th>243</th>\n",
       "      <td>666_mancer</td>\n",
       "      <td>0.002024</td>\n",
       "      <td>0.040000</td>\n",
       "      <td>0.037240</td>\n",
       "    </tr>\n",
       "    <tr>\n",
       "      <th>176</th>\n",
       "      <td>GKitty50</td>\n",
       "      <td>0.004609</td>\n",
       "      <td>0.026667</td>\n",
       "      <td>0.037525</td>\n",
       "    </tr>\n",
       "    <tr>\n",
       "      <th>193</th>\n",
       "      <td>Feher_Junior</td>\n",
       "      <td>0.011959</td>\n",
       "      <td>0.024242</td>\n",
       "      <td>0.042134</td>\n",
       "    </tr>\n",
       "    <tr>\n",
       "      <th>590</th>\n",
       "      <td>kelvinchaloh97</td>\n",
       "      <td>0.002468</td>\n",
       "      <td>0.021818</td>\n",
       "      <td>0.036137</td>\n",
       "    </tr>\n",
       "    <tr>\n",
       "      <th>541</th>\n",
       "      <td>Ceoff88</td>\n",
       "      <td>0.003876</td>\n",
       "      <td>0.018182</td>\n",
       "      <td>0.035676</td>\n",
       "    </tr>\n",
       "    <tr>\n",
       "      <th>...</th>\n",
       "      <td>...</td>\n",
       "      <td>...</td>\n",
       "      <td>...</td>\n",
       "      <td>...</td>\n",
       "    </tr>\n",
       "    <tr>\n",
       "      <th>317</th>\n",
       "      <td>torontoshka</td>\n",
       "      <td>0.000000</td>\n",
       "      <td>0.001212</td>\n",
       "      <td>0.020837</td>\n",
       "    </tr>\n",
       "    <tr>\n",
       "      <th>318</th>\n",
       "      <td>RebHarms</td>\n",
       "      <td>0.000000</td>\n",
       "      <td>0.001212</td>\n",
       "      <td>0.004310</td>\n",
       "    </tr>\n",
       "    <tr>\n",
       "      <th>319</th>\n",
       "      <td>jisecu</td>\n",
       "      <td>0.000000</td>\n",
       "      <td>0.001212</td>\n",
       "      <td>0.020837</td>\n",
       "    </tr>\n",
       "    <tr>\n",
       "      <th>320</th>\n",
       "      <td>GERMANS57341712</td>\n",
       "      <td>0.000000</td>\n",
       "      <td>0.001212</td>\n",
       "      <td>0.020837</td>\n",
       "    </tr>\n",
       "    <tr>\n",
       "      <th>825</th>\n",
       "      <td>a1a697fbd80147c</td>\n",
       "      <td>0.000000</td>\n",
       "      <td>0.001212</td>\n",
       "      <td>0.003357</td>\n",
       "    </tr>\n",
       "  </tbody>\n",
       "</table>\n",
       "<p>826 rows × 4 columns</p>\n",
       "</div>"
      ],
      "text/plain": [
       "                User  Betweenness    Degree  Closeness\n",
       "243       666_mancer     0.002024  0.040000   0.037240\n",
       "176         GKitty50     0.004609  0.026667   0.037525\n",
       "193     Feher_Junior     0.011959  0.024242   0.042134\n",
       "590   kelvinchaloh97     0.002468  0.021818   0.036137\n",
       "541          Ceoff88     0.003876  0.018182   0.035676\n",
       "..               ...          ...       ...        ...\n",
       "317      torontoshka     0.000000  0.001212   0.020837\n",
       "318         RebHarms     0.000000  0.001212   0.004310\n",
       "319           jisecu     0.000000  0.001212   0.020837\n",
       "320  GERMANS57341712     0.000000  0.001212   0.020837\n",
       "825  a1a697fbd80147c     0.000000  0.001212   0.003357\n",
       "\n",
       "[826 rows x 4 columns]"
      ]
     },
     "execution_count": 68,
     "metadata": {},
     "output_type": "execute_result"
    }
   ],
   "source": [
    "merge2.sort_values(by=['Degree'], ascending=False)"
   ]
  },
  {
   "cell_type": "code",
   "execution_count": 69,
   "id": "f13e9bb9",
   "metadata": {},
   "outputs": [
    {
     "data": {
      "text/html": [
       "<div>\n",
       "<style scoped>\n",
       "    .dataframe tbody tr th:only-of-type {\n",
       "        vertical-align: middle;\n",
       "    }\n",
       "\n",
       "    .dataframe tbody tr th {\n",
       "        vertical-align: top;\n",
       "    }\n",
       "\n",
       "    .dataframe thead th {\n",
       "        text-align: right;\n",
       "    }\n",
       "</style>\n",
       "<table border=\"1\" class=\"dataframe\">\n",
       "  <thead>\n",
       "    <tr style=\"text-align: right;\">\n",
       "      <th></th>\n",
       "      <th>User</th>\n",
       "      <th>Betweenness</th>\n",
       "      <th>Degree</th>\n",
       "      <th>Closeness</th>\n",
       "    </tr>\n",
       "  </thead>\n",
       "  <tbody>\n",
       "    <tr>\n",
       "      <th>193</th>\n",
       "      <td>Feher_Junior</td>\n",
       "      <td>0.011959</td>\n",
       "      <td>0.024242</td>\n",
       "      <td>0.042134</td>\n",
       "    </tr>\n",
       "    <tr>\n",
       "      <th>161</th>\n",
       "      <td>intermarium24</td>\n",
       "      <td>0.009026</td>\n",
       "      <td>0.013333</td>\n",
       "      <td>0.039337</td>\n",
       "    </tr>\n",
       "    <tr>\n",
       "      <th>250</th>\n",
       "      <td>RBellitzia</td>\n",
       "      <td>0.007561</td>\n",
       "      <td>0.007273</td>\n",
       "      <td>0.040986</td>\n",
       "    </tr>\n",
       "    <tr>\n",
       "      <th>548</th>\n",
       "      <td>Nonejm16</td>\n",
       "      <td>0.005947</td>\n",
       "      <td>0.009697</td>\n",
       "      <td>0.039576</td>\n",
       "    </tr>\n",
       "    <tr>\n",
       "      <th>177</th>\n",
       "      <td>KorsasErik</td>\n",
       "      <td>0.005809</td>\n",
       "      <td>0.009697</td>\n",
       "      <td>0.041159</td>\n",
       "    </tr>\n",
       "    <tr>\n",
       "      <th>...</th>\n",
       "      <td>...</td>\n",
       "      <td>...</td>\n",
       "      <td>...</td>\n",
       "      <td>...</td>\n",
       "    </tr>\n",
       "    <tr>\n",
       "      <th>315</th>\n",
       "      <td>Da_wild_west</td>\n",
       "      <td>0.000000</td>\n",
       "      <td>0.001212</td>\n",
       "      <td>0.004310</td>\n",
       "    </tr>\n",
       "    <tr>\n",
       "      <th>316</th>\n",
       "      <td>KeyvanMartin</td>\n",
       "      <td>0.000000</td>\n",
       "      <td>0.001212</td>\n",
       "      <td>0.002182</td>\n",
       "    </tr>\n",
       "    <tr>\n",
       "      <th>317</th>\n",
       "      <td>torontoshka</td>\n",
       "      <td>0.000000</td>\n",
       "      <td>0.001212</td>\n",
       "      <td>0.020837</td>\n",
       "    </tr>\n",
       "    <tr>\n",
       "      <th>318</th>\n",
       "      <td>RebHarms</td>\n",
       "      <td>0.000000</td>\n",
       "      <td>0.001212</td>\n",
       "      <td>0.004310</td>\n",
       "    </tr>\n",
       "    <tr>\n",
       "      <th>825</th>\n",
       "      <td>a1a697fbd80147c</td>\n",
       "      <td>0.000000</td>\n",
       "      <td>0.001212</td>\n",
       "      <td>0.003357</td>\n",
       "    </tr>\n",
       "  </tbody>\n",
       "</table>\n",
       "<p>826 rows × 4 columns</p>\n",
       "</div>"
      ],
      "text/plain": [
       "                User  Betweenness    Degree  Closeness\n",
       "193     Feher_Junior     0.011959  0.024242   0.042134\n",
       "161    intermarium24     0.009026  0.013333   0.039337\n",
       "250       RBellitzia     0.007561  0.007273   0.040986\n",
       "548         Nonejm16     0.005947  0.009697   0.039576\n",
       "177       KorsasErik     0.005809  0.009697   0.041159\n",
       "..               ...          ...       ...        ...\n",
       "315     Da_wild_west     0.000000  0.001212   0.004310\n",
       "316     KeyvanMartin     0.000000  0.001212   0.002182\n",
       "317      torontoshka     0.000000  0.001212   0.020837\n",
       "318         RebHarms     0.000000  0.001212   0.004310\n",
       "825  a1a697fbd80147c     0.000000  0.001212   0.003357\n",
       "\n",
       "[826 rows x 4 columns]"
      ]
     },
     "execution_count": 69,
     "metadata": {},
     "output_type": "execute_result"
    }
   ],
   "source": [
    "merge2.sort_values(by=['Betweenness'], ascending=False)"
   ]
  },
  {
   "cell_type": "code",
   "execution_count": 70,
   "id": "6cb93937",
   "metadata": {},
   "outputs": [
    {
     "data": {
      "text/html": [
       "<div>\n",
       "<style scoped>\n",
       "    .dataframe tbody tr th:only-of-type {\n",
       "        vertical-align: middle;\n",
       "    }\n",
       "\n",
       "    .dataframe tbody tr th {\n",
       "        vertical-align: top;\n",
       "    }\n",
       "\n",
       "    .dataframe thead th {\n",
       "        text-align: right;\n",
       "    }\n",
       "</style>\n",
       "<table border=\"1\" class=\"dataframe\">\n",
       "  <thead>\n",
       "    <tr style=\"text-align: right;\">\n",
       "      <th></th>\n",
       "      <th>User</th>\n",
       "      <th>Betweenness</th>\n",
       "      <th>Degree</th>\n",
       "      <th>Closeness</th>\n",
       "    </tr>\n",
       "  </thead>\n",
       "  <tbody>\n",
       "    <tr>\n",
       "      <th>193</th>\n",
       "      <td>Feher_Junior</td>\n",
       "      <td>0.011959</td>\n",
       "      <td>0.024242</td>\n",
       "      <td>0.042134</td>\n",
       "    </tr>\n",
       "    <tr>\n",
       "      <th>177</th>\n",
       "      <td>KorsasErik</td>\n",
       "      <td>0.005809</td>\n",
       "      <td>0.009697</td>\n",
       "      <td>0.041159</td>\n",
       "    </tr>\n",
       "    <tr>\n",
       "      <th>250</th>\n",
       "      <td>RBellitzia</td>\n",
       "      <td>0.007561</td>\n",
       "      <td>0.007273</td>\n",
       "      <td>0.040986</td>\n",
       "    </tr>\n",
       "    <tr>\n",
       "      <th>548</th>\n",
       "      <td>Nonejm16</td>\n",
       "      <td>0.005947</td>\n",
       "      <td>0.009697</td>\n",
       "      <td>0.039576</td>\n",
       "    </tr>\n",
       "    <tr>\n",
       "      <th>161</th>\n",
       "      <td>intermarium24</td>\n",
       "      <td>0.009026</td>\n",
       "      <td>0.013333</td>\n",
       "      <td>0.039337</td>\n",
       "    </tr>\n",
       "    <tr>\n",
       "      <th>...</th>\n",
       "      <td>...</td>\n",
       "      <td>...</td>\n",
       "      <td>...</td>\n",
       "      <td>...</td>\n",
       "    </tr>\n",
       "    <tr>\n",
       "      <th>33</th>\n",
       "      <td>MAMARTINEZNica</td>\n",
       "      <td>0.000000</td>\n",
       "      <td>0.002424</td>\n",
       "      <td>0.000000</td>\n",
       "    </tr>\n",
       "    <tr>\n",
       "      <th>800</th>\n",
       "      <td>LPNPAC</td>\n",
       "      <td>0.000000</td>\n",
       "      <td>0.002424</td>\n",
       "      <td>0.000000</td>\n",
       "    </tr>\n",
       "    <tr>\n",
       "      <th>352</th>\n",
       "      <td>DGue22</td>\n",
       "      <td>0.000000</td>\n",
       "      <td>0.002424</td>\n",
       "      <td>0.000000</td>\n",
       "    </tr>\n",
       "    <tr>\n",
       "      <th>508</th>\n",
       "      <td>tugasmatkul23</td>\n",
       "      <td>0.000000</td>\n",
       "      <td>0.002424</td>\n",
       "      <td>0.000000</td>\n",
       "    </tr>\n",
       "    <tr>\n",
       "      <th>304</th>\n",
       "      <td>PhileasFogg82</td>\n",
       "      <td>0.000000</td>\n",
       "      <td>0.002424</td>\n",
       "      <td>0.000000</td>\n",
       "    </tr>\n",
       "  </tbody>\n",
       "</table>\n",
       "<p>826 rows × 4 columns</p>\n",
       "</div>"
      ],
      "text/plain": [
       "               User  Betweenness    Degree  Closeness\n",
       "193    Feher_Junior     0.011959  0.024242   0.042134\n",
       "177      KorsasErik     0.005809  0.009697   0.041159\n",
       "250      RBellitzia     0.007561  0.007273   0.040986\n",
       "548        Nonejm16     0.005947  0.009697   0.039576\n",
       "161   intermarium24     0.009026  0.013333   0.039337\n",
       "..              ...          ...       ...        ...\n",
       "33   MAMARTINEZNica     0.000000  0.002424   0.000000\n",
       "800          LPNPAC     0.000000  0.002424   0.000000\n",
       "352          DGue22     0.000000  0.002424   0.000000\n",
       "508   tugasmatkul23     0.000000  0.002424   0.000000\n",
       "304   PhileasFogg82     0.000000  0.002424   0.000000\n",
       "\n",
       "[826 rows x 4 columns]"
      ]
     },
     "execution_count": 70,
     "metadata": {},
     "output_type": "execute_result"
    }
   ],
   "source": [
    "merge2.sort_values(by=['Closeness'], ascending = False)"
   ]
  },
  {
   "cell_type": "markdown",
   "id": "15a132b4",
   "metadata": {},
   "source": [
    "# Topic Modeling"
   ]
  },
  {
   "cell_type": "code",
   "execution_count": 80,
   "id": "8226e440",
   "metadata": {},
   "outputs": [],
   "source": [
    "import lda\n",
    "from nltk.stem import WordNetLemmatizer\n",
    "from nltk.corpus import stopwords\n",
    "from sklearn.feature_extraction.text import CountVectorizer"
   ]
  },
  {
   "cell_type": "code",
   "execution_count": 81,
   "id": "6150b331",
   "metadata": {},
   "outputs": [],
   "source": [
    "tweets_df2 = tweets_df.copy()"
   ]
  },
  {
   "cell_type": "code",
   "execution_count": 82,
   "id": "1536f37f",
   "metadata": {},
   "outputs": [
    {
     "name": "stderr",
     "output_type": "stream",
     "text": [
      "C:\\Users\\jmand\\anaconda3\\lib\\site-packages\\sklearn\\feature_extraction\\text.py:404: UserWarning: Your stop_words may be inconsistent with your preprocessing. Tokenizing the stop words generated tokens ['doe', 'ha', 'wa'] not in stop_words.\n",
      "  warnings.warn(\n"
     ]
    },
    {
     "name": "stdout",
     "output_type": "stream",
     "text": [
      "(16317, 3690)\n"
     ]
    }
   ],
   "source": [
    "word_tokenizer=RegexpTokenizer(r'\\w+')\n",
    "wordnet_lemmatizer = WordNetLemmatizer()\n",
    "stopwords_nltk=set(stopwords.words('english'))\n",
    "\n",
    "\n",
    "def tokenize_text(version_desc):\n",
    "    lowercase=version_desc.lower()\n",
    "    text = wordnet_lemmatizer.lemmatize(lowercase)\n",
    "    tokens = word_tokenizer.tokenize(text)\n",
    "    return tokens\n",
    "\n",
    "vec_words = CountVectorizer(tokenizer=tokenize_text,stop_words=stopwords_nltk,decode_error='ignore')\n",
    "total_features_words = vec_words.fit_transform(tweets_df2['Tweet'])\n",
    "\n",
    "print(total_features_words.shape)"
   ]
  },
  {
   "cell_type": "code",
   "execution_count": 84,
   "id": "1d3aad1f",
   "metadata": {},
   "outputs": [
    {
     "name": "stderr",
     "output_type": "stream",
     "text": [
      "INFO:lda:n_documents: 16317\n",
      "INFO:lda:vocab_size: 3690\n",
      "INFO:lda:n_words: 249870\n",
      "INFO:lda:n_topics: 4\n",
      "INFO:lda:n_iter: 500\n",
      "INFO:lda:<0> log likelihood: -2241415\n",
      "INFO:lda:<10> log likelihood: -1622157\n",
      "INFO:lda:<20> log likelihood: -1584386\n",
      "INFO:lda:<30> log likelihood: -1578803\n",
      "INFO:lda:<40> log likelihood: -1576285\n",
      "INFO:lda:<50> log likelihood: -1573184\n",
      "INFO:lda:<60> log likelihood: -1571774\n",
      "INFO:lda:<70> log likelihood: -1570531\n",
      "INFO:lda:<80> log likelihood: -1568912\n",
      "INFO:lda:<90> log likelihood: -1567238\n",
      "INFO:lda:<100> log likelihood: -1566971\n",
      "INFO:lda:<110> log likelihood: -1566732\n",
      "INFO:lda:<120> log likelihood: -1566402\n",
      "INFO:lda:<130> log likelihood: -1566483\n",
      "INFO:lda:<140> log likelihood: -1565957\n",
      "INFO:lda:<150> log likelihood: -1565770\n",
      "INFO:lda:<160> log likelihood: -1565118\n",
      "INFO:lda:<170> log likelihood: -1565330\n",
      "INFO:lda:<180> log likelihood: -1564951\n",
      "INFO:lda:<190> log likelihood: -1565401\n",
      "INFO:lda:<200> log likelihood: -1565055\n",
      "INFO:lda:<210> log likelihood: -1564772\n",
      "INFO:lda:<220> log likelihood: -1564786\n",
      "INFO:lda:<230> log likelihood: -1564647\n",
      "INFO:lda:<240> log likelihood: -1564453\n",
      "INFO:lda:<250> log likelihood: -1564983\n",
      "INFO:lda:<260> log likelihood: -1564857\n",
      "INFO:lda:<270> log likelihood: -1564872\n",
      "INFO:lda:<280> log likelihood: -1565012\n",
      "INFO:lda:<290> log likelihood: -1564291\n",
      "INFO:lda:<300> log likelihood: -1564896\n",
      "INFO:lda:<310> log likelihood: -1564218\n",
      "INFO:lda:<320> log likelihood: -1564687\n",
      "INFO:lda:<330> log likelihood: -1564980\n",
      "INFO:lda:<340> log likelihood: -1564639\n",
      "INFO:lda:<350> log likelihood: -1564841\n",
      "INFO:lda:<360> log likelihood: -1565033\n",
      "INFO:lda:<370> log likelihood: -1564565\n",
      "INFO:lda:<380> log likelihood: -1564968\n",
      "INFO:lda:<390> log likelihood: -1564780\n",
      "INFO:lda:<400> log likelihood: -1564820\n",
      "INFO:lda:<410> log likelihood: -1564402\n",
      "INFO:lda:<420> log likelihood: -1564394\n",
      "INFO:lda:<430> log likelihood: -1564377\n",
      "INFO:lda:<440> log likelihood: -1564558\n",
      "INFO:lda:<450> log likelihood: -1564407\n",
      "INFO:lda:<460> log likelihood: -1564333\n",
      "INFO:lda:<470> log likelihood: -1564425\n",
      "INFO:lda:<480> log likelihood: -1564110\n",
      "INFO:lda:<490> log likelihood: -1564602\n",
      "INFO:lda:<499> log likelihood: -1564297\n"
     ]
    },
    {
     "data": {
      "text/plain": [
       "<lda.lda.LDA at 0x2c673c68c70>"
      ]
     },
     "execution_count": 84,
     "metadata": {},
     "output_type": "execute_result"
    }
   ],
   "source": [
    "model = lda.LDA(n_topics=int(4), n_iter=500, random_state=1)\n",
    "model.fit(total_features_words)"
   ]
  },
  {
   "cell_type": "code",
   "execution_count": 85,
   "id": "2a8b3821",
   "metadata": {},
   "outputs": [
    {
     "data": {
      "text/html": [
       "<div>\n",
       "<style scoped>\n",
       "    .dataframe tbody tr th:only-of-type {\n",
       "        vertical-align: middle;\n",
       "    }\n",
       "\n",
       "    .dataframe tbody tr th {\n",
       "        vertical-align: top;\n",
       "    }\n",
       "\n",
       "    .dataframe thead th {\n",
       "        text-align: right;\n",
       "    }\n",
       "</style>\n",
       "<table border=\"1\" class=\"dataframe\">\n",
       "  <thead>\n",
       "    <tr style=\"text-align: right;\">\n",
       "      <th></th>\n",
       "      <th>index</th>\n",
       "      <th>Id</th>\n",
       "      <th>Date Created</th>\n",
       "      <th>Number of Likes</th>\n",
       "      <th>Source of Tweet</th>\n",
       "      <th>Tweet</th>\n",
       "      <th>Followers</th>\n",
       "      <th>Following</th>\n",
       "      <th>Retweet Count</th>\n",
       "      <th>target</th>\n",
       "      <th>is_retweet</th>\n",
       "      <th>is_mention</th>\n",
       "      <th>numerical_target</th>\n",
       "      <th>Words</th>\n",
       "      <th>tweet_identity</th>\n",
       "    </tr>\n",
       "  </thead>\n",
       "  <tbody>\n",
       "    <tr>\n",
       "      <th>0</th>\n",
       "      <td>0</td>\n",
       "      <td>JudyWoods8</td>\n",
       "      <td>2023-02-11 02:57:52+00:00</td>\n",
       "      <td>0</td>\n",
       "      <td>Twitter for iPhone</td>\n",
       "      <td>RT @igorsushko: #Russia: Bread line 🍞 of Ukrai...</td>\n",
       "      <td>7633</td>\n",
       "      <td>7865</td>\n",
       "      <td>282</td>\n",
       "      <td>human</td>\n",
       "      <td>RT</td>\n",
       "      <td>0</td>\n",
       "      <td>0</td>\n",
       "      <td>@igorsushko</td>\n",
       "      <td>RT</td>\n",
       "    </tr>\n",
       "    <tr>\n",
       "      <th>1</th>\n",
       "      <td>1</td>\n",
       "      <td>anchorjiya</td>\n",
       "      <td>2023-02-11 02:57:45+00:00</td>\n",
       "      <td>0</td>\n",
       "      <td>Twitter for iPhone</td>\n",
       "      <td>RT @ABPNews: Watch: पुतिन मेट डोभाल...पाकिस्ता...</td>\n",
       "      <td>9898</td>\n",
       "      <td>147</td>\n",
       "      <td>4</td>\n",
       "      <td>human</td>\n",
       "      <td>RT</td>\n",
       "      <td>0</td>\n",
       "      <td>0</td>\n",
       "      <td>@ABPNews</td>\n",
       "      <td>RT</td>\n",
       "    </tr>\n",
       "    <tr>\n",
       "      <th>2</th>\n",
       "      <td>1</td>\n",
       "      <td>anchorjiya</td>\n",
       "      <td>2023-02-11 02:57:45+00:00</td>\n",
       "      <td>0</td>\n",
       "      <td>Twitter for iPhone</td>\n",
       "      <td>RT @ABPNews: Watch: पुतिन मेट डोभाल...पाकिस्ता...</td>\n",
       "      <td>9898</td>\n",
       "      <td>147</td>\n",
       "      <td>4</td>\n",
       "      <td>human</td>\n",
       "      <td>RT</td>\n",
       "      <td>0</td>\n",
       "      <td>0</td>\n",
       "      <td>@anchorjiya</td>\n",
       "      <td>RT</td>\n",
       "    </tr>\n",
       "    <tr>\n",
       "      <th>3</th>\n",
       "      <td>2</td>\n",
       "      <td>AndriyBoguslav</td>\n",
       "      <td>2023-02-11 02:57:41+00:00</td>\n",
       "      <td>0</td>\n",
       "      <td>Twitter for iPhone</td>\n",
       "      <td>RT @EmineDzheppar: Had a fruitful meeting with...</td>\n",
       "      <td>1169</td>\n",
       "      <td>71</td>\n",
       "      <td>39</td>\n",
       "      <td>human</td>\n",
       "      <td>RT</td>\n",
       "      <td>0</td>\n",
       "      <td>0</td>\n",
       "      <td>@EmineDzheppar</td>\n",
       "      <td>RT</td>\n",
       "    </tr>\n",
       "    <tr>\n",
       "      <th>4</th>\n",
       "      <td>2</td>\n",
       "      <td>AndriyBoguslav</td>\n",
       "      <td>2023-02-11 02:57:41+00:00</td>\n",
       "      <td>0</td>\n",
       "      <td>Twitter for iPhone</td>\n",
       "      <td>RT @EmineDzheppar: Had a fruitful meeting with...</td>\n",
       "      <td>1169</td>\n",
       "      <td>71</td>\n",
       "      <td>39</td>\n",
       "      <td>human</td>\n",
       "      <td>RT</td>\n",
       "      <td>0</td>\n",
       "      <td>0</td>\n",
       "      <td>@coe</td>\n",
       "      <td>RT</td>\n",
       "    </tr>\n",
       "    <tr>\n",
       "      <th>...</th>\n",
       "      <td>...</td>\n",
       "      <td>...</td>\n",
       "      <td>...</td>\n",
       "      <td>...</td>\n",
       "      <td>...</td>\n",
       "      <td>...</td>\n",
       "      <td>...</td>\n",
       "      <td>...</td>\n",
       "      <td>...</td>\n",
       "      <td>...</td>\n",
       "      <td>...</td>\n",
       "      <td>...</td>\n",
       "      <td>...</td>\n",
       "      <td>...</td>\n",
       "      <td>...</td>\n",
       "    </tr>\n",
       "    <tr>\n",
       "      <th>16312</th>\n",
       "      <td>13161</td>\n",
       "      <td>craigthomler</td>\n",
       "      <td>2023-02-11 01:18:40+00:00</td>\n",
       "      <td>0</td>\n",
       "      <td>Twitter for iPhone</td>\n",
       "      <td>RT @USChelseaXXfan: @Knight22122 @JoeBran03134...</td>\n",
       "      <td>10683</td>\n",
       "      <td>10839</td>\n",
       "      <td>1</td>\n",
       "      <td>human</td>\n",
       "      <td>RT</td>\n",
       "      <td>0</td>\n",
       "      <td>0</td>\n",
       "      <td>@JoeBran03134872</td>\n",
       "      <td>RT</td>\n",
       "    </tr>\n",
       "    <tr>\n",
       "      <th>16313</th>\n",
       "      <td>13161</td>\n",
       "      <td>craigthomler</td>\n",
       "      <td>2023-02-11 01:18:40+00:00</td>\n",
       "      <td>0</td>\n",
       "      <td>Twitter for iPhone</td>\n",
       "      <td>RT @USChelseaXXfan: @Knight22122 @JoeBran03134...</td>\n",
       "      <td>10683</td>\n",
       "      <td>10839</td>\n",
       "      <td>1</td>\n",
       "      <td>human</td>\n",
       "      <td>RT</td>\n",
       "      <td>0</td>\n",
       "      <td>0</td>\n",
       "      <td>@THE_RonTheDon</td>\n",
       "      <td>RT</td>\n",
       "    </tr>\n",
       "    <tr>\n",
       "      <th>16314</th>\n",
       "      <td>13161</td>\n",
       "      <td>craigthomler</td>\n",
       "      <td>2023-02-11 01:18:40+00:00</td>\n",
       "      <td>0</td>\n",
       "      <td>Twitter for iPhone</td>\n",
       "      <td>RT @USChelseaXXfan: @Knight22122 @JoeBran03134...</td>\n",
       "      <td>10683</td>\n",
       "      <td>10839</td>\n",
       "      <td>1</td>\n",
       "      <td>human</td>\n",
       "      <td>RT</td>\n",
       "      <td>0</td>\n",
       "      <td>0</td>\n",
       "      <td>@RWApodcast</td>\n",
       "      <td>RT</td>\n",
       "    </tr>\n",
       "    <tr>\n",
       "      <th>16315</th>\n",
       "      <td>13162</td>\n",
       "      <td>FroodyWisco</td>\n",
       "      <td>2023-02-11 01:16:35+00:00</td>\n",
       "      <td>0</td>\n",
       "      <td>Twitter Web App</td>\n",
       "      <td>RT @ukraine_world: Russia likely lost dozens o...</td>\n",
       "      <td>2979</td>\n",
       "      <td>4740</td>\n",
       "      <td>58</td>\n",
       "      <td>human</td>\n",
       "      <td>RT</td>\n",
       "      <td>0</td>\n",
       "      <td>0</td>\n",
       "      <td>@ukraine_world</td>\n",
       "      <td>RT</td>\n",
       "    </tr>\n",
       "    <tr>\n",
       "      <th>16316</th>\n",
       "      <td>13163</td>\n",
       "      <td>AimieeMobley</td>\n",
       "      <td>2023-02-11 01:14:05+00:00</td>\n",
       "      <td>0</td>\n",
       "      <td>Twitter for Android</td>\n",
       "      <td>RT @Therealgsns: ⚠️ BREAKING: PUTIN PREPARING ...</td>\n",
       "      <td>391</td>\n",
       "      <td>1317</td>\n",
       "      <td>5</td>\n",
       "      <td>human</td>\n",
       "      <td>RT</td>\n",
       "      <td>0</td>\n",
       "      <td>0</td>\n",
       "      <td>@Therealgsns</td>\n",
       "      <td>RT</td>\n",
       "    </tr>\n",
       "  </tbody>\n",
       "</table>\n",
       "<p>16317 rows × 15 columns</p>\n",
       "</div>"
      ],
      "text/plain": [
       "       index              Id               Date Created  Number of Likes  \\\n",
       "0          0      JudyWoods8  2023-02-11 02:57:52+00:00                0   \n",
       "1          1      anchorjiya  2023-02-11 02:57:45+00:00                0   \n",
       "2          1      anchorjiya  2023-02-11 02:57:45+00:00                0   \n",
       "3          2  AndriyBoguslav  2023-02-11 02:57:41+00:00                0   \n",
       "4          2  AndriyBoguslav  2023-02-11 02:57:41+00:00                0   \n",
       "...      ...             ...                        ...              ...   \n",
       "16312  13161    craigthomler  2023-02-11 01:18:40+00:00                0   \n",
       "16313  13161    craigthomler  2023-02-11 01:18:40+00:00                0   \n",
       "16314  13161    craigthomler  2023-02-11 01:18:40+00:00                0   \n",
       "16315  13162     FroodyWisco  2023-02-11 01:16:35+00:00                0   \n",
       "16316  13163    AimieeMobley  2023-02-11 01:14:05+00:00                0   \n",
       "\n",
       "           Source of Tweet                                              Tweet  \\\n",
       "0       Twitter for iPhone  RT @igorsushko: #Russia: Bread line 🍞 of Ukrai...   \n",
       "1       Twitter for iPhone  RT @ABPNews: Watch: पुतिन मेट डोभाल...पाकिस्ता...   \n",
       "2       Twitter for iPhone  RT @ABPNews: Watch: पुतिन मेट डोभाल...पाकिस्ता...   \n",
       "3       Twitter for iPhone  RT @EmineDzheppar: Had a fruitful meeting with...   \n",
       "4       Twitter for iPhone  RT @EmineDzheppar: Had a fruitful meeting with...   \n",
       "...                    ...                                                ...   \n",
       "16312   Twitter for iPhone  RT @USChelseaXXfan: @Knight22122 @JoeBran03134...   \n",
       "16313   Twitter for iPhone  RT @USChelseaXXfan: @Knight22122 @JoeBran03134...   \n",
       "16314   Twitter for iPhone  RT @USChelseaXXfan: @Knight22122 @JoeBran03134...   \n",
       "16315      Twitter Web App  RT @ukraine_world: Russia likely lost dozens o...   \n",
       "16316  Twitter for Android  RT @Therealgsns: ⚠️ BREAKING: PUTIN PREPARING ...   \n",
       "\n",
       "       Followers  Following  Retweet Count target is_retweet is_mention  \\\n",
       "0           7633       7865            282  human         RT          0   \n",
       "1           9898        147              4  human         RT          0   \n",
       "2           9898        147              4  human         RT          0   \n",
       "3           1169         71             39  human         RT          0   \n",
       "4           1169         71             39  human         RT          0   \n",
       "...          ...        ...            ...    ...        ...        ...   \n",
       "16312      10683      10839              1  human         RT          0   \n",
       "16313      10683      10839              1  human         RT          0   \n",
       "16314      10683      10839              1  human         RT          0   \n",
       "16315       2979       4740             58  human         RT          0   \n",
       "16316        391       1317              5  human         RT          0   \n",
       "\n",
       "       numerical_target             Words tweet_identity  \n",
       "0                     0       @igorsushko             RT  \n",
       "1                     0          @ABPNews             RT  \n",
       "2                     0       @anchorjiya             RT  \n",
       "3                     0    @EmineDzheppar             RT  \n",
       "4                     0              @coe             RT  \n",
       "...                 ...               ...            ...  \n",
       "16312                 0  @JoeBran03134872             RT  \n",
       "16313                 0    @THE_RonTheDon             RT  \n",
       "16314                 0       @RWApodcast             RT  \n",
       "16315                 0    @ukraine_world             RT  \n",
       "16316                 0      @Therealgsns             RT  \n",
       "\n",
       "[16317 rows x 15 columns]"
      ]
     },
     "execution_count": 85,
     "metadata": {},
     "output_type": "execute_result"
    }
   ],
   "source": [
    "tweets_df2 = tweets_df2.reset_index()\n",
    "tweets_df2"
   ]
  },
  {
   "cell_type": "code",
   "execution_count": 88,
   "id": "28d626c4",
   "metadata": {},
   "outputs": [
    {
     "name": "stderr",
     "output_type": "stream",
     "text": [
      "C:\\Users\\jmand\\anaconda3\\lib\\site-packages\\sklearn\\utils\\deprecation.py:87: FutureWarning: Function get_feature_names is deprecated; get_feature_names is deprecated in 1.0 and will be removed in 1.2. Please use get_feature_names_out instead.\n",
      "  warnings.warn(msg, category=FutureWarning)\n"
     ]
    }
   ],
   "source": [
    "topic_word = model.topic_word_\n",
    "doc_topic=model.doc_topic_\n",
    "doc_topic=pd.DataFrame(doc_topic)\n",
    "tweets_df2=tweets_df2.join(doc_topic, rsuffix = 'check')\n",
    "topic_text=pd.DataFrame()\n",
    "\n",
    "for i in range(int(4)):\n",
    "    topic=\"topic_\"+str(i)\n",
    "    topic_text[topic]=tweets_df2.groupby(['Id'])[i].mean()\n",
    "\n",
    "topic_text=topic_text.reset_index()\n",
    "topics=pd.DataFrame(topic_word)\n",
    "topics.columns=vec_words.get_feature_names()\n",
    "topics1=topics.transpose()\n",
    "# print (\"Topics word distribution written in file topic_word_dist.xlsx\")\n",
    "topics1.to_excel(\"topic_word_dist.xlsx\")\n",
    "topic_text.to_excel(\"document_topic_dist.xlsx\",index=False)\n",
    "# print (\"Document topic distribution written in file document_topic_dist.xlsx \")"
   ]
  },
  {
   "cell_type": "code",
   "execution_count": null,
   "id": "d170eca3",
   "metadata": {},
   "outputs": [],
   "source": [
    "# separate between bot accounts and non-bots to see what topics are favored by each\n",
    "# maybe even sentiment analysis on the strength of the tweets seen by bots vs non-bots"
   ]
  },
  {
   "cell_type": "code",
   "execution_count": 89,
   "id": "19817f4a",
   "metadata": {},
   "outputs": [],
   "source": [
    "topics1.to_csv('topic_word_ukrus_dist.csv')\n",
    "topic_text.to_csv('doc_topic_ukrus_dist.csv')"
   ]
  },
  {
   "cell_type": "markdown",
   "id": "c1df1685",
   "metadata": {},
   "source": [
    "# Determining Influencers"
   ]
  },
  {
   "cell_type": "code",
   "execution_count": 90,
   "id": "a823617f",
   "metadata": {},
   "outputs": [
    {
     "data": {
      "text/plain": [
       "568"
      ]
     },
     "execution_count": 90,
     "metadata": {},
     "output_type": "execute_result"
    }
   ],
   "source": [
    "user_list = list(set(list(tweets_df['Id'].drop_duplicates().values)))\n",
    "len(user_list)"
   ]
  },
  {
   "cell_type": "code",
   "execution_count": 91,
   "id": "1c280f84",
   "metadata": {},
   "outputs": [],
   "source": [
    "metrics = tweets_df[['Id','Number of Likes','Followers','Following','Retweet Count','is_retweet','is_mention']]"
   ]
  },
  {
   "cell_type": "code",
   "execution_count": 92,
   "id": "7121b1d0",
   "metadata": {},
   "outputs": [
    {
     "name": "stderr",
     "output_type": "stream",
     "text": [
      "C:\\Users\\jmand\\AppData\\Local\\Temp\\ipykernel_24464\\3153493009.py:1: SettingWithCopyWarning: \n",
      "A value is trying to be set on a copy of a slice from a DataFrame.\n",
      "Try using .loc[row_indexer,col_indexer] = value instead\n",
      "\n",
      "See the caveats in the documentation: https://pandas.pydata.org/pandas-docs/stable/user_guide/indexing.html#returning-a-view-versus-a-copy\n",
      "  metrics['is_retweet'] = metrics['is_retweet'].replace(['Tweet'], 0)\n",
      "C:\\Users\\jmand\\AppData\\Local\\Temp\\ipykernel_24464\\3153493009.py:2: SettingWithCopyWarning: \n",
      "A value is trying to be set on a copy of a slice from a DataFrame.\n",
      "Try using .loc[row_indexer,col_indexer] = value instead\n",
      "\n",
      "See the caveats in the documentation: https://pandas.pydata.org/pandas-docs/stable/user_guide/indexing.html#returning-a-view-versus-a-copy\n",
      "  metrics['is_retweet'] = metrics['is_retweet'].replace(['RT'], 1)\n",
      "C:\\Users\\jmand\\AppData\\Local\\Temp\\ipykernel_24464\\3153493009.py:3: SettingWithCopyWarning: \n",
      "A value is trying to be set on a copy of a slice from a DataFrame.\n",
      "Try using .loc[row_indexer,col_indexer] = value instead\n",
      "\n",
      "See the caveats in the documentation: https://pandas.pydata.org/pandas-docs/stable/user_guide/indexing.html#returning-a-view-versus-a-copy\n",
      "  metrics['is_mention'] = metrics['is_mention'].replace(['Mention'], 1)\n",
      "C:\\Users\\jmand\\AppData\\Local\\Temp\\ipykernel_24464\\3153493009.py:4: SettingWithCopyWarning: \n",
      "A value is trying to be set on a copy of a slice from a DataFrame.\n",
      "Try using .loc[row_indexer,col_indexer] = value instead\n",
      "\n",
      "See the caveats in the documentation: https://pandas.pydata.org/pandas-docs/stable/user_guide/indexing.html#returning-a-view-versus-a-copy\n",
      "  metrics['is_retweet'] = metrics['is_retweet'].astype('int')\n",
      "C:\\Users\\jmand\\AppData\\Local\\Temp\\ipykernel_24464\\3153493009.py:5: SettingWithCopyWarning: \n",
      "A value is trying to be set on a copy of a slice from a DataFrame.\n",
      "Try using .loc[row_indexer,col_indexer] = value instead\n",
      "\n",
      "See the caveats in the documentation: https://pandas.pydata.org/pandas-docs/stable/user_guide/indexing.html#returning-a-view-versus-a-copy\n",
      "  metrics['is_mention'] = metrics['is_mention'].astype('int')\n",
      "C:\\Users\\jmand\\AppData\\Local\\Temp\\ipykernel_24464\\3153493009.py:6: SettingWithCopyWarning: \n",
      "A value is trying to be set on a copy of a slice from a DataFrame.\n",
      "Try using .loc[row_indexer,col_indexer] = value instead\n",
      "\n",
      "See the caveats in the documentation: https://pandas.pydata.org/pandas-docs/stable/user_guide/indexing.html#returning-a-view-versus-a-copy\n",
      "  metrics['Number of Likes'] = metrics['Number of Likes'].astype('int')\n",
      "C:\\Users\\jmand\\AppData\\Local\\Temp\\ipykernel_24464\\3153493009.py:7: SettingWithCopyWarning: \n",
      "A value is trying to be set on a copy of a slice from a DataFrame.\n",
      "Try using .loc[row_indexer,col_indexer] = value instead\n",
      "\n",
      "See the caveats in the documentation: https://pandas.pydata.org/pandas-docs/stable/user_guide/indexing.html#returning-a-view-versus-a-copy\n",
      "  metrics['Followers'] = metrics['Followers'].astype('int')\n",
      "C:\\Users\\jmand\\AppData\\Local\\Temp\\ipykernel_24464\\3153493009.py:8: SettingWithCopyWarning: \n",
      "A value is trying to be set on a copy of a slice from a DataFrame.\n",
      "Try using .loc[row_indexer,col_indexer] = value instead\n",
      "\n",
      "See the caveats in the documentation: https://pandas.pydata.org/pandas-docs/stable/user_guide/indexing.html#returning-a-view-versus-a-copy\n",
      "  metrics['Following'] = metrics['Following'].astype('int')\n",
      "C:\\Users\\jmand\\AppData\\Local\\Temp\\ipykernel_24464\\3153493009.py:9: SettingWithCopyWarning: \n",
      "A value is trying to be set on a copy of a slice from a DataFrame.\n",
      "Try using .loc[row_indexer,col_indexer] = value instead\n",
      "\n",
      "See the caveats in the documentation: https://pandas.pydata.org/pandas-docs/stable/user_guide/indexing.html#returning-a-view-versus-a-copy\n",
      "  metrics['Retweet Count'] = metrics['Retweet Count'].astype('int')\n"
     ]
    }
   ],
   "source": [
    "metrics['is_retweet'] = metrics['is_retweet'].replace(['Tweet'], 0)\n",
    "metrics['is_retweet'] = metrics['is_retweet'].replace(['RT'], 1)\n",
    "metrics['is_mention'] = metrics['is_mention'].replace(['Mention'], 1)\n",
    "metrics['is_retweet'] = metrics['is_retweet'].astype('int')\n",
    "metrics['is_mention'] = metrics['is_mention'].astype('int')\n",
    "metrics['Number of Likes'] = metrics['Number of Likes'].astype('int')\n",
    "metrics['Followers'] = metrics['Followers'].astype('int')\n",
    "metrics['Following'] = metrics['Following'].astype('int')\n",
    "metrics['Retweet Count'] = metrics['Retweet Count'].astype('int')"
   ]
  },
  {
   "cell_type": "code",
   "execution_count": 93,
   "id": "5dc9f772",
   "metadata": {},
   "outputs": [
    {
     "data": {
      "text/html": [
       "<div>\n",
       "<style scoped>\n",
       "    .dataframe tbody tr th:only-of-type {\n",
       "        vertical-align: middle;\n",
       "    }\n",
       "\n",
       "    .dataframe tbody tr th {\n",
       "        vertical-align: top;\n",
       "    }\n",
       "\n",
       "    .dataframe thead th {\n",
       "        text-align: right;\n",
       "    }\n",
       "</style>\n",
       "<table border=\"1\" class=\"dataframe\">\n",
       "  <thead>\n",
       "    <tr style=\"text-align: right;\">\n",
       "      <th></th>\n",
       "      <th>Id</th>\n",
       "      <th>Number of Likes</th>\n",
       "      <th>Followers</th>\n",
       "      <th>Following</th>\n",
       "      <th>Retweet Count</th>\n",
       "      <th>is_retweet</th>\n",
       "      <th>is_mention</th>\n",
       "    </tr>\n",
       "  </thead>\n",
       "  <tbody>\n",
       "    <tr>\n",
       "      <th>0</th>\n",
       "      <td>1foreverseeking</td>\n",
       "      <td>0</td>\n",
       "      <td>115335</td>\n",
       "      <td>88590</td>\n",
       "      <td>30</td>\n",
       "      <td>15</td>\n",
       "      <td>0</td>\n",
       "    </tr>\n",
       "    <tr>\n",
       "      <th>1</th>\n",
       "      <td>1hogfanwps11</td>\n",
       "      <td>0</td>\n",
       "      <td>20760</td>\n",
       "      <td>75105</td>\n",
       "      <td>1005</td>\n",
       "      <td>15</td>\n",
       "      <td>0</td>\n",
       "    </tr>\n",
       "    <tr>\n",
       "      <th>2</th>\n",
       "      <td>1i5t3n3r</td>\n",
       "      <td>0</td>\n",
       "      <td>6405</td>\n",
       "      <td>8040</td>\n",
       "      <td>750</td>\n",
       "      <td>15</td>\n",
       "      <td>0</td>\n",
       "    </tr>\n",
       "    <tr>\n",
       "      <th>3</th>\n",
       "      <td>2824Bear</td>\n",
       "      <td>0</td>\n",
       "      <td>12420</td>\n",
       "      <td>6390</td>\n",
       "      <td>990</td>\n",
       "      <td>45</td>\n",
       "      <td>0</td>\n",
       "    </tr>\n",
       "    <tr>\n",
       "      <th>4</th>\n",
       "      <td>2old4thishappy1</td>\n",
       "      <td>0</td>\n",
       "      <td>101790</td>\n",
       "      <td>225270</td>\n",
       "      <td>795</td>\n",
       "      <td>45</td>\n",
       "      <td>0</td>\n",
       "    </tr>\n",
       "    <tr>\n",
       "      <th>...</th>\n",
       "      <td>...</td>\n",
       "      <td>...</td>\n",
       "      <td>...</td>\n",
       "      <td>...</td>\n",
       "      <td>...</td>\n",
       "      <td>...</td>\n",
       "      <td>...</td>\n",
       "    </tr>\n",
       "    <tr>\n",
       "      <th>563</th>\n",
       "      <td>xlr8mpls</td>\n",
       "      <td>0</td>\n",
       "      <td>2265</td>\n",
       "      <td>2025</td>\n",
       "      <td>0</td>\n",
       "      <td>0</td>\n",
       "      <td>15</td>\n",
       "    </tr>\n",
       "    <tr>\n",
       "      <th>564</th>\n",
       "      <td>youbic6869</td>\n",
       "      <td>0</td>\n",
       "      <td>3855</td>\n",
       "      <td>8445</td>\n",
       "      <td>405</td>\n",
       "      <td>15</td>\n",
       "      <td>0</td>\n",
       "    </tr>\n",
       "    <tr>\n",
       "      <th>565</th>\n",
       "      <td>yume6tsumi0</td>\n",
       "      <td>75</td>\n",
       "      <td>168660</td>\n",
       "      <td>152820</td>\n",
       "      <td>180</td>\n",
       "      <td>30</td>\n",
       "      <td>30</td>\n",
       "    </tr>\n",
       "    <tr>\n",
       "      <th>566</th>\n",
       "      <td>yusr18413764</td>\n",
       "      <td>0</td>\n",
       "      <td>1170</td>\n",
       "      <td>2220</td>\n",
       "      <td>0</td>\n",
       "      <td>0</td>\n",
       "      <td>0</td>\n",
       "    </tr>\n",
       "    <tr>\n",
       "      <th>567</th>\n",
       "      <td>zahdehz</td>\n",
       "      <td>0</td>\n",
       "      <td>11100</td>\n",
       "      <td>150150</td>\n",
       "      <td>30</td>\n",
       "      <td>15</td>\n",
       "      <td>0</td>\n",
       "    </tr>\n",
       "  </tbody>\n",
       "</table>\n",
       "<p>568 rows × 7 columns</p>\n",
       "</div>"
      ],
      "text/plain": [
       "                  Id  Number of Likes  Followers  Following  Retweet Count  \\\n",
       "0    1foreverseeking                0     115335      88590             30   \n",
       "1       1hogfanwps11                0      20760      75105           1005   \n",
       "2           1i5t3n3r                0       6405       8040            750   \n",
       "3           2824Bear                0      12420       6390            990   \n",
       "4    2old4thishappy1                0     101790     225270            795   \n",
       "..               ...              ...        ...        ...            ...   \n",
       "563         xlr8mpls                0       2265       2025              0   \n",
       "564       youbic6869                0       3855       8445            405   \n",
       "565      yume6tsumi0               75     168660     152820            180   \n",
       "566     yusr18413764                0       1170       2220              0   \n",
       "567          zahdehz                0      11100     150150             30   \n",
       "\n",
       "     is_retweet  is_mention  \n",
       "0            15           0  \n",
       "1            15           0  \n",
       "2            15           0  \n",
       "3            45           0  \n",
       "4            45           0  \n",
       "..          ...         ...  \n",
       "563           0          15  \n",
       "564          15           0  \n",
       "565          30          30  \n",
       "566           0           0  \n",
       "567          15           0  \n",
       "\n",
       "[568 rows x 7 columns]"
      ]
     },
     "execution_count": 93,
     "metadata": {},
     "output_type": "execute_result"
    }
   ],
   "source": [
    "metrics.groupby('Id').sum().reset_index()"
   ]
  },
  {
   "cell_type": "code",
   "execution_count": 97,
   "id": "b252611b",
   "metadata": {},
   "outputs": [
    {
     "data": {
      "text/html": [
       "<div>\n",
       "<style scoped>\n",
       "    .dataframe tbody tr th:only-of-type {\n",
       "        vertical-align: middle;\n",
       "    }\n",
       "\n",
       "    .dataframe tbody tr th {\n",
       "        vertical-align: top;\n",
       "    }\n",
       "\n",
       "    .dataframe thead th {\n",
       "        text-align: right;\n",
       "    }\n",
       "</style>\n",
       "<table border=\"1\" class=\"dataframe\">\n",
       "  <thead>\n",
       "    <tr style=\"text-align: right;\">\n",
       "      <th></th>\n",
       "      <th>Id</th>\n",
       "      <th>Number of Likes</th>\n",
       "      <th>Followers</th>\n",
       "      <th>Following</th>\n",
       "      <th>Retweet Count</th>\n",
       "      <th>is_retweet</th>\n",
       "      <th>is_mention</th>\n",
       "      <th>User</th>\n",
       "      <th>Betweenness</th>\n",
       "      <th>Degree</th>\n",
       "      <th>Closeness</th>\n",
       "    </tr>\n",
       "  </thead>\n",
       "  <tbody>\n",
       "    <tr>\n",
       "      <th>0</th>\n",
       "      <td>JudyWoods8</td>\n",
       "      <td>0</td>\n",
       "      <td>7633</td>\n",
       "      <td>7865</td>\n",
       "      <td>282</td>\n",
       "      <td>1</td>\n",
       "      <td>0</td>\n",
       "      <td>JudyWoods8</td>\n",
       "      <td>0.0</td>\n",
       "      <td>0.001212</td>\n",
       "      <td>0.003967</td>\n",
       "    </tr>\n",
       "    <tr>\n",
       "      <th>1</th>\n",
       "      <td>JudyWoods8</td>\n",
       "      <td>0</td>\n",
       "      <td>7633</td>\n",
       "      <td>7865</td>\n",
       "      <td>282</td>\n",
       "      <td>1</td>\n",
       "      <td>0</td>\n",
       "      <td>JudyWoods8</td>\n",
       "      <td>0.0</td>\n",
       "      <td>0.001212</td>\n",
       "      <td>0.003967</td>\n",
       "    </tr>\n",
       "    <tr>\n",
       "      <th>2</th>\n",
       "      <td>JudyWoods8</td>\n",
       "      <td>0</td>\n",
       "      <td>7633</td>\n",
       "      <td>7865</td>\n",
       "      <td>282</td>\n",
       "      <td>1</td>\n",
       "      <td>0</td>\n",
       "      <td>JudyWoods8</td>\n",
       "      <td>0.0</td>\n",
       "      <td>0.001212</td>\n",
       "      <td>0.003967</td>\n",
       "    </tr>\n",
       "    <tr>\n",
       "      <th>3</th>\n",
       "      <td>JudyWoods8</td>\n",
       "      <td>0</td>\n",
       "      <td>7633</td>\n",
       "      <td>7865</td>\n",
       "      <td>282</td>\n",
       "      <td>1</td>\n",
       "      <td>0</td>\n",
       "      <td>JudyWoods8</td>\n",
       "      <td>0.0</td>\n",
       "      <td>0.001212</td>\n",
       "      <td>0.003967</td>\n",
       "    </tr>\n",
       "    <tr>\n",
       "      <th>4</th>\n",
       "      <td>JudyWoods8</td>\n",
       "      <td>0</td>\n",
       "      <td>7633</td>\n",
       "      <td>7865</td>\n",
       "      <td>282</td>\n",
       "      <td>1</td>\n",
       "      <td>0</td>\n",
       "      <td>JudyWoods8</td>\n",
       "      <td>0.0</td>\n",
       "      <td>0.001212</td>\n",
       "      <td>0.003967</td>\n",
       "    </tr>\n",
       "    <tr>\n",
       "      <th>...</th>\n",
       "      <td>...</td>\n",
       "      <td>...</td>\n",
       "      <td>...</td>\n",
       "      <td>...</td>\n",
       "      <td>...</td>\n",
       "      <td>...</td>\n",
       "      <td>...</td>\n",
       "      <td>...</td>\n",
       "      <td>...</td>\n",
       "      <td>...</td>\n",
       "      <td>...</td>\n",
       "    </tr>\n",
       "    <tr>\n",
       "      <th>14766</th>\n",
       "      <td>a1a697fbd80147c</td>\n",
       "      <td>0</td>\n",
       "      <td>2449</td>\n",
       "      <td>2825</td>\n",
       "      <td>5</td>\n",
       "      <td>1</td>\n",
       "      <td>0</td>\n",
       "      <td>a1a697fbd80147c</td>\n",
       "      <td>0.0</td>\n",
       "      <td>0.001212</td>\n",
       "      <td>0.003357</td>\n",
       "    </tr>\n",
       "    <tr>\n",
       "      <th>14767</th>\n",
       "      <td>a1a697fbd80147c</td>\n",
       "      <td>0</td>\n",
       "      <td>2449</td>\n",
       "      <td>2825</td>\n",
       "      <td>5</td>\n",
       "      <td>1</td>\n",
       "      <td>0</td>\n",
       "      <td>a1a697fbd80147c</td>\n",
       "      <td>0.0</td>\n",
       "      <td>0.001212</td>\n",
       "      <td>0.003357</td>\n",
       "    </tr>\n",
       "    <tr>\n",
       "      <th>14768</th>\n",
       "      <td>a1a697fbd80147c</td>\n",
       "      <td>0</td>\n",
       "      <td>2449</td>\n",
       "      <td>2825</td>\n",
       "      <td>5</td>\n",
       "      <td>1</td>\n",
       "      <td>0</td>\n",
       "      <td>a1a697fbd80147c</td>\n",
       "      <td>0.0</td>\n",
       "      <td>0.001212</td>\n",
       "      <td>0.003357</td>\n",
       "    </tr>\n",
       "    <tr>\n",
       "      <th>14769</th>\n",
       "      <td>a1a697fbd80147c</td>\n",
       "      <td>0</td>\n",
       "      <td>2449</td>\n",
       "      <td>2825</td>\n",
       "      <td>5</td>\n",
       "      <td>1</td>\n",
       "      <td>0</td>\n",
       "      <td>a1a697fbd80147c</td>\n",
       "      <td>0.0</td>\n",
       "      <td>0.001212</td>\n",
       "      <td>0.003357</td>\n",
       "    </tr>\n",
       "    <tr>\n",
       "      <th>14770</th>\n",
       "      <td>a1a697fbd80147c</td>\n",
       "      <td>0</td>\n",
       "      <td>2449</td>\n",
       "      <td>2825</td>\n",
       "      <td>5</td>\n",
       "      <td>1</td>\n",
       "      <td>0</td>\n",
       "      <td>a1a697fbd80147c</td>\n",
       "      <td>0.0</td>\n",
       "      <td>0.001212</td>\n",
       "      <td>0.003357</td>\n",
       "    </tr>\n",
       "  </tbody>\n",
       "</table>\n",
       "<p>14771 rows × 11 columns</p>\n",
       "</div>"
      ],
      "text/plain": [
       "                    Id  Number of Likes  Followers  Following  Retweet Count  \\\n",
       "0           JudyWoods8                0       7633       7865            282   \n",
       "1           JudyWoods8                0       7633       7865            282   \n",
       "2           JudyWoods8                0       7633       7865            282   \n",
       "3           JudyWoods8                0       7633       7865            282   \n",
       "4           JudyWoods8                0       7633       7865            282   \n",
       "...                ...              ...        ...        ...            ...   \n",
       "14766  a1a697fbd80147c                0       2449       2825              5   \n",
       "14767  a1a697fbd80147c                0       2449       2825              5   \n",
       "14768  a1a697fbd80147c                0       2449       2825              5   \n",
       "14769  a1a697fbd80147c                0       2449       2825              5   \n",
       "14770  a1a697fbd80147c                0       2449       2825              5   \n",
       "\n",
       "       is_retweet  is_mention             User  Betweenness    Degree  \\\n",
       "0               1           0       JudyWoods8          0.0  0.001212   \n",
       "1               1           0       JudyWoods8          0.0  0.001212   \n",
       "2               1           0       JudyWoods8          0.0  0.001212   \n",
       "3               1           0       JudyWoods8          0.0  0.001212   \n",
       "4               1           0       JudyWoods8          0.0  0.001212   \n",
       "...           ...         ...              ...          ...       ...   \n",
       "14766           1           0  a1a697fbd80147c          0.0  0.001212   \n",
       "14767           1           0  a1a697fbd80147c          0.0  0.001212   \n",
       "14768           1           0  a1a697fbd80147c          0.0  0.001212   \n",
       "14769           1           0  a1a697fbd80147c          0.0  0.001212   \n",
       "14770           1           0  a1a697fbd80147c          0.0  0.001212   \n",
       "\n",
       "       Closeness  \n",
       "0       0.003967  \n",
       "1       0.003967  \n",
       "2       0.003967  \n",
       "3       0.003967  \n",
       "4       0.003967  \n",
       "...          ...  \n",
       "14766   0.003357  \n",
       "14767   0.003357  \n",
       "14768   0.003357  \n",
       "14769   0.003357  \n",
       "14770   0.003357  \n",
       "\n",
       "[14771 rows x 11 columns]"
      ]
     },
     "execution_count": 97,
     "metadata": {},
     "output_type": "execute_result"
    }
   ],
   "source": [
    "df_users = metrics.merge(merge2, left_on = 'Id', right_on = 'User')\n",
    "# df_users = df_users.drop(['User','Number of Likes'], axis=1)\n",
    "df_users"
   ]
  },
  {
   "cell_type": "code",
   "execution_count": 101,
   "id": "8ea67bd7",
   "metadata": {},
   "outputs": [],
   "source": [
    "df_users = df_users.drop_duplicates()\n",
    "df_users = df_users.groupby('Id').sum().reset_index()\n",
    "df_users\n",
    "columns_order = ['Id','Followers','Following','is_mention','is_retweet',\n",
    "                  'Retweet Count','Betweenness','Degree','Closeness']\n",
    "df_users = df_users[columns_order]\n",
    "# features = importance[[0,1,3,4,6,8,9,10]]\n",
    "features = np.array([ 7.09229329,  1.54815487, -0.07944707,  0.02034559,  3.78989078,\n",
    "        1.65481484,  2.5711938 ,  2.79476302])"
   ]
  },
  {
   "cell_type": "code",
   "execution_count": 103,
   "id": "6b180a64",
   "metadata": {},
   "outputs": [
    {
     "data": {
      "text/html": [
       "<div>\n",
       "<style scoped>\n",
       "    .dataframe tbody tr th:only-of-type {\n",
       "        vertical-align: middle;\n",
       "    }\n",
       "\n",
       "    .dataframe tbody tr th {\n",
       "        vertical-align: top;\n",
       "    }\n",
       "\n",
       "    .dataframe thead th {\n",
       "        text-align: right;\n",
       "    }\n",
       "</style>\n",
       "<table border=\"1\" class=\"dataframe\">\n",
       "  <thead>\n",
       "    <tr style=\"text-align: right;\">\n",
       "      <th></th>\n",
       "      <th>Id</th>\n",
       "      <th>Followers</th>\n",
       "      <th>Following</th>\n",
       "      <th>is_mention</th>\n",
       "      <th>is_retweet</th>\n",
       "      <th>Retweet Count</th>\n",
       "      <th>Betweenness</th>\n",
       "      <th>Degree</th>\n",
       "      <th>Closeness</th>\n",
       "      <th>Influence Score</th>\n",
       "    </tr>\n",
       "  </thead>\n",
       "  <tbody>\n",
       "    <tr>\n",
       "      <th>0</th>\n",
       "      <td>1foreverseeking</td>\n",
       "      <td>0.000193</td>\n",
       "      <td>0.044495</td>\n",
       "      <td>0.0</td>\n",
       "      <td>0.066667</td>\n",
       "      <td>0.000289</td>\n",
       "      <td>0.000000</td>\n",
       "      <td>0.000000</td>\n",
       "      <td>0.003915</td>\n",
       "      <td>0.083652</td>\n",
       "    </tr>\n",
       "    <tr>\n",
       "      <th>1</th>\n",
       "      <td>1hogfanwps11</td>\n",
       "      <td>0.000035</td>\n",
       "      <td>0.037719</td>\n",
       "      <td>0.0</td>\n",
       "      <td>0.066667</td>\n",
       "      <td>0.009696</td>\n",
       "      <td>0.000000</td>\n",
       "      <td>0.000000</td>\n",
       "      <td>0.025842</td>\n",
       "      <td>0.168967</td>\n",
       "    </tr>\n",
       "    <tr>\n",
       "      <th>2</th>\n",
       "      <td>1i5t3n3r</td>\n",
       "      <td>0.000011</td>\n",
       "      <td>0.004024</td>\n",
       "      <td>0.0</td>\n",
       "      <td>0.066667</td>\n",
       "      <td>0.007236</td>\n",
       "      <td>0.000000</td>\n",
       "      <td>0.000000</td>\n",
       "      <td>0.050481</td>\n",
       "      <td>0.176168</td>\n",
       "    </tr>\n",
       "    <tr>\n",
       "      <th>3</th>\n",
       "      <td>2824Bear</td>\n",
       "      <td>0.000014</td>\n",
       "      <td>0.002125</td>\n",
       "      <td>0.0</td>\n",
       "      <td>0.133333</td>\n",
       "      <td>0.006223</td>\n",
       "      <td>0.000000</td>\n",
       "      <td>0.004149</td>\n",
       "      <td>0.005873</td>\n",
       "      <td>0.056768</td>\n",
       "    </tr>\n",
       "    <tr>\n",
       "      <th>4</th>\n",
       "      <td>2old4thishappy1</td>\n",
       "      <td>0.000171</td>\n",
       "      <td>0.113166</td>\n",
       "      <td>0.0</td>\n",
       "      <td>0.200000</td>\n",
       "      <td>0.007670</td>\n",
       "      <td>0.086173</td>\n",
       "      <td>0.033195</td>\n",
       "      <td>0.244142</td>\n",
       "      <td>1.119818</td>\n",
       "    </tr>\n",
       "    <tr>\n",
       "      <th>...</th>\n",
       "      <td>...</td>\n",
       "      <td>...</td>\n",
       "      <td>...</td>\n",
       "      <td>...</td>\n",
       "      <td>...</td>\n",
       "      <td>...</td>\n",
       "      <td>...</td>\n",
       "      <td>...</td>\n",
       "      <td>...</td>\n",
       "      <td>...</td>\n",
       "    </tr>\n",
       "    <tr>\n",
       "      <th>488</th>\n",
       "      <td>willthiel</td>\n",
       "      <td>0.000011</td>\n",
       "      <td>0.002178</td>\n",
       "      <td>0.0</td>\n",
       "      <td>0.066667</td>\n",
       "      <td>0.001302</td>\n",
       "      <td>0.000000</td>\n",
       "      <td>0.000000</td>\n",
       "      <td>0.057065</td>\n",
       "      <td>0.169226</td>\n",
       "    </tr>\n",
       "    <tr>\n",
       "      <th>489</th>\n",
       "      <td>xlr8mpls</td>\n",
       "      <td>0.000004</td>\n",
       "      <td>0.001002</td>\n",
       "      <td>0.2</td>\n",
       "      <td>0.000000</td>\n",
       "      <td>0.000000</td>\n",
       "      <td>0.000000</td>\n",
       "      <td>0.000000</td>\n",
       "      <td>0.003915</td>\n",
       "      <td>-0.003368</td>\n",
       "    </tr>\n",
       "    <tr>\n",
       "      <th>490</th>\n",
       "      <td>youbic6869</td>\n",
       "      <td>0.000006</td>\n",
       "      <td>0.004228</td>\n",
       "      <td>0.0</td>\n",
       "      <td>0.066667</td>\n",
       "      <td>0.003907</td>\n",
       "      <td>0.000000</td>\n",
       "      <td>0.000000</td>\n",
       "      <td>0.028713</td>\n",
       "      <td>0.103002</td>\n",
       "    </tr>\n",
       "    <tr>\n",
       "      <th>491</th>\n",
       "      <td>yume6tsumi0</td>\n",
       "      <td>0.000212</td>\n",
       "      <td>0.057570</td>\n",
       "      <td>0.4</td>\n",
       "      <td>0.066667</td>\n",
       "      <td>0.001013</td>\n",
       "      <td>0.003743</td>\n",
       "      <td>0.045643</td>\n",
       "      <td>0.046367</td>\n",
       "      <td>0.317183</td>\n",
       "    </tr>\n",
       "    <tr>\n",
       "      <th>492</th>\n",
       "      <td>zahdehz</td>\n",
       "      <td>0.000019</td>\n",
       "      <td>0.075424</td>\n",
       "      <td>0.0</td>\n",
       "      <td>0.066667</td>\n",
       "      <td>0.000289</td>\n",
       "      <td>0.000000</td>\n",
       "      <td>0.012448</td>\n",
       "      <td>0.000000</td>\n",
       "      <td>0.151360</td>\n",
       "    </tr>\n",
       "  </tbody>\n",
       "</table>\n",
       "<p>493 rows × 10 columns</p>\n",
       "</div>"
      ],
      "text/plain": [
       "                  Id  Followers  Following  is_mention  is_retweet  \\\n",
       "0    1foreverseeking   0.000193   0.044495         0.0    0.066667   \n",
       "1       1hogfanwps11   0.000035   0.037719         0.0    0.066667   \n",
       "2           1i5t3n3r   0.000011   0.004024         0.0    0.066667   \n",
       "3           2824Bear   0.000014   0.002125         0.0    0.133333   \n",
       "4    2old4thishappy1   0.000171   0.113166         0.0    0.200000   \n",
       "..               ...        ...        ...         ...         ...   \n",
       "488        willthiel   0.000011   0.002178         0.0    0.066667   \n",
       "489         xlr8mpls   0.000004   0.001002         0.2    0.000000   \n",
       "490       youbic6869   0.000006   0.004228         0.0    0.066667   \n",
       "491      yume6tsumi0   0.000212   0.057570         0.4    0.066667   \n",
       "492          zahdehz   0.000019   0.075424         0.0    0.066667   \n",
       "\n",
       "     Retweet Count  Betweenness    Degree  Closeness  Influence Score  \n",
       "0         0.000289     0.000000  0.000000   0.003915         0.083652  \n",
       "1         0.009696     0.000000  0.000000   0.025842         0.168967  \n",
       "2         0.007236     0.000000  0.000000   0.050481         0.176168  \n",
       "3         0.006223     0.000000  0.004149   0.005873         0.056768  \n",
       "4         0.007670     0.086173  0.033195   0.244142         1.119818  \n",
       "..             ...          ...       ...        ...              ...  \n",
       "488       0.001302     0.000000  0.000000   0.057065         0.169226  \n",
       "489       0.000000     0.000000  0.000000   0.003915        -0.003368  \n",
       "490       0.003907     0.000000  0.000000   0.028713         0.103002  \n",
       "491       0.001013     0.003743  0.045643   0.046367         0.317183  \n",
       "492       0.000289     0.000000  0.012448   0.000000         0.151360  \n",
       "\n",
       "[493 rows x 10 columns]"
      ]
     },
     "execution_count": 103,
     "metadata": {},
     "output_type": "execute_result"
    }
   ],
   "source": [
    "from sklearn.preprocessing import MinMaxScaler\n",
    "#Normalizing A-B dataset\n",
    "scaler = MinMaxScaler()\n",
    "df_users_merged = scaler.fit_transform(df_users.iloc[:,1:])\n",
    "df_top20 = pd.DataFrame(df_users_merged, columns = df_users.iloc[:,1:].columns.values)\n",
    "df_top20.insert(0, 'Id', df_users['Id'])\n",
    "df_top20['Influence Score'] = df_users_merged @ features.T\n",
    "df_top20"
   ]
  },
  {
   "cell_type": "code",
   "execution_count": 107,
   "id": "ced16215",
   "metadata": {},
   "outputs": [],
   "source": [
    "df_influencers = df_top20[['Id','Influence Score']].sort_values(by = 'Influence Score', ascending = False)[:20]"
   ]
  },
  {
   "cell_type": "code",
   "execution_count": 108,
   "id": "0b50a214",
   "metadata": {},
   "outputs": [
    {
     "data": {
      "text/html": [
       "<div>\n",
       "<style scoped>\n",
       "    .dataframe tbody tr th:only-of-type {\n",
       "        vertical-align: middle;\n",
       "    }\n",
       "\n",
       "    .dataframe tbody tr th {\n",
       "        vertical-align: top;\n",
       "    }\n",
       "\n",
       "    .dataframe thead th {\n",
       "        text-align: right;\n",
       "    }\n",
       "</style>\n",
       "<table border=\"1\" class=\"dataframe\">\n",
       "  <thead>\n",
       "    <tr style=\"text-align: right;\">\n",
       "      <th></th>\n",
       "      <th>Id</th>\n",
       "      <th>Influence Score</th>\n",
       "    </tr>\n",
       "  </thead>\n",
       "  <tbody>\n",
       "    <tr>\n",
       "      <th>7</th>\n",
       "      <td>ABPNews</td>\n",
       "      <td>7.920459</td>\n",
       "    </tr>\n",
       "    <tr>\n",
       "      <th>106</th>\n",
       "      <td>GKitty50</td>\n",
       "      <td>7.479940</td>\n",
       "    </tr>\n",
       "    <tr>\n",
       "      <th>392</th>\n",
       "      <td>kelvinchaloh97</td>\n",
       "      <td>4.121975</td>\n",
       "    </tr>\n",
       "    <tr>\n",
       "      <th>399</th>\n",
       "      <td>lancecardiac</td>\n",
       "      <td>3.810972</td>\n",
       "    </tr>\n",
       "    <tr>\n",
       "      <th>207</th>\n",
       "      <td>RBellitzia</td>\n",
       "      <td>3.650721</td>\n",
       "    </tr>\n",
       "    <tr>\n",
       "      <th>192</th>\n",
       "      <td>Nonejm16</td>\n",
       "      <td>3.450426</td>\n",
       "    </tr>\n",
       "    <tr>\n",
       "      <th>117</th>\n",
       "      <td>HillBeverlyhill</td>\n",
       "      <td>3.201278</td>\n",
       "    </tr>\n",
       "    <tr>\n",
       "      <th>201</th>\n",
       "      <td>PatuMarius</td>\n",
       "      <td>2.481719</td>\n",
       "    </tr>\n",
       "    <tr>\n",
       "      <th>45</th>\n",
       "      <td>BrotherLeeLuv</td>\n",
       "      <td>2.460830</td>\n",
       "    </tr>\n",
       "    <tr>\n",
       "      <th>257</th>\n",
       "      <td>TheStudyofWar</td>\n",
       "      <td>2.308745</td>\n",
       "    </tr>\n",
       "    <tr>\n",
       "      <th>307</th>\n",
       "      <td>apidlusky</td>\n",
       "      <td>2.154289</td>\n",
       "    </tr>\n",
       "    <tr>\n",
       "      <th>95</th>\n",
       "      <td>FabioGhironi</td>\n",
       "      <td>2.045299</td>\n",
       "    </tr>\n",
       "    <tr>\n",
       "      <th>188</th>\n",
       "      <td>News18India</td>\n",
       "      <td>1.855316</td>\n",
       "    </tr>\n",
       "    <tr>\n",
       "      <th>335</th>\n",
       "      <td>csarachaga</td>\n",
       "      <td>1.829394</td>\n",
       "    </tr>\n",
       "    <tr>\n",
       "      <th>128</th>\n",
       "      <td>JeanieScovell</td>\n",
       "      <td>1.269903</td>\n",
       "    </tr>\n",
       "    <tr>\n",
       "      <th>377</th>\n",
       "      <td>janrostowski</td>\n",
       "      <td>1.188827</td>\n",
       "    </tr>\n",
       "    <tr>\n",
       "      <th>4</th>\n",
       "      <td>2old4thishappy1</td>\n",
       "      <td>1.119818</td>\n",
       "    </tr>\n",
       "    <tr>\n",
       "      <th>198</th>\n",
       "      <td>PINKGOLDPINK289</td>\n",
       "      <td>1.083551</td>\n",
       "    </tr>\n",
       "    <tr>\n",
       "      <th>199</th>\n",
       "      <td>PJKathmandu</td>\n",
       "      <td>1.051638</td>\n",
       "    </tr>\n",
       "    <tr>\n",
       "      <th>336</th>\n",
       "      <td>cucojose</td>\n",
       "      <td>1.021367</td>\n",
       "    </tr>\n",
       "  </tbody>\n",
       "</table>\n",
       "</div>"
      ],
      "text/plain": [
       "                  Id  Influence Score\n",
       "7            ABPNews         7.920459\n",
       "106         GKitty50         7.479940\n",
       "392   kelvinchaloh97         4.121975\n",
       "399     lancecardiac         3.810972\n",
       "207       RBellitzia         3.650721\n",
       "192         Nonejm16         3.450426\n",
       "117  HillBeverlyhill         3.201278\n",
       "201       PatuMarius         2.481719\n",
       "45     BrotherLeeLuv         2.460830\n",
       "257    TheStudyofWar         2.308745\n",
       "307        apidlusky         2.154289\n",
       "95      FabioGhironi         2.045299\n",
       "188      News18India         1.855316\n",
       "335       csarachaga         1.829394\n",
       "128    JeanieScovell         1.269903\n",
       "377     janrostowski         1.188827\n",
       "4    2old4thishappy1         1.119818\n",
       "198  PINKGOLDPINK289         1.083551\n",
       "199      PJKathmandu         1.051638\n",
       "336         cucojose         1.021367"
      ]
     },
     "execution_count": 108,
     "metadata": {},
     "output_type": "execute_result"
    }
   ],
   "source": [
    "df_influencers"
   ]
  },
  {
   "cell_type": "code",
   "execution_count": 109,
   "id": "d23be3f5",
   "metadata": {},
   "outputs": [
    {
     "data": {
      "text/plain": [
       "['ABPNews',\n",
       " 'GKitty50',\n",
       " 'kelvinchaloh97',\n",
       " 'lancecardiac',\n",
       " 'RBellitzia',\n",
       " 'Nonejm16',\n",
       " 'HillBeverlyhill',\n",
       " 'PatuMarius',\n",
       " 'BrotherLeeLuv',\n",
       " 'TheStudyofWar',\n",
       " 'apidlusky',\n",
       " 'FabioGhironi',\n",
       " 'News18India',\n",
       " 'csarachaga',\n",
       " 'JeanieScovell',\n",
       " 'janrostowski',\n",
       " '2old4thishappy1',\n",
       " 'PINKGOLDPINK289',\n",
       " 'PJKathmandu',\n",
       " 'cucojose']"
      ]
     },
     "execution_count": 109,
     "metadata": {},
     "output_type": "execute_result"
    }
   ],
   "source": [
    "ukrus_infl = df_influencers['Id'].tolist()\n",
    "ukrus_infl"
   ]
  },
  {
   "cell_type": "markdown",
   "id": "3a8e670c",
   "metadata": {},
   "source": [
    "# Determining Self-sufficiency of network"
   ]
  },
  {
   "cell_type": "code",
   "execution_count": 111,
   "id": "43faf117",
   "metadata": {},
   "outputs": [],
   "source": [
    "df6 = df5[~df5['Id1'].isin(ukrus_infl)]\n",
    "df7 = df6[~df6['Id2'].isin(ukrus_infl)]"
   ]
  },
  {
   "cell_type": "code",
   "execution_count": 112,
   "id": "836b2ee9",
   "metadata": {},
   "outputs": [
    {
     "data": {
      "text/html": [
       "<div>\n",
       "<style scoped>\n",
       "    .dataframe tbody tr th:only-of-type {\n",
       "        vertical-align: middle;\n",
       "    }\n",
       "\n",
       "    .dataframe tbody tr th {\n",
       "        vertical-align: top;\n",
       "    }\n",
       "\n",
       "    .dataframe thead th {\n",
       "        text-align: right;\n",
       "    }\n",
       "</style>\n",
       "<table border=\"1\" class=\"dataframe\">\n",
       "  <thead>\n",
       "    <tr style=\"text-align: right;\">\n",
       "      <th></th>\n",
       "      <th>Id1</th>\n",
       "      <th>Id2</th>\n",
       "      <th>Interaction</th>\n",
       "    </tr>\n",
       "  </thead>\n",
       "  <tbody>\n",
       "    <tr>\n",
       "      <th>0</th>\n",
       "      <td>JudyWoods8</td>\n",
       "      <td>igorsushko</td>\n",
       "      <td>RT</td>\n",
       "    </tr>\n",
       "    <tr>\n",
       "      <th>1</th>\n",
       "      <td>anchorjiya</td>\n",
       "      <td>anchorjiya</td>\n",
       "      <td>RT</td>\n",
       "    </tr>\n",
       "    <tr>\n",
       "      <th>2</th>\n",
       "      <td>AndriyBoguslav</td>\n",
       "      <td>EmineDzheppar</td>\n",
       "      <td>RT</td>\n",
       "    </tr>\n",
       "    <tr>\n",
       "      <th>2</th>\n",
       "      <td>AndriyBoguslav</td>\n",
       "      <td>coe</td>\n",
       "      <td>RT</td>\n",
       "    </tr>\n",
       "    <tr>\n",
       "      <th>2</th>\n",
       "      <td>AndriyBoguslav</td>\n",
       "      <td>Dunja_Mijatovic</td>\n",
       "      <td>RT</td>\n",
       "    </tr>\n",
       "    <tr>\n",
       "      <th>...</th>\n",
       "      <td>...</td>\n",
       "      <td>...</td>\n",
       "      <td>...</td>\n",
       "    </tr>\n",
       "    <tr>\n",
       "      <th>13161</th>\n",
       "      <td>craigthomler</td>\n",
       "      <td>JoeBran03134872</td>\n",
       "      <td>RT</td>\n",
       "    </tr>\n",
       "    <tr>\n",
       "      <th>13161</th>\n",
       "      <td>craigthomler</td>\n",
       "      <td>THE_RonTheDon</td>\n",
       "      <td>RT</td>\n",
       "    </tr>\n",
       "    <tr>\n",
       "      <th>13161</th>\n",
       "      <td>craigthomler</td>\n",
       "      <td>RWApodcast</td>\n",
       "      <td>RT</td>\n",
       "    </tr>\n",
       "    <tr>\n",
       "      <th>13162</th>\n",
       "      <td>FroodyWisco</td>\n",
       "      <td>ukraine_world</td>\n",
       "      <td>RT</td>\n",
       "    </tr>\n",
       "    <tr>\n",
       "      <th>13163</th>\n",
       "      <td>AimieeMobley</td>\n",
       "      <td>Therealgsns</td>\n",
       "      <td>RT</td>\n",
       "    </tr>\n",
       "  </tbody>\n",
       "</table>\n",
       "<p>11328 rows × 3 columns</p>\n",
       "</div>"
      ],
      "text/plain": [
       "                  Id1              Id2 Interaction\n",
       "0          JudyWoods8       igorsushko          RT\n",
       "1          anchorjiya       anchorjiya          RT\n",
       "2      AndriyBoguslav    EmineDzheppar          RT\n",
       "2      AndriyBoguslav              coe          RT\n",
       "2      AndriyBoguslav  Dunja_Mijatovic          RT\n",
       "...               ...              ...         ...\n",
       "13161    craigthomler  JoeBran03134872          RT\n",
       "13161    craigthomler    THE_RonTheDon          RT\n",
       "13161    craigthomler       RWApodcast          RT\n",
       "13162     FroodyWisco    ukraine_world          RT\n",
       "13163    AimieeMobley      Therealgsns          RT\n",
       "\n",
       "[11328 rows x 3 columns]"
      ]
     },
     "execution_count": 112,
     "metadata": {},
     "output_type": "execute_result"
    }
   ],
   "source": [
    "df7"
   ]
  },
  {
   "cell_type": "code",
   "execution_count": 113,
   "id": "e0264c53",
   "metadata": {},
   "outputs": [
    {
     "data": {
      "text/plain": [
       "<networkx.classes.graph.Graph at 0x2c67909f040>"
      ]
     },
     "execution_count": 113,
     "metadata": {},
     "output_type": "execute_result"
    }
   ],
   "source": [
    "G = nx.from_pandas_edgelist(df7, source=\"Id1\", target=\"Id2\")\n",
    "G"
   ]
  },
  {
   "cell_type": "code",
   "execution_count": 114,
   "id": "3eaf0d8f",
   "metadata": {},
   "outputs": [
    {
     "name": "stdout",
     "output_type": "stream",
     "text": [
      "Local cdn resources have problems on chrome/safari when used in jupyter-notebook. \n"
     ]
    },
    {
     "data": {
      "text/html": [
       "\n",
       "        <iframe\n",
       "            width=\"100%\"\n",
       "            height=\"600px\"\n",
       "            src=\"footballnetwork.html\"\n",
       "            frameborder=\"0\"\n",
       "            allowfullscreen\n",
       "            \n",
       "        ></iframe>\n",
       "        "
      ],
      "text/plain": [
       "<IPython.lib.display.IFrame at 0x2c67909faf0>"
      ]
     },
     "execution_count": 114,
     "metadata": {},
     "output_type": "execute_result"
    }
   ],
   "source": [
    "net = Network(notebook=True)\n",
    "net.from_nx(G)\n",
    "net.show(\"footballnetwork.html\")"
   ]
  },
  {
   "cell_type": "code",
   "execution_count": null,
   "id": "aaf40e6f",
   "metadata": {},
   "outputs": [],
   "source": []
  }
 ],
 "metadata": {
  "kernelspec": {
   "display_name": "Python 3 (ipykernel)",
   "language": "python",
   "name": "python3"
  },
  "language_info": {
   "codemirror_mode": {
    "name": "ipython",
    "version": 3
   },
   "file_extension": ".py",
   "mimetype": "text/x-python",
   "name": "python",
   "nbconvert_exporter": "python",
   "pygments_lexer": "ipython3",
   "version": "3.9.12"
  }
 },
 "nbformat": 4,
 "nbformat_minor": 5
}
